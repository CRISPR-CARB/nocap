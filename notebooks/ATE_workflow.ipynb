{
 "cells": [
  {
   "cell_type": "code",
   "execution_count": 44,
   "metadata": {},
   "outputs": [],
   "source": [
    "import networkx as nx \n",
    "import y0\n",
    "from y0.graph import NxMixedGraph\n",
    "from y0.algorithm.estimation.linear_scm import get_single_door\n",
    "from y0.simulation import get_fits_df, simulate, LinearSCM, example_generators, example_graph\n",
    "from y0.dsl import V1, V2, V3, V4, V5, V6, Variable\n",
    "from functools import partial\n",
    "import pandas as pd\n",
    "import sympy as sy\n",
    "from nocap import scm\n",
    "import numpy as np\n",
    "from numpy.random import normal, uniform\n",
    "import pgmpy\n",
    "from pgmpy.models import BayesianNetwork\n",
    "#!pip install pgmpy\n",
    "\n",
    "from statistics import fmean\n",
    "\n",
    "import sympy\n",
    "from sklearn.linear_model import LinearRegression\n"
   ]
  },
  {
   "cell_type": "code",
   "execution_count": 45,
   "metadata": {},
   "outputs": [
    {
     "name": "stdout",
     "output_type": "stream",
     "text": [
      "actual edge weights: {(V1, V2): 0.3745401188473625, (V1, V4): 0.9507143064099162, (V2, V5): 0.7319939418114051, (V4, V5): 0.5986584841970366, (V4, V6): 0.15601864044243652, (V5, V6): 0.15599452033620265, (V3, V5): 0.05808361216819946}\n"
     ]
    },
    {
     "data": {
      "text/html": [
       "<div>\n",
       "<style scoped>\n",
       "    .dataframe tbody tr th:only-of-type {\n",
       "        vertical-align: middle;\n",
       "    }\n",
       "\n",
       "    .dataframe tbody tr th {\n",
       "        vertical-align: top;\n",
       "    }\n",
       "\n",
       "    .dataframe thead th {\n",
       "        text-align: right;\n",
       "    }\n",
       "</style>\n",
       "<table border=\"1\" class=\"dataframe\">\n",
       "  <thead>\n",
       "    <tr style=\"text-align: right;\">\n",
       "      <th></th>\n",
       "      <th>V1</th>\n",
       "      <th>V3</th>\n",
       "      <th>V2</th>\n",
       "      <th>V4</th>\n",
       "      <th>V5</th>\n",
       "      <th>V6</th>\n",
       "    </tr>\n",
       "  </thead>\n",
       "  <tbody>\n",
       "    <tr>\n",
       "      <th>0</th>\n",
       "      <td>0.732352</td>\n",
       "      <td>0.202230</td>\n",
       "      <td>0.690440</td>\n",
       "      <td>-0.262573</td>\n",
       "      <td>1.299773</td>\n",
       "      <td>0.826676</td>\n",
       "    </tr>\n",
       "    <tr>\n",
       "      <th>1</th>\n",
       "      <td>-0.575322</td>\n",
       "      <td>-0.636350</td>\n",
       "      <td>-0.848672</td>\n",
       "      <td>-0.938482</td>\n",
       "      <td>-1.170502</td>\n",
       "      <td>-0.465123</td>\n",
       "    </tr>\n",
       "    <tr>\n",
       "      <th>2</th>\n",
       "      <td>-0.417542</td>\n",
       "      <td>0.223706</td>\n",
       "      <td>-0.877398</td>\n",
       "      <td>-0.812674</td>\n",
       "      <td>-1.383047</td>\n",
       "      <td>-0.430400</td>\n",
       "    </tr>\n",
       "    <tr>\n",
       "      <th>3</th>\n",
       "      <td>0.570352</td>\n",
       "      <td>-0.600652</td>\n",
       "      <td>0.242089</td>\n",
       "      <td>0.727071</td>\n",
       "      <td>-0.329513</td>\n",
       "      <td>0.277124</td>\n",
       "    </tr>\n",
       "    <tr>\n",
       "      <th>4</th>\n",
       "      <td>-0.658952</td>\n",
       "      <td>-0.869897</td>\n",
       "      <td>0.650967</td>\n",
       "      <td>0.304789</td>\n",
       "      <td>1.225237</td>\n",
       "      <td>-0.152089</td>\n",
       "    </tr>\n",
       "  </tbody>\n",
       "</table>\n",
       "</div>"
      ],
      "text/plain": [
       "         V1        V3        V2        V4        V5        V6\n",
       "0  0.732352  0.202230  0.690440 -0.262573  1.299773  0.826676\n",
       "1 -0.575322 -0.636350 -0.848672 -0.938482 -1.170502 -0.465123\n",
       "2 -0.417542  0.223706 -0.877398 -0.812674 -1.383047 -0.430400\n",
       "3  0.570352 -0.600652  0.242089  0.727071 -0.329513  0.277124\n",
       "4 -0.658952 -0.869897  0.650967  0.304789  1.225237 -0.152089"
      ]
     },
     "metadata": {},
     "output_type": "display_data"
    },
    {
     "name": "stdout",
     "output_type": "stream",
     "text": [
      "estimated edge weights: {(V1, V2): 0.37824213041752636, (V1, V4): 0.9552183862001729, (V2, V5): 0.731226167699574, (V4, V5): 0.5973262837270417, (V4, V6): 0.1552518605586741, (V5, V6): 0.15351805324974302, (V3, V5): 0.05827255711736592}\n"
     ]
    },
    {
     "data": {
      "image/png": "[encoded data removed]",
      "text/plain": [
       "<Figure size 640x480 with 1 Axes>"
      ]
     },
     "metadata": {},
     "output_type": "display_data"
    }
   ],
   "source": [
    "def get_single_door_updated(\n",
    "    graph: NxMixedGraph, data: pd.DataFrame\n",
    ") -> dict[tuple[Variable, Variable], float]:\n",
    "    \"\"\"Estimate parameter values for a linear SCM using backdoor adjustment.\"\"\"\n",
    "    rv = {}\n",
    "    \n",
    "    for source, target in graph.directed.edges():\n",
    "        temp_graph = graph.copy()\n",
    "        temp_graph.directed.remove_edge(source, target) # remove edge from source to target\n",
    "        #pgmpy_graph = temp_graph.to_pgmpy_bayesian_network()\n",
    "        pgmpy_graph = to_pgmpy_bayesian_network_updated(temp_graph)\n",
    "        try:\n",
    "            raw_adjustment_sets = pgmpy_graph.minimal_dseparator(source.name, target.name)\n",
    "            if raw_adjustment_sets is None:\n",
    "                # There are no valid adjustment sets.\n",
    "                continue\n",
    "            # Ensure we have a set of frozensets, with each frozenset containing variable names\n",
    "            adjustment_sets = {frozenset([adjustment_set]) if isinstance(adjustment_set, str) else frozenset(adjustment_set) for adjustment_set in raw_adjustment_sets}\n",
    "        except ValueError:\n",
    "            # There are no valid adjustment sets.\n",
    "            continue\n",
    "        if not adjustment_sets:\n",
    "            # There is a valid adjustment set, and it is the empty set, so just regress the target on the source.\n",
    "            adjustment_sets = frozenset([frozenset([])])\n",
    "        coefficients = []\n",
    "        for adjustment_set in adjustment_sets:\n",
    "            # Ensure adjustment_set is a set before performing the union operation.\n",
    "            variables = sorted(set(adjustment_set) | {source.name})\n",
    "            idx = variables.index(source.name)\n",
    "            model = LinearRegression()\n",
    "            model.fit(data[variables], data[target.name])\n",
    "            coefficients.append(model.coef_[idx])\n",
    "        rv[source, target] = fmean(coefficients)\n",
    "    return rv\n",
    "\n",
    "\n",
    "def to_pgmpy_bayesian_network_updated(graph:NxMixedGraph) -> BayesianNetwork:\n",
    "    \"\"\"Convert a mixed graph to an equivalent :class:`pgmpy.BayesianNetwork`.\"\"\"\n",
    "\n",
    "    # Get all directed edges with node names\n",
    "    edges = [(u.name, v.name) for u, v in graph.directed.edges()]\n",
    "    \n",
    "    # Initialize set for latent variables\n",
    "    latents = set()\n",
    "    \n",
    "    # Handle undirected edges by introducing latent variables\n",
    "    for u, v in graph.undirected.edges():\n",
    "        latent = f\"U_{u.name}_{v.name}\"\n",
    "        latents.add(latent)\n",
    "        edges.append((latent, u.name))\n",
    "        edges.append((latent, v.name))\n",
    "    \n",
    "    # Initialize the BayesianNetwork with edges\n",
    "    model = BayesianNetwork(ebunch=edges, latents=latents)\n",
    "    \n",
    "    # Add all original nodes to the BayesianNetwork\n",
    "    for node in graph.directed.nodes():\n",
    "        if node.name not in model.nodes():\n",
    "            model.add_node(node.name)\n",
    "    \n",
    "    return model\n",
    "\n",
    "\n",
    "\n",
    "np.random.seed(42)\n",
    "\n",
    "# create model\n",
    "graph = example_graph # NxMixedGraph\n",
    "\n",
    "graph.draw(prog=\"neato\")\n",
    "\n",
    "node_generators = {node: partial(uniform, low=-1.0, high=1.0) for node in graph.nodes()}\n",
    "\n",
    "edge_weights = {edge: uniform(low=0.0, high=1.0) for edge in graph.directed.edges()}\n",
    "print(f\"actual edge weights: {edge_weights}\")\n",
    "\n",
    "\n",
    "# simulate data\n",
    "df, fits = simulate(graph=graph, trials=100000, generators=node_generators, weights=edge_weights)\n",
    "display(df.head())\n",
    "\n",
    "# calibrate model (edge weights) to data \n",
    "estimated_edge_weights = get_single_door_updated(graph,df)\n",
    "print(f\"estimated edge weights: {estimated_edge_weights}\")\n",
    "\n",
    "for edge, weight in edge_weights.items():\n",
    "        estimated_weight = estimated_edge_weights[edge]\n",
    "        # Use numpy.allclose to compare the weights with a tolerance\n",
    "        assert np.allclose(weight, estimated_weight, atol=1e-2), f\"Edge {edge}: expected {weight}, got {estimated_weight}\"\n",
    "\n",
    "\n"
   ]
  },
  {
   "cell_type": "code",
   "execution_count": 28,
   "metadata": {},
   "outputs": [
    {
     "data": {
      "image/png": "[encoded data removed]",
      "text/plain": [
       "<Figure size 640x480 with 1 Axes>"
      ]
     },
     "metadata": {},
     "output_type": "display_data"
    }
   ],
   "source": [
    "treatment_graph = graph.intervene(variables={V4})\n",
    "treatment_graph.draw(prog=\"neato\")"
   ]
  },
  {
   "cell_type": "code",
   "execution_count": 47,
   "metadata": {},
   "outputs": [
    {
     "name": "stdout",
     "output_type": "stream",
     "text": [
      "intervened_edge_weights: {(V1, V2): 0.3745401188473625, (V1, V4): 0, (V2, V5): 0.7319939418114051, (V4, V5): 0.5986584841970366, (V4, V6): 0.15601864044243652, (V5, V6): 0.15599452033620265, (V3, V5): 0.05808361216819946}\n",
      "         V1        V3        V2        V4        V5        V6\n",
      "0 -0.296121  0.867577  0.328011  0.324733  1.024278  0.333006\n",
      "1 -0.585925 -0.559909  0.475651 -0.513649 -0.340926 -1.130630\n",
      "2 -0.568080  0.000271 -0.798710 -0.645409 -0.759740 -0.226583\n",
      "3  0.739334  0.890955 -0.411569  0.920228  0.620526 -0.307501\n",
      "4 -0.072252 -0.014158 -0.391429  0.385206 -0.598086  0.548734\n"
     ]
    }
   ],
   "source": [
    "def remove_incoming_edge_weights(edges_dict, target_node):\n",
    "    \"\"\"Return a new dictionary with weights of incoming edges to the target node set to 0.\"\"\"\n",
    "    # Create a new dictionary to avoid modifying the original\n",
    "    new_edges_dict = edges_dict.copy()\n",
    "    \n",
    "    # Iterate over the edges and update the weight if it's an incoming edge to the target node\n",
    "    for edge, weight in edges_dict.items():\n",
    "        if edge[1] == target_node:\n",
    "            new_edges_dict[edge] = 0\n",
    "    \n",
    "    return new_edges_dict\n",
    "\n",
    "intervention_target = V4\n",
    "intervened_edge_weights = remove_incoming_edge_weights(edge_weights, intervention_target)\n",
    "print(f\"intervened_edge_weights: {intervened_edge_weights}\")\n",
    "\n",
    "intervened_df, intervened_fits = simulate(graph=graph, trials=10000, generators=node_generators, weights=intervened_edge_weights)\n",
    "print(intervened_df.head())\n",
    "\n"
   ]
  },
  {
   "cell_type": "code",
   "execution_count": 48,
   "metadata": {},
   "outputs": [
    {
     "name": "stdout",
     "output_type": "stream",
     "text": [
      "ATE - intervening on V4: {V1: -0.006957483205771406, V2: -0.0055909905959155935, V3: 0.0021169172535607057, V4: -0.004001050727930042, V5: -0.00784432168022986, V6: 0.0021367288144334604}\n"
     ]
    }
   ],
   "source": [
    "def compute_average_treatment_effect(treatment1:pd.DataFrame, treatment2:pd.DataFrame, outcome_variables:list[Variable])->dict[Variable,float]:\n",
    "    \"Computes the average treatment effect (i.e., E[Y1-Y0]).\"\n",
    "\n",
    "    avg_treatment_effect_dict = {}\n",
    "    for v in outcome_variables:\n",
    "        avg_untreated = treatment1.loc[:, str(v)].mean()\n",
    "        avg_treated = treatment2.loc[:, str(v)].mean()\n",
    "        avg_treatment_effect = avg_treated - avg_untreated\n",
    "        avg_treatment_effect_dict[v] = avg_treatment_effect\n",
    "    return avg_treatment_effect_dict\n",
    "\n",
    "\n",
    "avg_treatment_effect_dict = compute_average_treatment_effect(df, intervened_df, [V1, V2, V3, V4, V5, V6])\n",
    "print(f'ATE - intervening on {intervention_target}: {avg_treatment_effect_dict}')"
   ]
  },
  {
   "cell_type": "markdown",
   "metadata": {},
   "source": [
    "# E. Coli."
   ]
  },
  {
   "cell_type": "code",
   "execution_count": 33,
   "metadata": {},
   "outputs": [
    {
     "name": "stdout",
     "output_type": "stream",
     "text": [
      "9678\n"
     ]
    },
    {
     "name": "stderr",
     "output_type": "stream",
     "text": [
      "/Users/geor228/Github/nocap/src/nocap/utility.py:54: UserWarning: regulatee: patA has no polarity\n",
      "  warnings.warn(f\"regulatee: {regulatee} has no polarity\")\n",
      "/Users/geor228/Github/nocap/src/nocap/utility.py:54: UserWarning: regulatee: eutD has no polarity\n",
      "  warnings.warn(f\"regulatee: {regulatee} has no polarity\")\n",
      "/Users/geor228/Github/nocap/src/nocap/utility.py:54: UserWarning: regulatee: eutM has no polarity\n",
      "  warnings.warn(f\"regulatee: {regulatee} has no polarity\")\n",
      "/Users/geor228/Github/nocap/src/nocap/utility.py:54: UserWarning: regulatee: eutP has no polarity\n",
      "  warnings.warn(f\"regulatee: {regulatee} has no polarity\")\n",
      "/Users/geor228/Github/nocap/src/nocap/utility.py:54: UserWarning: regulatee: eutQ has no polarity\n",
      "  warnings.warn(f\"regulatee: {regulatee} has no polarity\")\n",
      "/Users/geor228/Github/nocap/src/nocap/utility.py:54: UserWarning: regulatee: eutS has no polarity\n",
      "  warnings.warn(f\"regulatee: {regulatee} has no polarity\")\n",
      "/Users/geor228/Github/nocap/src/nocap/utility.py:54: UserWarning: regulatee: eutT has no polarity\n",
      "  warnings.warn(f\"regulatee: {regulatee} has no polarity\")\n",
      "/Users/geor228/Github/nocap/src/nocap/utility.py:54: UserWarning: regulatee: feoA has no polarity\n",
      "  warnings.warn(f\"regulatee: {regulatee} has no polarity\")\n",
      "/Users/geor228/Github/nocap/src/nocap/utility.py:54: UserWarning: regulatee: feoB has no polarity\n",
      "  warnings.warn(f\"regulatee: {regulatee} has no polarity\")\n",
      "/Users/geor228/Github/nocap/src/nocap/utility.py:54: UserWarning: regulatee: feoC has no polarity\n",
      "  warnings.warn(f\"regulatee: {regulatee} has no polarity\")\n"
     ]
    }
   ],
   "source": [
    "from nocap import utility\n",
    "\n",
    "np.random.seed(42)\n",
    "# load ecoli network\n",
    "\n",
    "file_path = \"/Users/geor228/Github/nocap/notebooks/ecoli/ECOLI-regulatory-network.txt\"\n",
    "ecoli_network = utility.parse_regulation_file(file_path)\n",
    "\n",
    "print(len(ecoli_network.edges))\n",
    "\n",
    "#nx.write_graphml(ecoli_network, \"ecoli_full_network.graphml\")"
   ]
  },
  {
   "cell_type": "markdown",
   "metadata": {},
   "source": [
    "## fadR"
   ]
  },
  {
   "cell_type": "code",
   "execution_count": 59,
   "metadata": {},
   "outputs": [
    {
     "name": "stdout",
     "output_type": "stream",
     "text": [
      "134\n",
      "524\n"
     ]
    }
   ],
   "source": [
    "# fadR\n",
    "fadr_graph = utility.get_subgraph_from_nodes(ecoli_network, ['fadR'], descendants_only=False)\n",
    "fadr_graph_dag = utility.convert_to_acyclic_graph_fancy(fadr_graph, 'fadR')\n",
    "fadr_graph_mixed = NxMixedGraph.from_str_edges(directed=fadr_graph_dag.edges)\n",
    "print(len(fadr_graph_mixed.directed.nodes))\n",
    "print(len(fadr_graph_mixed.directed.edges))"
   ]
  },
  {
   "cell_type": "code",
   "execution_count": 64,
   "metadata": {},
   "outputs": [
    {
     "name": "stdout",
     "output_type": "stream",
     "text": [
      "actual edge weights: {(accB, accC): 0.3745401188473625, (rseX, ihfB): 0.9507143064099162, (ihfB, aceA): 0.7319939418114051, (ihfB, aceB): 0.5986584841970366, (ihfB, aceK): 0.15601864044243652, (ihfB, csgD): 0.15599452033620265, (ihfB, fis): 0.05808361216819946, (ihfB, flhC): 0.8661761457749352, (ihfB, flhD): 0.6011150117432088, (ihfB, fliA): 0.7080725777960455, (ihfB, fliZ): 0.020584494295802447, (ihfB, fnr): 0.9699098521619943, (ihfB, hipA): 0.8324426408004217, (ihfB, hipB): 0.21233911067827616, (ihfB, micF): 0.18182496720710062, (ihfB, ompR): 0.18340450985343382, (ihfB, rpoE): 0.3042422429595377, (ihfB, rpoH): 0.5247564316322378, (ihfB, uspA): 0.43194501864211576, (flhD, aceB): 0.2912291401980419, (flhD, iclR): 0.6118528947223795, (iclR, aceA): 0.13949386065204183, (iclR, aceB): 0.29214464853521815, (iclR, aceK): 0.3663618432936917, (phoP, fadL): 0.45606998421703593, (phoP, gadE): 0.7851759613930136, (phoP, gadW): 0.19967378215835974, (phoP, mgrR): 0.5142344384136116, (phoP, rstA): 0.5924145688620425, (phoP, ydeO): 0.046450412719997725, (gadE, rcsA): 0.6075448519014384, (gadW, gadE): 0.17052412368729153, (mgrR, soxS): 0.06505159298527952, (rstA, csgD): 0.9488855372533332, (ydeO, gadE): 0.9656320330745594, (ydeO, gadW): 0.8083973481164611, (marA, micF): 0.3046137691733707, (glaR, gadW): 0.09767211400638387, (glaR, gadX): 0.6842330265121569, (glaR, gcvA): 0.4401524937396013, (glaR, pdhR): 0.12203823484477883, (glaR, ydeO): 0.4951769101112702, (glaR, yjjQ): 0.034388521115218396, (glaR, zraR): 0.9093204020787821, (gadX, gadE): 0.2587799816000169, (gcvA, gcvB): 0.662522284353982, (pdhR, fadE): 0.31171107608941095, (pdhR, fadH): 0.5200680211778108, (pdhR, fadL): 0.5467102793432796, (pdhR, fadM): 0.18485445552552704, (yjjQ, flhC): 0.9695846277645586, (yjjQ, flhD): 0.7751328233611146, (zraR, fliA): 0.9394989415641891, (zraR, gadW): 0.8948273504276488, (zraR, rpoH): 0.5978999788110851, (lrhA, flhC): 0.9218742350231168, (lrhA, flhD): 0.0884925020519195, (lrhA, leuO): 0.1959828624191452, (flhC, aceB): 0.045227288910538066, (flhC, iclR): 0.32533033076326434, (leuO, bglJ): 0.388677289689482, (leuO, yjjQ): 0.2713490317738959, (glrR, rpoE): 0.8287375091519293, (rpoE, asflhD): 0.3567533266935893, (rpoE, cyaR): 0.28093450968738076, (rpoE, fadM): 0.5426960831582485, (rpoE, matA): 0.14092422497476265, (rpoE, rybB): 0.8021969807540397, (oxyR, fur): 0.07455064367977082, (oxyR, oxyS): 0.9868869366005173, (fur, flhC): 0.7722447692966574, (fur, flhD): 0.1987156815341724, (fur, fnr): 0.005522117123602399, (fur, soxR): 0.8154614284548342, (fur, soxS): 0.7068573438476171, (oxyS, flhC): 0.7290071680409873, (oxyS, flhD): 0.7712703466859457, (oxyS, rpoS): 0.07404465173409036, (dsrA, hns): 0.3584657285442726, (dsrA, lrp): 0.11586905952512971, (dsrA, rpoS): 0.8631034258755935, (hns, bglJ): 0.6232981268275579, (hns, bolA): 0.3308980248526492, (hns, csgD): 0.06355835028602363, (hns, cspA): 0.3109823217156622, (hns, evgA): 0.32518332202674705, (hns, flhC): 0.7296061783380641, (hns, flhD): 0.6375574713552131, (hns, fliA): 0.8872127425763265, (hns, fliZ): 0.4722149251619493, (hns, gadE): 0.1195942459383017, (hns, gadW): 0.713244787222995, (hns, gadX): 0.7607850486168974, (hns, hdfR): 0.5612771975694962, (hns, leuO): 0.770967179954561, (hns, lrp): 0.49379559636439074, (hns, micF): 0.5227328293819941, (hns, rcsA): 0.42754101835854963, (hns, rcsB): 0.02541912674409519, (hns, stpA): 0.10789142699330445, (hns, ydeO): 0.03142918568673425, (hns, yjjQ): 0.6364104112637804, (lrp, aceB): 0.3143559810763267, (lrp, deaD): 0.5085706911647028, (lrp, fadI): 0.907566473926093, (lrp, fadL): 0.24929222914887494, (lrp, fliA): 0.41038292303562973, (lrp, gadW): 0.7555511385430487, (lrp, gadY): 0.22879816549162246, (lrp, leuO): 0.07697990982879299, (lrp, lrhA): 0.289751452913768, (lrp, micF): 0.16122128725400442, (lrp, nac): 0.9296976523425731, (lrp, qseB): 0.808120379564417, (lrp, rpoN): 0.6334037565104235, (lrp, slyA): 0.8714605901877177, (lrp, soxS): 0.8036720768991145, (lrp, stpA): 0.18657005888603584, (rpoS, arrS): 0.8925589984899778, (rpoS, bolA): 0.5393422419156507, (rpoS, csgD): 0.8074401551640625, (rpoS, csrA): 0.8960912999234932, (rpoS, cyaR): 0.3180034749718639, (rpoS, evgA): 0.11005192452767676, (rpoS, fadL): 0.22793516254194168, (rpoS, gadE): 0.4271077886262563, (rpoS, gadW): 0.8180147659224931, (rpoS, gadX): 0.8607305832563434, (rpoS, gadY): 0.006952130531190703, (rpoS, hdfR): 0.5107473025775657, (rpoS, ihfA): 0.417411003148779, (rpoS, ihfB): 0.22210781047073025, (rpoS, micF): 0.1198653673336828, (rpoS, mlrA): 0.33761517140362796, (rpoS, pdhR): 0.9429097039125192, (rpoS, rpoE): 0.32320293202075523, (rpoS, rpoH): 0.5187906217433661, (rpoS, sgrS): 0.7030189588951778, (sgrR, sgrS): 0.363629602379294, (sgrS, adiY): 0.9717820827209607, (soxS, marA): 0.9624472949421112, (soxS, marR): 0.25178229582536416, (soxS, micF): 0.49724850589238545, (soxS, rob): 0.30087830981676966, (marR, marA): 0.2848404943774676, (rob, fadA): 0.036886947354532795, (rob, fadB): 0.6095643339798968, (rob, fadD): 0.5026790232288615, (rob, fadL): 0.05147875124998935, (rob, marA): 0.27864646423661144, (rob, marR): 0.9082658859666537, (rob, micF): 0.23956189066697242, (cytR, rpoH): 0.1448948720912231, (rpoH, ydeO): 0.489452760277563, (bolA, csgD): 0.9856504541106007, (evgA, gadE): 0.2420552715115004, (evgA, ydeO): 0.6721355474058786, (fliA, fliZ): 0.7616196153287176, (fliZ, csgD): 0.23763754399239967, (fliZ, flhC): 0.7282163486118596, (fliZ, flhD): 0.3677831327192532, (fliZ, gadE): 0.6323058305935795, (fliZ, mlrA): 0.6335297107608947, (hdfR, flhC): 0.5357746840747585, (hdfR, flhD): 0.0902897700544083, (rcsA, csgD): 0.835302495589238, (rcsA, flhC): 0.32078006497173583, (rcsA, flhD): 0.18651851039985423, (rcsB, csgD): 0.040775141554763916, (rcsB, flhC): 0.5908929431882418, (rcsB, flhD): 0.6775643618422824, (rcsB, gadX): 0.016587828927856152, (rcsB, gadY): 0.512093058299281, (rcsB, leuO): 0.22649577519793795, (rcsB, rcsA): 0.6451727904094499, (rcsB, rpoE): 0.17436642900499144, (rcsB, rprA): 0.690937738102466, (rcsB, ydeO): 0.3867353463005374, (stpA, leuO): 0.9367299887367345, (micA, phoP): 0.13752094414599325, (dksA, csrA): 0.3410663510502585, (dksA, dsrA): 0.11347352124058907, (dksA, fabD): 0.9246936182785628, (dksA, fabG): 0.877339353380981, (dksA, fabH): 0.2579416277151556, (dksA, fadR): 0.659984046034179, (dksA, fis): 0.8172222002012158, (dksA, ihfA): 0.5552008115994623, (dksA, ihfB): 0.5296505783560065, (dksA, rpoD): 0.24185229090045168, (dksA, rpoE): 0.09310276780589921, (dksA, rpoS): 0.8972157579533268, (dksA, rpsA): 0.9004180571633305, (dksA, rybB): 0.6331014572732679, (dksA, sgrR): 0.3390297910487007, (dksA, sgrS): 0.3492095746126609, (csrA, rpoE): 0.7259556788702394, (csrA, sdiA): 0.8971102599525771, (fadR, accA): 0.8870864242651173, (fadR, accB): 0.7798755458576239, (fadR, accC): 0.6420316461542878, (fadR, accD): 0.08413996499504883, (fadR, fabA): 0.16162871409461377, (fadR, fabB): 0.8985541885270792, (fadR, fabD): 0.6064290596595899, (fadR, fabG): 0.009197051616629648, (fadR, fabH): 0.1014715428660321, (fadR, fabI): 0.6635017691080558, (fadR, fadA): 0.005061583846218687, (fadR, fadB): 0.16080805141749865, (fadR, fadD): 0.5487337893665861, (fadR, fadE): 0.6918951976926933, (fadR, fadH): 0.6519612595026005, (fadR, fadI): 0.22426930946055978, (fadR, fadJ): 0.7121792213475359, (fadR, fadL): 0.23724908749680007, (fadR, fadM): 0.3253996981592677, (fadR, iclR): 0.7464914051180241, (fadR, uspA): 0.6496328990472147, (fis, cspA): 0.8492234104941779, (fis, fadA): 0.6576128923003434, (fis, fadB): 0.5683086033354716, (ihfA, aceA): 0.09367476782809248, (ihfA, aceB): 0.3677158030594335, (ihfA, aceK): 0.26520236768172545, (ihfA, csgD): 0.24398964337908358, (ihfA, fis): 0.9730105547524456, (ihfA, flhC): 0.3930977246667604, (ihfA, flhD): 0.8920465551771133, (ihfA, fliA): 0.6311386259972629, (ihfA, fliZ): 0.7948113035416484, (ihfA, fnr): 0.5026370931051921, (ihfA, hipA): 0.5769038846263591, (ihfA, hipB): 0.4925176938188639, (ihfA, ihfB): 0.1952429877980445, (ihfA, micF): 0.7224521152615053, (ihfA, ompR): 0.2807723624408558, (ihfA, rpoE): 0.02431596643145384, (ihfA, rpoH): 0.6454722959071678, (ihfA, uspA): 0.17711067940704894, (rpoD, accA): 0.9404585843529143, (rpoD, accB): 0.9539285770025874, (rpoD, accC): 0.9148643902204485, (rpoD, accD): 0.3701587002554444, (rpoD, aceA): 0.015456616528867428, (rpoD, aceB): 0.9283185625877254, (rpoD, aceK): 0.42818414831731433, (rpoD, acrR): 0.9666548190436696, (rpoD, arcA): 0.9636199770892528, (rpoD, argR): 0.8530094554673601, (rpoD, arrS): 0.2944488920695857, (rpoD, bglJ): 0.38509772860192526, (rpoD, bolA): 0.8511366715168569, (rpoD, cpxR): 0.31692200515627766, (rpoD, crp): 0.1694927466860925, (rpoD, csgD): 0.5568012624583502, (rpoD, cspA): 0.936154774160781, (rpoD, csrA): 0.696029796674973, (rpoD, cyaR): 0.570061170089365, (rpoD, cytR): 0.09717649377076854, (rpoD, deaD): 0.6150072266991697, (rpoD, dnaA): 0.9900538501042633, (rpoD, dsrA): 0.14008401523652403, (rpoD, evgA): 0.5183296523637367, (rpoD, fabA): 0.8773730719279554, (rpoD, fabB): 0.7407686177542044, (rpoD, fabD): 0.697015740995268, (rpoD, fabG): 0.7024840839871093, (rpoD, fabH): 0.35949115121975517, (rpoD, fadA): 0.29359184426449336, (rpoD, fadB): 0.8093611554785136, (rpoD, fadD): 0.8101133946791808, (rpoD, fadI): 0.8670723185801037, (rpoD, fadJ): 0.9132405525564713, (rpoD, fadR): 0.5113423988609378, (rpoD, fis): 0.5015162946871996, (rpoD, flhC): 0.7982951789667752, (rpoD, flhD): 0.6499639307777652, (rpoD, fliA): 0.7019668772577033, (rpoD, fliZ): 0.795792669436101, (rpoD, fnr): 0.8900053418175663, (rpoD, fnrS): 0.3379951568515358, (rpoD, fur): 0.375582952639944, (rpoD, gadE): 0.093981939840869, (rpoD, gadX): 0.578280140996174, (rpoD, gcvA): 0.035942273796742086, (rpoD, gcvB): 0.46559801813246016, (rpoD, glnG): 0.5426446347075766, (rpoD, hipA): 0.2865412521282844, (rpoD, hipB): 0.5908332605690108, (rpoD, hns): 0.03050024993904943, (rpoD, hupB): 0.03734818874921442, (rpoD, ihfB): 0.8226005606596583, (rpoD, leuO): 0.3601906414112629, (rpoD, lexA): 0.12706051265188478, (rpoD, lldR): 0.5222432600548044, (rpoD, lrp): 0.7699935530986108, (rpoD, marA): 0.21582102749684318, (rpoD, marR): 0.6228904758190003, (rpoD, mgrR): 0.085347464993768, (rpoD, micF): 0.0516817211686077, (rpoD, mlrA): 0.531354631568148, (rpoD, mqsA): 0.5406351216101065, (rpoD, ompR): 0.6374299014982066, (rpoD, oxyR): 0.7260913337226615, (rpoD, oxyS): 0.9758520794625346, (rpoD, pdhR): 0.5163003483011953, (rpoD, phoB): 0.32295647294124596, (rpoD, qseB): 0.7951861947687037, (rpoD, rcsA): 0.2708322512620742, (rpoD, rcsB): 0.4389714207056361, (rpoD, rpoE): 0.07845638134226596, (rpoD, rpoH): 0.02535074341545751, (rpoD, rpoN): 0.9626484146779251, (rpoD, rpoS): 0.8359801205122058, (rpoD, rpsA): 0.695974206093698, (rpoD, rutR): 0.4089529444142699, (rpoD, rydC): 0.17329432007084578, (rpoD, ryhB): 0.15643704267108605, (rpoD, sdiA): 0.25024289816459533, (rpoD, sgrR): 0.5492266647061205, (rpoD, sgrS): 0.7145959227000623, (rpoD, soxR): 0.6601973767177313, (rpoD, soxS): 0.27993389694594284, (rpoD, stpA): 0.9548652806631941, (rpoD, sutR): 0.7378969166957685, (rpoD, torR): 0.5543540525114007, (rpoD, uspA): 0.6117207462343522, (rpoD, ydeO): 0.4196000624277899, (rpoD, yjjQ): 0.24773098950115746, (rpsA, fis): 0.3559726786512616, (rybB, csgD): 0.7578461104643691, (rybB, fadL): 0.014393488629755868, (arcA, aceA): 0.11607264050691624, (arcA, aceB): 0.04600264202175275, (arcA, aceK): 0.040728802318970136, (arcA, arcZ): 0.8554605840110072, (arcA, argR): 0.7036578593800237, (arcA, fadA): 0.4741738290873252, (arcA, fadB): 0.09783416065100148, (arcA, fadD): 0.49161587511683236, (arcA, fadE): 0.4734717707805657, (arcA, fadH): 0.17320186991001518, (arcA, fadI): 0.43385164923797304, (arcA, fadJ): 0.39850473439737344, (arcA, fadL): 0.6158500980522165, (arcA, fnr): 0.6350936508676438, (arcA, gadE): 0.04530400977204452, (arcA, gadX): 0.3746126146264712, (arcA, gcvB): 0.6258599157142364, (arcA, lldR): 0.5031362585800877, (arcA, micF): 0.8564898411883223, (arcA, rpoS): 0.658693631618945, (arcA, rstA): 0.1629344270814297, (arcZ, flhC): 0.07056874740042984, (arcZ, flhD): 0.6424192782063156, (arcZ, rpoS): 0.026511310541621813, (argR, lrp): 0.5857755812734633, (argR, mcaS): 0.9402302414249576, (argR, stpA): 0.575474177875879, (fnr, gadW): 0.3881699262065219, (fnr, pdhR): 0.6432882184423532, (gcvB, csgD): 0.45825289049151663, (gcvB, lrp): 0.5456167893159349, (gcvB, oxyR): 0.9414648087765252, (gcvB, phoP): 0.38610263780077425, (lldR, fadE): 0.9611905638239142, (lldR, fadL): 0.9053506419560637, (lldR, gadW): 0.19579113478929644, (lldR, gadY): 0.06936130087516545, (accD, accA): 0.10077800137742665, (basR, csgD): 0.018221825651549728, (basR, qseB): 0.0944429607559284, (qseB, dnaA): 0.6830067734163568, (qseB, flhC): 0.07118864846022899, (qseB, flhD): 0.3189756302937613, (mcaS, csgD): 0.8448753109694546, (mcaS, flhC): 0.023271935735825866, (mcaS, flhD): 0.8144684825889358, (cra, aceA): 0.28185477477339993, (cra, aceB): 0.11816482762165625, (cra, aceK): 0.6967371653641506, (cra, crp): 0.628942846779884, (cra, csgD): 0.877472013527053, (cra, marA): 0.7350710438038858, (cra, marR): 0.8034809303848486, (cra, pdhR): 0.2820345725713065, (cra, sgrS): 0.17743954377972282, (crp, aceA): 0.7506147516408583, (crp, aceB): 0.806834739267264, (crp, aceK): 0.9905051420006733, (crp, csgD): 0.4126176769114265, (crp, cyaR): 0.37201808579278317, (crp, fadD): 0.7764129607419968, (crp, fadH): 0.34080354025301784, (crp, fadL): 0.9307573256035647, (crp, fis): 0.8584127518430118, (crp, flhC): 0.42899402737501835, (crp, flhD): 0.7508710677914974, (crp, fur): 0.7545428740846823, (crp, gadE): 0.10312386883593261, (crp, gadX): 0.9025529066795667, (crp, glnG): 0.5052523724478571, (crp, hupA): 0.8264574661077416, (crp, hupB): 0.32004960103061175, (crp, marA): 0.8955232284962005, (crp, marR): 0.3892016787341631, (crp, mcaS): 0.01083765148029836, (crp, ompR): 0.9053819764192637, (crp, oxyR): 0.09128667678613356, (crp, pdhR): 0.31931363759041487, (crp, rpoE): 0.9500619670508049, (crp, rpoH): 0.9506071469375561, (crp, rpoS): 0.5734378881232861, (crp, zraR): 0.6318372121697993, (omrB, csgD): 0.44844552197831977, (omrB, flhC): 0.29321077169806453, (omrB, flhD): 0.32866454536991596, (omrB, ompR): 0.6725184560770384, (ompR, acrR): 0.75237452943768, (ompR, bolA): 0.7915790437258485, (ompR, csgD): 0.7896181427945539, (ompR, fadE): 0.09120610304869037, (ompR, fadL): 0.49442030470258147, (ompR, flhC): 0.057558760016644284, (ompR, flhD): 0.5495288823237355, (ompR, micF): 0.441530501373377, (ompR, pdhR): 0.8877041827582998, (ompR, rob): 0.3509150125520787, (rprA, csgD): 0.11706701642760586, (rprA, rpoS): 0.14299168205283586, (hipB, fadH): 0.7615106317174722, (hipB, hipA): 0.6182180633162611, (hupB, micF): 0.10112267612279024, (arrS, gadE): 0.08410680611499743, (gadY, gadW): 0.70096913145912, (gadY, gadX): 0.07276300636419353, (soxR, soxS): 0.8218600592903562, (dnaA, rpoH): 0.7062422271564962, (mlrA, csgD): 0.08134878064189976, (rcdA, csgD): 0.08483771408519192, (ptrR, acrR): 0.9866395785011755, (acrR, flhC): 0.3742707957561203, (acrR, flhD): 0.3706421470668909, (acrR, marA): 0.8127995672575026, (acrR, marR): 0.9472485773838587, (acrR, micF): 0.9860010638228709, (cpxR, csgD): 0.7533781852589416, (cpxR, cspA): 0.37625958553091576, (cpxR, cyaR): 0.08350071669866876, (cpxR, fadE): 0.7771469159274368, (cpxR, fadI): 0.558404249735805, (cpxR, matA): 0.4242220092469763, (cpxR, rpoE): 0.906354385094736, (cpxR, rpoH): 0.11119748230615134, (cpxR, rprA): 0.49262510429085915, (deaD, sdiA): 0.011353644767419069, (fnrS, marA): 0.46866064199412627, (glnG, nac): 0.05630327568183735, (glnG, rpoE): 0.11881791626807192, (mqsA, csgD): 0.11752624677710488, (mqsA, rpoS): 0.6492103021160636, (phoB, argP): 0.7460448792654233, (phoB, cra): 0.5833687650971596, (phoB, gadW): 0.9621725484745419, (phoB, gadX): 0.37487057952370406, (rpoN, fadL): 0.28571208628186073, (rpoN, flhC): 0.8685991281894603, (rpoN, flhD): 0.22359583851945264, (rpoN, glnG): 0.9632225394406113, (rpoN, nac): 0.012154474689816341, (rpoN, rpoE): 0.969878826707639, (rpoN, rpoH): 0.04315991195057611, (rpoN, zraR): 0.8911431136980711, (rutR, gadW): 0.5277011090862999, (rutR, gadX): 0.9929647961193003, (rydC, csgD): 0.07379656473539886, (ryhB, fur): 0.5538542844013208, (ryhB, marA): 0.969302535619099, (sdiA, gadW): 0.5230978441701488, (sdiA, gadY): 0.6293986381352625, (sutR, fliA): 0.6957486889846172, (sutR, fliZ): 0.45454106476777323, (torR, gadE): 0.6275580800840634, (torR, gadX): 0.5843143119231002, (torR, rpoS): 0.901158010490989, (omrA, csgD): 0.04544638034145787, (omrA, flhC): 0.2809631895922303, (omrA, flhD): 0.9504114840765587, (omrA, ompR): 0.8902637838909163, (argP, dnaA): 0.45565675278571294, (fabR, fabA): 0.6201325978015367, (fabR, fabB): 0.2773811829811327, (alpA, phoB): 0.1881211597237613, (btsR, csgD): 0.46369840493998216, (btsR, pdhR): 0.3533522280260528, (adiY, gadX): 0.5836561118508721, (nac, aceB): 0.07773463696498484, (nac, dnaA): 0.9743948076661665, (nac, evgA): 0.9862107444796029, (nac, gadE): 0.6981617140197451, (nac, gadX): 0.5360963663441204, (nac, hupA): 0.30952761628632774, (nac, leuO): 0.8137950197069487, (nac, marR): 0.6847311725538793, (nac, ompR): 0.1626169393448913, (nac, rcsA): 0.9109271844938425, (nac, sdiA): 0.822537242923169, (nac, uspA): 0.949799913291924, (nac, ydiP): 0.72571950838836, (nsrR, fliA): 0.6134151959357899, (nsrR, fliZ): 0.4182430362906189, (nsrR, ihfA): 0.9327284833540133, (nsrR, lrp): 0.8660638895004084, (nsrR, rybB): 0.04521867010618941, (matA, flhC): 0.026366974497252005, (matA, flhD): 0.3764633668780496, (matA, fliA): 0.8105533307818329, (matA, fliZ): 0.9872761293149445, (hupA, micF): 0.15041689110352818, (asflhD, flhD): 0.5941307153521351, (ydiP, cspA): 0.3808908566310215, (c0293, fadR): 0.9699143978146032, (slyA, leuO): 0.8421189231357087}\n"
     ]
    }
   ],
   "source": [
    "# linear model\n",
    "np.random.seed(42)\n",
    "fadr_node_generators = {node: partial(uniform, low=-1.0, high=1.0) for node in fadr_graph_mixed.nodes()}\n",
    "fadr_edge_weights = {edge: uniform(low=0.0, high=1.0) for edge in fadr_graph_mixed.directed.edges()}\n",
    "print(f\"actual edge weights: {fadr_edge_weights}\")\n",
    "\n",
    "G = nx.DiGraph()\n",
    "\n",
    "# Add edges and weights to the graph\n",
    "for edge, weight in fadr_edge_weights.items():\n",
    "    G.add_edge(edge[0], edge[1], weight=weight)\n",
    "\n",
    "# Save the graph to a GraphML file (for visualization)\n",
    "nx.write_graphml(G, \"fadr_subnetwork_with_weights.graphml\")\n",
    "    "
   ]
  },
  {
   "cell_type": "code",
   "execution_count": 65,
   "metadata": {},
   "outputs": [
    {
     "ename": "KeyboardInterrupt",
     "evalue": "",
     "output_type": "error",
     "traceback": [
      "\u001b[0;31m---------------------------------------------------------------------------\u001b[0m",
      "\u001b[0;31mKeyboardInterrupt\u001b[0m                         Traceback (most recent call last)",
      "Cell \u001b[0;32mIn[65], line 2\u001b[0m\n\u001b[1;32m      1\u001b[0m \u001b[38;5;66;03m# simulate data\u001b[39;00m\n\u001b[0;32m----> 2\u001b[0m fadr_df, fadr_fits \u001b[38;5;241m=\u001b[39m \u001b[43msimulate\u001b[49m\u001b[43m(\u001b[49m\u001b[43mgraph\u001b[49m\u001b[38;5;241;43m=\u001b[39;49m\u001b[43mfadr_graph_mixed\u001b[49m\u001b[43m,\u001b[49m\u001b[43m \u001b[49m\u001b[43mtrials\u001b[49m\u001b[38;5;241;43m=\u001b[39;49m\u001b[38;5;241;43m1\u001b[39;49m\u001b[43m,\u001b[49m\u001b[43m \u001b[49m\u001b[43mgenerators\u001b[49m\u001b[38;5;241;43m=\u001b[39;49m\u001b[43mfadr_node_generators\u001b[49m\u001b[43m,\u001b[49m\u001b[43m \u001b[49m\u001b[43mweights\u001b[49m\u001b[38;5;241;43m=\u001b[39;49m\u001b[43mfadr_edge_weights\u001b[49m\u001b[43m)\u001b[49m\n\u001b[1;32m      3\u001b[0m display(fadr_df\u001b[38;5;241m.\u001b[39mhead())\n",
      "File \u001b[0;32m~/miniconda3/envs/NOCAP_env/lib/python3.11/site-packages/y0/simulation.py:82\u001b[0m, in \u001b[0;36msimulate\u001b[0;34m(graph, trials, return_fits, progress, tqdm_kwargs, **kwargs)\u001b[0m\n\u001b[1;32m     73\u001b[0m \u001b[38;5;28;01mdef\u001b[39;00m \u001b[38;5;21msimulate\u001b[39m(\n\u001b[1;32m     74\u001b[0m     graph: NxMixedGraph,\n\u001b[1;32m     75\u001b[0m     trials: \u001b[38;5;28mint\u001b[39m \u001b[38;5;241m=\u001b[39m \u001b[38;5;241m200\u001b[39m,\n\u001b[0;32m   (...)\u001b[0m\n\u001b[1;32m     79\u001b[0m     \u001b[38;5;241m*\u001b[39m\u001b[38;5;241m*\u001b[39mkwargs,\n\u001b[1;32m     80\u001b[0m ) \u001b[38;5;241m-\u001b[39m\u001b[38;5;241m>\u001b[39m Union[pd\u001b[38;5;241m.\u001b[39mDataFrame, Tuple[pd\u001b[38;5;241m.\u001b[39mDataFrame, FitsDict]]:\n\u001b[1;32m     81\u001b[0m \u001b[38;5;250m    \u001b[39m\u001b[38;5;124;03m\"\"\"Simulate a graph using a linear structural causal model.\"\"\"\u001b[39;00m\n\u001b[0;32m---> 82\u001b[0m     judgements \u001b[38;5;241m=\u001b[39m \u001b[43mget_conditional_independencies\u001b[49m\u001b[43m(\u001b[49m\u001b[43mgraph\u001b[49m\u001b[43m)\u001b[49m\n\u001b[1;32m     83\u001b[0m     cis: Mapping[FrozenSet[Variable], DSeparationJudgement] \u001b[38;5;241m=\u001b[39m {\n\u001b[1;32m     84\u001b[0m         \u001b[38;5;28mfrozenset\u001b[39m((judgement\u001b[38;5;241m.\u001b[39mleft, judgement\u001b[38;5;241m.\u001b[39mright)): judgement \u001b[38;5;28;01mfor\u001b[39;00m judgement \u001b[38;5;129;01min\u001b[39;00m judgements\n\u001b[1;32m     85\u001b[0m     }\n\u001b[1;32m     87\u001b[0m     _tqdm_kwargs \u001b[38;5;241m=\u001b[39m \u001b[38;5;28mdict\u001b[39m(desc\u001b[38;5;241m=\u001b[39m\u001b[38;5;124m\"\u001b[39m\u001b[38;5;124mSimulation\u001b[39m\u001b[38;5;124m\"\u001b[39m, unit\u001b[38;5;241m=\u001b[39m\u001b[38;5;124m\"\u001b[39m\u001b[38;5;124mtrial\u001b[39m\u001b[38;5;124m\"\u001b[39m, unit_scale\u001b[38;5;241m=\u001b[39m\u001b[38;5;28;01mTrue\u001b[39;00m)\n",
      "File \u001b[0;32m~/miniconda3/envs/NOCAP_env/lib/python3.11/site-packages/y0/algorithm/conditional_independencies.py:138\u001b[0m, in \u001b[0;36mget_conditional_independencies\u001b[0;34m(graph, policy, max_conditions, **kwargs)\u001b[0m\n\u001b[1;32m    136\u001b[0m \u001b[38;5;28;01mif\u001b[39;00m policy \u001b[38;5;129;01mis\u001b[39;00m \u001b[38;5;28;01mNone\u001b[39;00m:\n\u001b[1;32m    137\u001b[0m     policy \u001b[38;5;241m=\u001b[39m get_topological_policy(graph)\n\u001b[0;32m--> 138\u001b[0m \u001b[38;5;28;01mreturn\u001b[39;00m \u001b[43mminimal\u001b[49m\u001b[43m(\u001b[49m\n\u001b[1;32m    139\u001b[0m \u001b[43m    \u001b[49m\u001b[43md_separations\u001b[49m\u001b[43m(\u001b[49m\u001b[43mgraph\u001b[49m\u001b[43m,\u001b[49m\u001b[43m \u001b[49m\u001b[43mmax_conditions\u001b[49m\u001b[38;5;241;43m=\u001b[39;49m\u001b[43mmax_conditions\u001b[49m\u001b[43m,\u001b[49m\u001b[43m \u001b[49m\u001b[38;5;241;43m*\u001b[39;49m\u001b[38;5;241;43m*\u001b[39;49m\u001b[43mkwargs\u001b[49m\u001b[43m)\u001b[49m\u001b[43m,\u001b[49m\n\u001b[1;32m    140\u001b[0m \u001b[43m    \u001b[49m\u001b[43mpolicy\u001b[49m\u001b[38;5;241;43m=\u001b[39;49m\u001b[43mpolicy\u001b[49m\u001b[43m,\u001b[49m\n\u001b[1;32m    141\u001b[0m \u001b[43m\u001b[49m\u001b[43m)\u001b[49m\n",
      "File \u001b[0;32m~/miniconda3/envs/NOCAP_env/lib/python3.11/site-packages/y0/algorithm/conditional_independencies.py:161\u001b[0m, in \u001b[0;36mminimal\u001b[0;34m(judgements, policy)\u001b[0m\n\u001b[1;32m    159\u001b[0m \u001b[38;5;28;01mif\u001b[39;00m policy \u001b[38;5;129;01mis\u001b[39;00m \u001b[38;5;28;01mNone\u001b[39;00m:\n\u001b[1;32m    160\u001b[0m     policy \u001b[38;5;241m=\u001b[39m _len_lex\n\u001b[0;32m--> 161\u001b[0m judgements \u001b[38;5;241m=\u001b[39m \u001b[38;5;28msorted\u001b[39m(judgements, key\u001b[38;5;241m=\u001b[39m_judgement_grouper)\n\u001b[1;32m    162\u001b[0m \u001b[38;5;28;01mreturn\u001b[39;00m {\u001b[38;5;28mmin\u001b[39m(vs, key\u001b[38;5;241m=\u001b[39mpolicy) \u001b[38;5;28;01mfor\u001b[39;00m k, vs \u001b[38;5;129;01min\u001b[39;00m groupby(judgements, _judgement_grouper)}\n",
      "File \u001b[0;32m~/miniconda3/envs/NOCAP_env/lib/python3.11/site-packages/y0/algorithm/conditional_independencies.py:279\u001b[0m, in \u001b[0;36md_separations\u001b[0;34m(graph, max_conditions, verbose, return_all)\u001b[0m\n\u001b[1;32m    271\u001b[0m \u001b[38;5;28;01mfor\u001b[39;00m a, b \u001b[38;5;129;01min\u001b[39;00m tqdm(\n\u001b[1;32m    272\u001b[0m     combinations(vertices, \u001b[38;5;241m2\u001b[39m),\n\u001b[1;32m    273\u001b[0m     disable\u001b[38;5;241m=\u001b[39m\u001b[38;5;129;01mnot\u001b[39;00m verbose,\n\u001b[0;32m   (...)\u001b[0m\n\u001b[1;32m    276\u001b[0m     total\u001b[38;5;241m=\u001b[39m\u001b[38;5;28mlen\u001b[39m(vertices) \u001b[38;5;241m*\u001b[39m (\u001b[38;5;28mlen\u001b[39m(vertices) \u001b[38;5;241m-\u001b[39m \u001b[38;5;241m1\u001b[39m) \u001b[38;5;241m/\u001b[39m\u001b[38;5;241m/\u001b[39m \u001b[38;5;241m2\u001b[39m,\n\u001b[1;32m    277\u001b[0m ):\n\u001b[1;32m    278\u001b[0m     \u001b[38;5;28;01mfor\u001b[39;00m conditions \u001b[38;5;129;01min\u001b[39;00m powerset(vertices \u001b[38;5;241m-\u001b[39m {a, b}, stop\u001b[38;5;241m=\u001b[39mmax_conditions):\n\u001b[0;32m--> 279\u001b[0m         judgement \u001b[38;5;241m=\u001b[39m \u001b[43mare_d_separated\u001b[49m\u001b[43m(\u001b[49m\u001b[43mgraph\u001b[49m\u001b[43m,\u001b[49m\u001b[43m \u001b[49m\u001b[43ma\u001b[49m\u001b[43m,\u001b[49m\u001b[43m \u001b[49m\u001b[43mb\u001b[49m\u001b[43m,\u001b[49m\u001b[43m \u001b[49m\u001b[43mconditions\u001b[49m\u001b[38;5;241;43m=\u001b[39;49m\u001b[43mconditions\u001b[49m\u001b[43m)\u001b[49m\n\u001b[1;32m    280\u001b[0m         \u001b[38;5;28;01mif\u001b[39;00m judgement\u001b[38;5;241m.\u001b[39mseparated:\n\u001b[1;32m    281\u001b[0m             \u001b[38;5;28;01myield\u001b[39;00m judgement\n",
      "File \u001b[0;32m~/miniconda3/envs/NOCAP_env/lib/python3.11/site-packages/y0/algorithm/conditional_independencies.py:244\u001b[0m, in \u001b[0;36mare_d_separated\u001b[0;34m(graph, a, b, conditions)\u001b[0m\n\u001b[1;32m    242\u001b[0m \u001b[38;5;66;03m# Filter to ancestors\u001b[39;00m\n\u001b[1;32m    243\u001b[0m keep \u001b[38;5;241m=\u001b[39m graph\u001b[38;5;241m.\u001b[39mancestors_inclusive(named)\n\u001b[0;32m--> 244\u001b[0m evidence_graph \u001b[38;5;241m=\u001b[39m \u001b[43mgraph\u001b[49m\u001b[38;5;241;43m.\u001b[39;49m\u001b[43msubgraph\u001b[49m\u001b[43m(\u001b[49m\u001b[43mkeep\u001b[49m\u001b[43m)\u001b[49m\u001b[38;5;241m.\u001b[39mmoralize()\u001b[38;5;241m.\u001b[39mdisorient()\n\u001b[1;32m    246\u001b[0m keep \u001b[38;5;241m=\u001b[39m \u001b[38;5;28mset\u001b[39m(evidence_graph\u001b[38;5;241m.\u001b[39mnodes) \u001b[38;5;241m-\u001b[39m \u001b[38;5;28mset\u001b[39m(conditions)\n\u001b[1;32m    247\u001b[0m evidence_graph \u001b[38;5;241m=\u001b[39m evidence_graph\u001b[38;5;241m.\u001b[39msubgraph(keep)\n",
      "File \u001b[0;32m~/miniconda3/envs/NOCAP_env/lib/python3.11/site-packages/y0/graph.py:492\u001b[0m, in \u001b[0;36mNxMixedGraph.subgraph\u001b[0;34m(self, vertices)\u001b[0m\n\u001b[1;32m    486\u001b[0m \u001b[38;5;250m\u001b[39m\u001b[38;5;124;03m\"\"\"Return a subgraph given a set of vertices.\u001b[39;00m\n\u001b[1;32m    487\u001b[0m \n\u001b[1;32m    488\u001b[0m \u001b[38;5;124;03m:param vertices: a subset of nodes\u001b[39;00m\n\u001b[1;32m    489\u001b[0m \u001b[38;5;124;03m:returns: A NxMixedGraph subgraph\u001b[39;00m\n\u001b[1;32m    490\u001b[0m \u001b[38;5;124;03m\"\"\"\u001b[39;00m\n\u001b[1;32m    491\u001b[0m vertices \u001b[38;5;241m=\u001b[39m _ensure_set(vertices)\n\u001b[0;32m--> 492\u001b[0m \u001b[38;5;28;01mreturn\u001b[39;00m \u001b[38;5;28;43mself\u001b[39;49m\u001b[38;5;241;43m.\u001b[39;49m\u001b[43mfrom_edges\u001b[49m\u001b[43m(\u001b[49m\n\u001b[1;32m    493\u001b[0m \u001b[43m    \u001b[49m\u001b[43mnodes\u001b[49m\u001b[38;5;241;43m=\u001b[39;49m\u001b[43mvertices\u001b[49m\u001b[43m,\u001b[49m\n\u001b[1;32m    494\u001b[0m \u001b[43m    \u001b[49m\u001b[43mdirected\u001b[49m\u001b[38;5;241;43m=\u001b[39;49m\u001b[43m_include_adjacent\u001b[49m\u001b[43m(\u001b[49m\u001b[38;5;28;43mself\u001b[39;49m\u001b[38;5;241;43m.\u001b[39;49m\u001b[43mdirected\u001b[49m\u001b[43m,\u001b[49m\u001b[43m \u001b[49m\u001b[43mvertices\u001b[49m\u001b[43m)\u001b[49m\u001b[43m,\u001b[49m\n\u001b[1;32m    495\u001b[0m \u001b[43m    \u001b[49m\u001b[43mundirected\u001b[49m\u001b[38;5;241;43m=\u001b[39;49m\u001b[43m_include_adjacent\u001b[49m\u001b[43m(\u001b[49m\u001b[38;5;28;43mself\u001b[39;49m\u001b[38;5;241;43m.\u001b[39;49m\u001b[43mundirected\u001b[49m\u001b[43m,\u001b[49m\u001b[43m \u001b[49m\u001b[43mvertices\u001b[49m\u001b[43m)\u001b[49m\u001b[43m,\u001b[49m\n\u001b[1;32m    496\u001b[0m \u001b[43m\u001b[49m\u001b[43m)\u001b[49m\n",
      "File \u001b[0;32m~/miniconda3/envs/NOCAP_env/lib/python3.11/site-packages/y0/graph.py:411\u001b[0m, in \u001b[0;36mNxMixedGraph.from_edges\u001b[0;34m(cls, nodes, directed, undirected)\u001b[0m\n\u001b[1;32m    409\u001b[0m     rv\u001b[38;5;241m.\u001b[39madd_node(n)\n\u001b[1;32m    410\u001b[0m \u001b[38;5;28;01mfor\u001b[39;00m u, v \u001b[38;5;129;01min\u001b[39;00m directed \u001b[38;5;129;01mor\u001b[39;00m []:\n\u001b[0;32m--> 411\u001b[0m     \u001b[43mrv\u001b[49m\u001b[38;5;241;43m.\u001b[39;49m\u001b[43madd_directed_edge\u001b[49m\u001b[43m(\u001b[49m\u001b[43mu\u001b[49m\u001b[43m,\u001b[49m\u001b[43m \u001b[49m\u001b[43mv\u001b[49m\u001b[43m)\u001b[49m\n\u001b[1;32m    412\u001b[0m \u001b[38;5;28;01mfor\u001b[39;00m u, v \u001b[38;5;129;01min\u001b[39;00m undirected \u001b[38;5;129;01mor\u001b[39;00m []:\n\u001b[1;32m    413\u001b[0m     rv\u001b[38;5;241m.\u001b[39madd_undirected_edge(u, v)\n",
      "File \u001b[0;32m~/miniconda3/envs/NOCAP_env/lib/python3.11/site-packages/y0/graph.py:131\u001b[0m, in \u001b[0;36mNxMixedGraph.add_directed_edge\u001b[0;34m(self, u, v, **attr)\u001b[0m\n\u001b[1;32m    129\u001b[0m v \u001b[38;5;241m=\u001b[39m Variable\u001b[38;5;241m.\u001b[39mnorm(v)\n\u001b[1;32m    130\u001b[0m \u001b[38;5;28mself\u001b[39m\u001b[38;5;241m.\u001b[39mdirected\u001b[38;5;241m.\u001b[39madd_edge(u, v, \u001b[38;5;241m*\u001b[39m\u001b[38;5;241m*\u001b[39mattr)\n\u001b[0;32m--> 131\u001b[0m \u001b[38;5;28;43mself\u001b[39;49m\u001b[38;5;241;43m.\u001b[39;49m\u001b[43mundirected\u001b[49m\u001b[38;5;241;43m.\u001b[39;49m\u001b[43madd_node\u001b[49m\u001b[43m(\u001b[49m\u001b[43mu\u001b[49m\u001b[43m)\u001b[49m\n\u001b[1;32m    132\u001b[0m \u001b[38;5;28mself\u001b[39m\u001b[38;5;241m.\u001b[39mundirected\u001b[38;5;241m.\u001b[39madd_node(v)\n",
      "File \u001b[0;32m~/miniconda3/envs/NOCAP_env/lib/python3.11/site-packages/networkx/classes/graph.py:564\u001b[0m, in \u001b[0;36mGraph.add_node\u001b[0;34m(self, node_for_adding, **attr)\u001b[0m\n\u001b[1;32m    562\u001b[0m \u001b[38;5;28;01melse\u001b[39;00m:  \u001b[38;5;66;03m# update attr even if node already exists\u001b[39;00m\n\u001b[1;32m    563\u001b[0m     \u001b[38;5;28mself\u001b[39m\u001b[38;5;241m.\u001b[39m_node[node_for_adding]\u001b[38;5;241m.\u001b[39mupdate(attr)\n\u001b[0;32m--> 564\u001b[0m \u001b[43mnx\u001b[49m\u001b[38;5;241;43m.\u001b[39;49m\u001b[43m_clear_cache\u001b[49m\u001b[43m(\u001b[49m\u001b[38;5;28;43mself\u001b[39;49m\u001b[43m)\u001b[49m\n",
      "File \u001b[0;32m~/miniconda3/envs/NOCAP_env/lib/python3.11/site-packages/networkx/utils/misc.py:600\u001b[0m, in \u001b[0;36m_clear_cache\u001b[0;34m(G)\u001b[0m\n\u001b[1;32m    595\u001b[0m \u001b[38;5;28;01mdef\u001b[39;00m \u001b[38;5;21m_clear_cache\u001b[39m(G):\n\u001b[1;32m    596\u001b[0m \u001b[38;5;250m    \u001b[39m\u001b[38;5;124;03m\"\"\"Clear the cache of a graph (currently stores converted graphs).\u001b[39;00m\n\u001b[1;32m    597\u001b[0m \n\u001b[1;32m    598\u001b[0m \u001b[38;5;124;03m    Caching is controlled via ``nx.config.cache_converted_graphs`` configuration.\u001b[39;00m\n\u001b[1;32m    599\u001b[0m \u001b[38;5;124;03m    \"\"\"\u001b[39;00m\n\u001b[0;32m--> 600\u001b[0m     \u001b[38;5;28;01mif\u001b[39;00m cache \u001b[38;5;241m:=\u001b[39m \u001b[38;5;28mgetattr\u001b[39m(G, \u001b[38;5;124m\"\u001b[39m\u001b[38;5;124m__networkx_cache__\u001b[39m\u001b[38;5;124m\"\u001b[39m, \u001b[38;5;28;01mNone\u001b[39;00m):\n\u001b[1;32m    601\u001b[0m         cache\u001b[38;5;241m.\u001b[39mclear()\n",
      "\u001b[0;31mKeyboardInterrupt\u001b[0m: "
     ]
    }
   ],
   "source": [
    "# simulate data\n",
    "fadr_df, fadr_fits = simulate(graph=fadr_graph_mixed, trials=1, generators=fadr_node_generators, weights=fadr_edge_weights)\n",
    "display(fadr_df.head())"
   ]
  },
  {
   "cell_type": "code",
   "execution_count": 72,
   "metadata": {},
   "outputs": [
    {
     "name": "stdout",
     "output_type": "stream",
     "text": [
      "Profiling interrupted by user.\n",
      "         3232730220 function calls (3231319719 primitive calls) in 528.896 seconds\n",
      "\n",
      "   Ordered by: cumulative time\n",
      "\n",
      "   ncalls  tottime  percall  cumtime  percall filename:lineno(function)\n",
      "        1    0.000    0.000  528.980  528.980 /var/folders/kc/g6x5cwr96dn6lx9m4bq_4m_h0000gn/T/ipykernel_11398/3326026668.py:6(profile_simulation)\n",
      "        1    0.000    0.000  528.980  528.980 /Users/geor228/miniconda3/envs/NOCAP_env/lib/python3.11/site-packages/y0/simulation.py:73(simulate)\n",
      "        1    0.000    0.000  528.980  528.980 /Users/geor228/miniconda3/envs/NOCAP_env/lib/python3.11/site-packages/y0/algorithm/conditional_independencies.py:116(get_conditional_independencies)\n",
      "        1    0.000    0.000  528.976  528.976 /Users/geor228/miniconda3/envs/NOCAP_env/lib/python3.11/site-packages/y0/algorithm/conditional_independencies.py:144(minimal)\n",
      " 117571/1    0.072    0.000  528.976  528.976 {built-in method builtins.sorted}\n",
      "        4    0.550    0.138  528.976  132.244 /Users/geor228/miniconda3/envs/NOCAP_env/lib/python3.11/site-packages/y0/algorithm/conditional_independencies.py:255(d_separations)\n",
      "    58786    1.180    0.000  528.426    0.009 /Users/geor228/miniconda3/envs/NOCAP_env/lib/python3.11/site-packages/y0/algorithm/conditional_independencies.py:199(are_d_separated)\n",
      "    58786    4.982    0.000  252.593    0.004 /Users/geor228/miniconda3/envs/NOCAP_env/lib/python3.11/site-packages/y0/graph.py:286(moralize)\n",
      " 21788355   17.306    0.000  186.798    0.000 /Users/geor228/miniconda3/envs/NOCAP_env/lib/python3.11/site-packages/y0/graph.py:134(add_undirected_edge)\n",
      "883458649  108.672    0.000  145.039    0.000 <string>:2(__hash__)\n",
      "    58786    0.170    0.000  132.752    0.002 /Users/geor228/miniconda3/envs/NOCAP_env/lib/python3.11/site-packages/y0/graph.py:485(subgraph)\n",
      "    58785    0.153    0.000  106.799    0.002 /Users/geor228/miniconda3/envs/NOCAP_env/lib/python3.11/site-packages/y0/graph.py:638(disorient)\n",
      "   176356   38.178    0.000  102.040    0.001 /Users/geor228/miniconda3/envs/NOCAP_env/lib/python3.11/site-packages/networkx/classes/graph.py:968(add_edges_from)\n",
      "    58786    1.921    0.000   95.932    0.002 /Users/geor228/miniconda3/envs/NOCAP_env/lib/python3.11/site-packages/y0/graph.py:397(from_edges)\n",
      " 21788355   36.655    0.000   90.919    0.000 /Users/geor228/miniconda3/envs/NOCAP_env/lib/python3.11/site-packages/networkx/classes/graph.py:899(add_edge)\n",
      "  9279078    7.391    0.000   79.946    0.000 /Users/geor228/miniconda3/envs/NOCAP_env/lib/python3.11/site-packages/y0/graph.py:126(add_directed_edge)\n",
      " 46985997   31.969    0.000   72.872    0.000 /Users/geor228/miniconda3/envs/NOCAP_env/lib/python3.11/site-packages/networkx/classes/digraph.py:421(add_node)\n",
      "396204242   66.557    0.000   66.557    0.000 <string>:2(__eq__)\n",
      "   117572    0.218    0.000   55.948    0.000 /Users/geor228/miniconda3/envs/NOCAP_env/lib/python3.11/site-packages/networkx/classes/graph.py:1566(copy)\n",
      "  9279078   15.592    0.000   38.976    0.000 /Users/geor228/miniconda3/envs/NOCAP_env/lib/python3.11/site-packages/networkx/classes/digraph.py:648(add_edge)\n",
      "883458649   36.367    0.000   36.367    0.000 {built-in method builtins.hash}\n",
      "    58786   14.208    0.000   35.275    0.001 /Users/geor228/miniconda3/envs/NOCAP_env/lib/python3.11/site-packages/networkx/classes/digraph.py:719(add_edges_from)\n",
      "   117572    0.127    0.000   34.831    0.000 /Users/geor228/miniconda3/envs/NOCAP_env/lib/python3.11/site-packages/y0/graph.py:697(_include_adjacent)\n",
      " 21967445   14.791    0.000   33.511    0.000 /Users/geor228/miniconda3/envs/NOCAP_env/lib/python3.11/site-packages/networkx/classes/graph.py:517(add_node)\n",
      "   117572   11.266    0.000   31.481    0.000 /Users/geor228/miniconda3/envs/NOCAP_env/lib/python3.11/site-packages/y0/graph.py:701(<listcomp>)\n",
      "    58786    0.053    0.000   28.406    0.000 /Users/geor228/miniconda3/envs/NOCAP_env/lib/python3.11/site-packages/y0/graph.py:555(ancestors_inclusive)\n",
      "    58786    1.114    0.000   28.064    0.000 /Users/geor228/miniconda3/envs/NOCAP_env/lib/python3.11/site-packages/y0/graph.py:683(_ancestors_inclusive)\n",
      "1013789/337931    0.267    0.000   27.934    0.000 /Users/geor228/miniconda3/envs/NOCAP_env/lib/python3.11/site-packages/networkx/utils/backends.py:627(__call__)\n",
      "   337930    0.126    0.000   25.476    0.000 /Users/geor228/miniconda3/envs/NOCAP_env/lib/python3.11/site-packages/y0/graph.py:685(<genexpr>)\n",
      "   279144    0.123    0.000   25.351    0.000 <class 'networkx.utils.decorators.argmap'> compilation 32:1(argmap_ancestors_29)\n",
      "   279144    0.139    0.000   25.143    0.000 /Users/geor228/miniconda3/envs/NOCAP_env/lib/python3.11/site-packages/networkx/algorithms/dag.py:76(ancestors)\n",
      "   279144    1.615    0.000   24.838    0.000 /Users/geor228/miniconda3/envs/NOCAP_env/lib/python3.11/site-packages/networkx/algorithms/dag.py:110(<setcomp>)\n",
      " 65981359   11.888    0.000   23.299    0.000 {method 'get' of 'dict' objects}\n",
      "  7546807    1.112    0.000   21.954    0.000 /Users/geor228/miniconda3/envs/NOCAP_env/lib/python3.11/site-packages/networkx/algorithms/traversal/breadth_first_search.py:132(bfs_edges)\n",
      "  7546807    7.511    0.000   20.664    0.000 /Users/geor228/miniconda3/envs/NOCAP_env/lib/python3.11/site-packages/networkx/algorithms/traversal/breadth_first_search.py:18(generic_bfs_edges)\n",
      " 65544155   11.905    0.000   17.904    0.000 /Users/geor228/miniconda3/envs/NOCAP_env/lib/python3.11/site-packages/y0/dsl.py:203(norm)\n",
      " 15650597    8.298    0.000   17.322    0.000 /Users/geor228/miniconda3/envs/NOCAP_env/lib/python3.11/site-packages/networkx/classes/reportviews.py:1265(__iter__)\n",
      "100432373   12.195    0.000   16.712    0.000 /Users/geor228/miniconda3/envs/NOCAP_env/lib/python3.11/site-packages/networkx/utils/misc.py:595(_clear_cache)\n",
      "   117571    7.777    0.000   13.991    0.000 /Users/geor228/miniconda3/envs/NOCAP_env/lib/python3.11/site-packages/networkx/classes/graph.py:566(add_nodes_from)\n",
      "  3409289    1.671    0.000   13.806    0.000 /Users/geor228/miniconda3/envs/NOCAP_env/lib/python3.11/site-packages/y0/graph.py:120(add_node)\n",
      "    58786    5.783    0.000   10.262    0.000 /Users/geor228/miniconda3/envs/NOCAP_env/lib/python3.11/site-packages/networkx/classes/digraph.py:471(add_nodes_from)\n",
      "185719393    9.248    0.000    9.248    0.000 {method 'update' of 'dict' objects}\n",
      "142109609    7.443    0.000    9.210    0.000 {built-in method builtins.isinstance}\n",
      " 10956091    3.415    0.000    7.106    0.000 /Users/geor228/miniconda3/envs/NOCAP_env/lib/python3.11/site-packages/networkx/classes/digraph.py:915(predecessors)\n",
      "   235144    0.196    0.000    5.314    0.000 /Users/geor228/miniconda3/envs/NOCAP_env/lib/python3.11/site-packages/y0/graph.py:799(_ensure_set)\n",
      "   235144    0.611    0.000    4.987    0.000 {built-in method builtins.any}\n",
      " 21847141    1.806    0.000    4.821    0.000 /Users/geor228/miniconda3/envs/NOCAP_env/lib/python3.11/site-packages/y0/graph.py:933(iter_moral_links)\n",
      "100432376    4.517    0.000    4.517    0.000 {built-in method builtins.getattr}\n",
      " 10742155    1.312    0.000    4.376    0.000 /Users/geor228/miniconda3/envs/NOCAP_env/lib/python3.11/site-packages/y0/graph.py:801(<genexpr>)\n",
      " 40200264    3.351    0.000    3.359    0.000 /Users/geor228/miniconda3/envs/NOCAP_env/lib/python3.11/site-packages/networkx/classes/reportviews.py:1067(__iter__)\n",
      "  9396650    2.512    0.000    3.156    0.000 /Users/geor228/miniconda3/envs/NOCAP_env/lib/python3.11/site-packages/networkx/classes/graph.py:1648(<genexpr>)\n",
      "  3468070    1.072    0.000    2.818    0.000 /Users/geor228/miniconda3/envs/NOCAP_env/lib/python3.11/site-packages/y0/graph.py:942(<genexpr>)\n",
      "    58785    0.034    0.000    2.740    0.000 <class 'networkx.utils.decorators.argmap'> compilation 64:1(argmap_has_path_61)\n",
      "    58785    0.026    0.000    2.680    0.000 /Users/geor228/miniconda3/envs/NOCAP_env/lib/python3.11/site-packages/networkx/algorithms/shortest_paths/generic.py:22(has_path)\n",
      "    58785    0.091    0.000    2.679    0.000 /Users/geor228/miniconda3/envs/NOCAP_env/lib/python3.11/site-packages/networkx/classes/graph.py:1768(subgraph)\n",
      "    58785    0.035    0.000    2.654    0.000 <class 'networkx.utils.decorators.argmap'> compilation 36:1(argmap_shortest_path_33)\n",
      "    58785    0.035    0.000    2.599    0.000 /Users/geor228/miniconda3/envs/NOCAP_env/lib/python3.11/site-packages/networkx/algorithms/shortest_paths/generic.py:43(shortest_path)\n",
      "    58785    0.033    0.000    2.564    0.000 <class 'networkx.utils.decorators.argmap'> compilation 40:1(argmap_bidirectional_shortest_path_37)\n",
      "    58785    0.123    0.000    2.503    0.000 /Users/geor228/miniconda3/envs/NOCAP_env/lib/python3.11/site-packages/networkx/algorithms/shortest_paths/unweighted.py:202(bidirectional_shortest_path)\n",
      "  7267665    1.021    0.000    2.240    0.000 {method 'add' of 'set' objects}\n",
      "    58785    0.544    0.000    2.129    0.000 /Users/geor228/miniconda3/envs/NOCAP_env/lib/python3.11/site-packages/networkx/classes/filters.py:59(__init__)\n",
      "    58785    0.553    0.000    2.102    0.000 /Users/geor228/miniconda3/envs/NOCAP_env/lib/python3.11/site-packages/networkx/algorithms/shortest_paths/unweighted.py:266(_bidirectional_pred_succ)\n",
      "43107177/42548889    1.794    0.000    1.890    0.000 {built-in method builtins.len}\n",
      " 10742155    1.054    0.000    1.767    0.000 <frozen abc>:117(__instancecheck__)\n",
      "  6936150    1.106    0.000    1.375    0.000 /Users/geor228/miniconda3/envs/NOCAP_env/lib/python3.11/site-packages/networkx/classes/graph.py:1647(<genexpr>)\n",
      "  3306427    0.568    0.000    1.084    0.000 /Users/geor228/miniconda3/envs/NOCAP_env/lib/python3.11/site-packages/networkx/classes/graph.py:2023(bunch_iter)\n",
      " 22916235    0.905    0.000    0.905    0.000 {method 'copy' of 'dict' objects}\n",
      "411496/352711    0.428    0.000    0.782    0.000 /Users/geor228/miniconda3/envs/NOCAP_env/lib/python3.11/functools.py:981(__get__)\n",
      " 11251261    0.625    0.000    0.713    0.000 {built-in method builtins.iter}\n",
      " 10742155    0.713    0.000    0.713    0.000 {built-in method _abc._abc_instancecheck}\n",
      "   707240    0.145    0.000    0.655    0.000 /Users/geor228/miniconda3/envs/NOCAP_env/lib/python3.11/site-packages/networkx/classes/coreviews.py:293(<genexpr>)\n",
      "   600897    0.207    0.000    0.510    0.000 /Users/geor228/miniconda3/envs/NOCAP_env/lib/python3.11/site-packages/networkx/classes/coreviews.py:341(new_node_ok)\n",
      "    58785    0.052    0.000    0.386    0.000 /Users/geor228/miniconda3/envs/NOCAP_env/lib/python3.11/site-packages/networkx/utils/decorators.py:1267(inner_f)\n",
      "   455633    0.125    0.000    0.371    0.000 /Users/geor228/miniconda3/envs/NOCAP_env/lib/python3.11/site-packages/networkx/classes/graph.py:455(__contains__)\n",
      "  8027291    0.371    0.000    0.371    0.000 {method 'append' of 'list' objects}\n",
      "   837146    0.167    0.000    0.356    0.000 /Users/geor228/miniconda3/envs/NOCAP_env/lib/python3.11/site-packages/networkx/classes/filters.py:62(__call__)\n",
      "   117572    0.073    0.000    0.329    0.000 /Users/geor228/miniconda3/envs/NOCAP_env/lib/python3.11/site-packages/y0/graph.py:142(nodes)\n",
      "    58785    0.159    0.000    0.328    0.000 /Users/geor228/miniconda3/envs/NOCAP_env/lib/python3.11/site-packages/networkx/classes/graphviews.py:135(subgraph_view)\n",
      "   235142    0.200    0.000    0.304    0.000 /Users/geor228/miniconda3/envs/NOCAP_env/lib/python3.11/site-packages/networkx/classes/graph.py:332(__init__)\n",
      "  7288864    0.301    0.000    0.301    0.000 {method 'items' of 'dict' objects}\n",
      "    58785    0.076    0.000    0.270    0.000 /Users/geor228/miniconda3/envs/NOCAP_env/lib/python3.11/site-packages/y0/struct.py:120(create)\n",
      "   118679    0.061    0.000    0.269    0.000 /Users/geor228/miniconda3/envs/NOCAP_env/lib/python3.11/site-packages/networkx/classes/coreviews.py:80(__getitem__)\n",
      "   117572    0.140    0.000    0.224    0.000 /Users/geor228/miniconda3/envs/NOCAP_env/lib/python3.11/site-packages/networkx/classes/digraph.py:316(__init__)\n",
      "   118679    0.100    0.000    0.196    0.000 /Users/geor228/miniconda3/envs/NOCAP_env/lib/python3.11/site-packages/networkx/classes/coreviews.py:338(__getitem__)\n",
      "   117570    0.031    0.000    0.193    0.000 <frozen _collections_abc>:778(__contains__)\n",
      "   279144    0.062    0.000    0.177    0.000 /Users/geor228/miniconda3/envs/NOCAP_env/lib/python3.11/site-packages/y0/graph.py:97(__contains__)\n",
      "   117570    0.053    0.000    0.167    0.000 /Users/geor228/miniconda3/envs/NOCAP_env/lib/python3.11/site-packages/networkx/classes/reportviews.py:1058(__init__)\n",
      "   279144    0.113    0.000    0.166    0.000 <class 'networkx.utils.decorators.argmap'> compilation 24:1(argmap_bfs_edges_21)\n",
      "   117570    0.069    0.000    0.162    0.000 /Users/geor228/miniconda3/envs/NOCAP_env/lib/python3.11/site-packages/networkx/classes/coreviews.py:295(__getitem__)\n",
      "   279144    0.104    0.000    0.158    0.000 <class 'networkx.utils.decorators.argmap'> compilation 28:1(argmap_generic_bfs_edges_25)\n",
      "    58785    0.020    0.000    0.157    0.000 /Users/geor228/miniconda3/envs/NOCAP_env/lib/python3.11/site-packages/networkx/classes/digraph.py:940(edges)\n",
      "   118679    0.023    0.000    0.139    0.000 /Users/geor228/miniconda3/envs/NOCAP_env/lib/python3.11/site-packages/networkx/classes/coreviews.py:49(__iter__)\n",
      "   558288    0.097    0.000    0.128    0.000 /Users/geor228/miniconda3/envs/NOCAP_env/lib/python3.11/site-packages/networkx/classes/graph.py:469(__len__)\n",
      "    58786    0.034    0.000    0.128    0.000 /Users/geor228/miniconda3/envs/NOCAP_env/lib/python3.11/site-packages/y0/algorithm/conditional_independencies.py:236(<setcomp>)\n",
      "   176360    0.023    0.000    0.118    0.000 {built-in method builtins.hasattr}\n",
      "   176356    0.068    0.000    0.098    0.000 /Users/geor228/miniconda3/envs/NOCAP_env/lib/python3.11/site-packages/networkx/classes/graph.py:738(nodes)\n",
      "   411499    0.088    0.000    0.088    0.000 /Users/geor228/miniconda3/envs/NOCAP_env/lib/python3.11/site-packages/networkx/classes/graph.py:59(__set__)\n",
      "   118679    0.088    0.000    0.088    0.000 /Users/geor228/miniconda3/envs/NOCAP_env/lib/python3.11/site-packages/networkx/classes/coreviews.py:286(__iter__)\n",
      "   279145    0.055    0.000    0.086    0.000 /Users/geor228/miniconda3/envs/NOCAP_env/lib/python3.11/site-packages/y0/dsl.py:171(__str__)\n",
      "    58786    0.027    0.000    0.074    0.000 {built-in method builtins.all}\n",
      "    58785    0.035    0.000    0.068    0.000 /Users/geor228/miniconda3/envs/NOCAP_env/lib/python3.11/site-packages/networkx/classes/graph.py:1977(nbunch_iter)\n",
      "   176357    0.040    0.000    0.052    0.000 /Users/geor228/miniconda3/envs/NOCAP_env/lib/python3.11/site-packages/networkx/classes/reportviews.py:185(__iter__)\n",
      "    58785    0.020    0.000    0.051    0.000 /Users/geor228/miniconda3/envs/NOCAP_env/lib/python3.11/site-packages/networkx/classes/graph.py:1361(edges)\n",
      "   293927    0.049    0.000    0.049    0.000 /Users/geor228/miniconda3/envs/NOCAP_env/lib/python3.11/site-packages/networkx/classes/graph.py:37(__set__)\n",
      "   220358    0.038    0.000    0.047    0.000 /Users/geor228/miniconda3/envs/NOCAP_env/lib/python3.11/site-packages/y0/algorithm/conditional_independencies.py:230(<genexpr>)\n",
      "    58785    0.045    0.000    0.045    0.000 /Users/geor228/miniconda3/envs/NOCAP_env/lib/python3.11/site-packages/networkx/classes/function.py:172(freeze)\n",
      "   411496    0.039    0.000    0.039    0.000 {method '__exit__' of '_thread.RLock' objects}\n",
      "   117572    0.036    0.000    0.036    0.000 /Users/geor228/miniconda3/envs/NOCAP_env/lib/python3.11/site-packages/y0/graph.py:75(__post_init__)\n",
      "   588561    0.036    0.000    0.036    0.000 /Users/geor228/miniconda3/envs/NOCAP_env/lib/python3.11/site-packages/networkx/classes/filters.py:20(no_filter)\n",
      "    58785    0.035    0.000    0.035    0.000 <string>:2(__init__)\n",
      "    58785    0.024    0.000    0.033    0.000 /Users/geor228/miniconda3/envs/NOCAP_env/lib/python3.11/site-packages/networkx/classes/digraph.py:384(succ)\n",
      "   279145    0.031    0.000    0.031    0.000 /Users/geor228/miniconda3/envs/NOCAP_env/lib/python3.11/site-packages/y0/dsl.py:251(to_y0)\n",
      "   117572    0.030    0.000    0.030    0.000 /Users/geor228/miniconda3/envs/NOCAP_env/lib/python3.11/site-packages/networkx/classes/digraph.py:37(__set__)\n",
      "   235142    0.030    0.000    0.030    0.000 /Users/geor228/miniconda3/envs/NOCAP_env/lib/python3.11/site-packages/networkx/classes/reportviews.py:1093(__call__)\n",
      "   176356    0.029    0.000    0.029    0.000 /Users/geor228/miniconda3/envs/NOCAP_env/lib/python3.11/site-packages/networkx/classes/reportviews.py:178(__init__)\n",
      "   236249    0.028    0.000    0.028    0.000 /Users/geor228/miniconda3/envs/NOCAP_env/lib/python3.11/site-packages/networkx/classes/coreviews.py:43(__init__)\n",
      "    58785    0.019    0.000    0.027    0.000 /Users/geor228/miniconda3/envs/NOCAP_env/lib/python3.11/site-packages/networkx/classes/graph.py:375(adj)\n",
      "   177464    0.025    0.000    0.025    0.000 /Users/geor228/miniconda3/envs/NOCAP_env/lib/python3.11/site-packages/networkx/classes/coreviews.py:279(__init__)\n",
      "   279145    0.020    0.000    0.020    0.000 /Users/geor228/miniconda3/envs/NOCAP_env/lib/python3.11/site-packages/networkx/classes/digraph.py:1232(is_directed)\n",
      "   117572    0.018    0.000    0.018    0.000 /Users/geor228/miniconda3/envs/NOCAP_env/lib/python3.11/site-packages/networkx/classes/digraph.py:63(__set__)\n",
      "    58786    0.014    0.000    0.014    0.000 {method 'union' of 'set' objects}\n",
      "   117572    0.013    0.000    0.013    0.000 /Users/geor228/miniconda3/envs/NOCAP_env/lib/python3.11/site-packages/networkx/classes/reportviews.py:205(__call__)\n",
      "    58785    0.010    0.000    0.010    0.000 /Users/geor228/miniconda3/envs/NOCAP_env/lib/python3.11/site-packages/networkx/classes/coreviews.py:321(__init__)\n",
      "   117576    0.010    0.000    0.010    0.000 {built-in method from_iterable}\n",
      "   117570    0.008    0.000    0.008    0.000 /Users/geor228/miniconda3/envs/NOCAP_env/lib/python3.11/site-packages/networkx/classes/graph.py:1562(is_directed)\n",
      "    58785    0.004    0.000    0.004    0.000 /Users/geor228/miniconda3/envs/NOCAP_env/lib/python3.11/site-packages/networkx/classes/graph.py:1558(is_multigraph)\n",
      "    58782    0.004    0.000    0.004    0.000 {method 'reverse' of 'list' objects}\n",
      "        1    0.000    0.000    0.003    0.003 /Users/geor228/miniconda3/envs/NOCAP_env/lib/python3.11/site-packages/y0/algorithm/conditional_independencies.py:165(get_topological_policy)\n",
      "      135    0.000    0.000    0.003    0.000 /Users/geor228/miniconda3/envs/NOCAP_env/lib/python3.11/site-packages/networkx/algorithms/dag.py:244(topological_sort)\n",
      "       20    0.001    0.000    0.003    0.000 /Users/geor228/miniconda3/envs/NOCAP_env/lib/python3.11/site-packages/networkx/algorithms/dag.py:166(topological_generations)\n",
      "      270    0.000    0.000    0.000    0.000 /Users/geor228/miniconda3/envs/NOCAP_env/lib/python3.11/site-packages/networkx/classes/reportviews.py:577(__iter__)\n",
      "        1    0.000    0.000    0.000    0.000 /Users/geor228/miniconda3/envs/NOCAP_env/lib/python3.11/site-packages/networkx/algorithms/dag.py:219(<dictcomp>)\n",
      "      134    0.000    0.000    0.000    0.000 /Users/geor228/miniconda3/envs/NOCAP_env/lib/python3.11/site-packages/networkx/classes/digraph.py:883(successors)\n",
      "        1    0.000    0.000    0.000    0.000 /Users/geor228/miniconda3/envs/NOCAP_env/lib/python3.11/site-packages/networkx/algorithms/dag.py:220(<listcomp>)\n",
      "        1    0.000    0.000    0.000    0.000 /Users/geor228/miniconda3/envs/NOCAP_env/lib/python3.11/site-packages/tqdm/notebook.py:202(__init__)\n",
      "        1    0.000    0.000    0.000    0.000 /Users/geor228/miniconda3/envs/NOCAP_env/lib/python3.11/site-packages/tqdm/asyncio.py:23(__init__)\n",
      "        1    0.000    0.000    0.000    0.000 /Users/geor228/miniconda3/envs/NOCAP_env/lib/python3.11/site-packages/tqdm/std.py:952(__init__)\n",
      "        1    0.000    0.000    0.000    0.000 /Users/geor228/miniconda3/envs/NOCAP_env/lib/python3.11/site-packages/tqdm/std.py:663(__new__)\n",
      "        1    0.000    0.000    0.000    0.000 /Users/geor228/miniconda3/envs/NOCAP_env/lib/python3.11/site-packages/tqdm/std.py:679(_get_free_pos)\n",
      "        4    0.000    0.000    0.000    0.000 /Users/geor228/miniconda3/envs/NOCAP_env/lib/python3.11/site-packages/y0/util/combinatorics.py:18(powerset)\n",
      "        2    0.000    0.000    0.000    0.000 /Users/geor228/miniconda3/envs/NOCAP_env/lib/python3.11/site-packages/tqdm/std.py:110(__enter__)\n",
      "        1    0.000    0.000    0.000    0.000 /Users/geor228/miniconda3/envs/NOCAP_env/lib/python3.11/site-packages/y0/graph.py:565(topological_sort)\n",
      "        2    0.000    0.000    0.000    0.000 /Users/geor228/miniconda3/envs/NOCAP_env/lib/python3.11/site-packages/tqdm/std.py:102(acquire)\n",
      "        1    0.000    0.000    0.000    0.000 /Users/geor228/miniconda3/envs/NOCAP_env/lib/python3.11/site-packages/tqdm/std.py:682(<setcomp>)\n",
      "        2    0.000    0.000    0.000    0.000 /Users/geor228/miniconda3/envs/NOCAP_env/lib/python3.11/_weakrefset.py:63(__iter__)\n",
      "        1    0.000    0.000    0.000    0.000 /Users/geor228/miniconda3/envs/NOCAP_env/lib/python3.11/site-packages/tqdm/utils.py:213(__init__)\n",
      "       13    0.000    0.000    0.000    0.000 /Users/geor228/miniconda3/envs/NOCAP_env/lib/python3.11/site-packages/y0/util/combinatorics.py:47(<genexpr>)\n",
      "        1    0.000    0.000    0.000    0.000 <class 'networkx.utils.decorators.argmap'> compilation 12:1(argmap_topological_sort_9)\n",
      "        2    0.000    0.000    0.000    0.000 /Users/geor228/miniconda3/envs/NOCAP_env/lib/python3.11/site-packages/tqdm/std.py:113(__exit__)\n",
      "        2    0.000    0.000    0.000    0.000 /Users/geor228/miniconda3/envs/NOCAP_env/lib/python3.11/site-packages/tqdm/std.py:106(release)\n",
      "        1    0.000    0.000    0.000    0.000 /Users/geor228/miniconda3/envs/NOCAP_env/lib/python3.11/_weakrefset.py:27(__exit__)\n",
      "        1    0.000    0.000    0.000    0.000 /Users/geor228/miniconda3/envs/NOCAP_env/lib/python3.11/_weakrefset.py:110(remove)\n",
      "        1    0.000    0.000    0.000    0.000 /Users/geor228/miniconda3/envs/NOCAP_env/lib/python3.11/_weakrefset.py:85(add)\n",
      "        2    0.000    0.000    0.000    0.000 {method 'acquire' of '_multiprocessing.SemLock' objects}\n",
      "        2    0.000    0.000    0.000    0.000 {method 'remove' of 'set' objects}\n",
      "        5    0.000    0.000    0.000    0.000 /Users/geor228/miniconda3/envs/NOCAP_env/lib/python3.11/site-packages/tqdm/notebook.py:247(__iter__)\n",
      "        1    0.000    0.000    0.000    0.000 /Users/geor228/miniconda3/envs/NOCAP_env/lib/python3.11/site-packages/tqdm/std.py:1147(__del__)\n",
      "        1    0.000    0.000    0.000    0.000 /Users/geor228/miniconda3/envs/NOCAP_env/lib/python3.11/site-packages/tqdm/utils.py:125(__eq__)\n",
      "        1    0.000    0.000    0.000    0.000 /Users/geor228/miniconda3/envs/NOCAP_env/lib/python3.11/_weakrefset.py:53(_commit_removals)\n",
      "        1    0.000    0.000    0.000    0.000 /Users/geor228/miniconda3/envs/NOCAP_env/lib/python3.11/functools.py:393(__get__)\n",
      "        2    0.000    0.000    0.000    0.000 /Users/geor228/miniconda3/envs/NOCAP_env/lib/python3.11/site-packages/tqdm/utils.py:187(disable_on_exception)\n",
      "        1    0.000    0.000    0.000    0.000 <class 'networkx.utils.decorators.argmap'> compilation 16:1(argmap_topological_generations_13)\n",
      "        2    0.000    0.000    0.000    0.000 /Users/geor228/miniconda3/envs/NOCAP_env/lib/python3.11/site-packages/tqdm/std.py:1153(_comparable)\n",
      "        2    0.000    0.000    0.000    0.000 {method 'release' of '_multiprocessing.SemLock' objects}\n",
      "        2    0.000    0.000    0.000    0.000 /Users/geor228/miniconda3/envs/NOCAP_env/lib/python3.11/site-packages/tqdm/std.py:1157(__hash__)\n",
      "        1    0.000    0.000    0.000    0.000 /Users/geor228/miniconda3/envs/NOCAP_env/lib/python3.11/site-packages/tqdm/utils.py:156(__init__)\n",
      "        1    0.000    0.000    0.000    0.000 /Users/geor228/miniconda3/envs/NOCAP_env/lib/python3.11/site-packages/tqdm/_monitor.py:94(report)\n",
      "        1    0.000    0.000    0.000    0.000 /Users/geor228/miniconda3/envs/NOCAP_env/lib/python3.11/site-packages/tqdm/std.py:760(get_lock)\n",
      "        3    0.000    0.000    0.000    0.000 /Users/geor228/miniconda3/envs/NOCAP_env/lib/python3.11/site-packages/tqdm/utils.py:152(wrapper_setattr)\n",
      "        2    0.000    0.000    0.000    0.000 /Users/geor228/miniconda3/envs/NOCAP_env/lib/python3.11/site-packages/networkx/classes/reportviews.py:426(__call__)\n",
      "        1    0.000    0.000    0.000    0.000 /Users/geor228/miniconda3/envs/NOCAP_env/lib/python3.11/_weakrefset.py:21(__enter__)\n",
      "        5    0.000    0.000    0.000    0.000 /Users/geor228/miniconda3/envs/NOCAP_env/lib/python3.11/site-packages/tqdm/std.py:1160(__iter__)\n",
      "        2    0.000    0.000    0.000    0.000 {method 'acquire' of '_thread.RLock' objects}\n",
      "        1    0.000    0.000    0.000    0.000 {built-in method __new__ of type object at 0x104d895f0}\n",
      "        1    0.000    0.000    0.000    0.000 {method 'pop' of 'list' objects}\n",
      "        1    0.000    0.000    0.000    0.000 {method 'difference' of 'set' objects}\n",
      "        2    0.000    0.000    0.000    0.000 {built-in method _weakref.proxy}\n",
      "        1    0.000    0.000    0.000    0.000 /Users/geor228/miniconda3/envs/NOCAP_env/lib/python3.11/_weakrefset.py:17(__init__)\n",
      "        2    0.000    0.000    0.000    0.000 {built-in method builtins.id}\n",
      "        1    0.000    0.000    0.000    0.000 {built-in method builtins.min}\n",
      "        1    0.000    0.000    0.000    0.000 /Users/geor228/miniconda3/envs/NOCAP_env/lib/python3.11/site-packages/tqdm/notebook.py:272(close)\n",
      "        1    0.000    0.000    0.000    0.000 {method 'disable' of '_lsprof.Profiler' objects}\n",
      "        2    0.000    0.000    0.000    0.000 {method 'pop' of 'dict' objects}\n",
      "        2    0.000    0.000    0.000    0.000 {method 'release' of '_thread.RLock' objects}\n",
      "        1    0.000    0.000    0.000    0.000 /Users/geor228/miniconda3/envs/NOCAP_env/lib/python3.11/threading.py:575(is_set)\n",
      "        2    0.000    0.000    0.000    0.000 {built-in method builtins.abs}\n",
      "        1    0.000    0.000    0.000    0.000 /Users/geor228/miniconda3/envs/NOCAP_env/lib/python3.11/site-packages/tqdm/notebook.py:225(<lambda>)\n",
      "        1    0.000    0.000    0.000    0.000 /Users/geor228/miniconda3/envs/NOCAP_env/lib/python3.11/site-packages/networkx/classes/digraph.py:1228(is_multigraph)\n",
      "\n",
      "\n",
      "\n"
     ]
    }
   ],
   "source": [
    "import cProfile\n",
    "import pstats\n",
    "import io\n",
    "\n",
    "# Define your simulation function here\n",
    "def profile_simulation():\n",
    "    fadr_df, fadr_fits = simulate(graph=fadr_graph_mixed, trials=1, generators=fadr_node_generators, weights=fadr_edge_weights)\n",
    "\n",
    "# Create a profiler object\n",
    "profiler = cProfile.Profile()\n",
    "\n",
    "try:\n",
    "    # Start the profiler\n",
    "    profiler.enable()\n",
    "    \n",
    "    # Run the simulation function\n",
    "    profile_simulation()\n",
    "    \n",
    "    # Stop the profiler\n",
    "    profiler.disable()\n",
    "    \n",
    "except KeyboardInterrupt:\n",
    "    # Stop the profiler if interrupted (e.g., cell execution is canceled)\n",
    "    profiler.disable()\n",
    "    print(\"Profiling interrupted by user.\")\n",
    "    \n",
    "finally:\n",
    "    # Create a Stats object from the profiler's data\n",
    "    stats = pstats.Stats(profiler, stream=io.StringIO()).sort_stats('cumulative')\n",
    "    \n",
    "    # Print the statistics to the console (or rather, to the notebook's output cell)\n",
    "    stats.print_stats()\n",
    "    \n",
    "    # Retrieve the stats from the StringIO object and display them in the notebook\n",
    "    print(stats.stream.getvalue())\n",
    "    \n",
    "    # Optionally, save the stats to a file for later analysis\n",
    "    stats.dump_stats('profile_results.prof')"
   ]
  },
  {
   "cell_type": "code",
   "execution_count": 70,
   "metadata": {},
   "outputs": [
    {
     "name": "stdout",
     "output_type": "stream",
     "text": [
      "The snakeviz extension is already loaded. To reload it, use:\n",
      "  %reload_ext snakeviz\n"
     ]
    },
    {
     "ename": "NameError",
     "evalue": "name 'Users' is not defined",
     "output_type": "error",
     "traceback": [
      "\u001b[0;31m---------------------------------------------------------------------------\u001b[0m",
      "\u001b[0;31mNameError\u001b[0m                                 Traceback (most recent call last)",
      "Cell \u001b[0;32mIn[70], line 7\u001b[0m\n\u001b[1;32m      4\u001b[0m get_ipython()\u001b[38;5;241m.\u001b[39mrun_line_magic(\u001b[38;5;124m'\u001b[39m\u001b[38;5;124mload_ext\u001b[39m\u001b[38;5;124m'\u001b[39m, \u001b[38;5;124m'\u001b[39m\u001b[38;5;124msnakeviz\u001b[39m\u001b[38;5;124m'\u001b[39m)\n\u001b[1;32m      6\u001b[0m \u001b[38;5;66;03m# Visualize the saved profiling data with SnakeViz\u001b[39;00m\n\u001b[0;32m----> 7\u001b[0m \u001b[43mget_ipython\u001b[49m\u001b[43m(\u001b[49m\u001b[43m)\u001b[49m\u001b[38;5;241;43m.\u001b[39;49m\u001b[43mrun_line_magic\u001b[49m\u001b[43m(\u001b[49m\u001b[38;5;124;43m'\u001b[39;49m\u001b[38;5;124;43msnakeviz\u001b[39;49m\u001b[38;5;124;43m'\u001b[39;49m\u001b[43m,\u001b[49m\u001b[43m \u001b[49m\u001b[38;5;124;43m'\u001b[39;49m\u001b[38;5;124;43m-t /Users/geor228/Github/nocap/notebooks/profile_results.prof\u001b[39;49m\u001b[38;5;124;43m'\u001b[39;49m\u001b[43m)\u001b[49m\n",
      "File \u001b[0;32m~/miniconda3/envs/NOCAP_env/lib/python3.11/site-packages/IPython/core/interactiveshell.py:2480\u001b[0m, in \u001b[0;36mInteractiveShell.run_line_magic\u001b[0;34m(self, magic_name, line, _stack_depth)\u001b[0m\n\u001b[1;32m   2478\u001b[0m     kwargs[\u001b[38;5;124m'\u001b[39m\u001b[38;5;124mlocal_ns\u001b[39m\u001b[38;5;124m'\u001b[39m] \u001b[38;5;241m=\u001b[39m \u001b[38;5;28mself\u001b[39m\u001b[38;5;241m.\u001b[39mget_local_scope(stack_depth)\n\u001b[1;32m   2479\u001b[0m \u001b[38;5;28;01mwith\u001b[39;00m \u001b[38;5;28mself\u001b[39m\u001b[38;5;241m.\u001b[39mbuiltin_trap:\n\u001b[0;32m-> 2480\u001b[0m     result \u001b[38;5;241m=\u001b[39m \u001b[43mfn\u001b[49m\u001b[43m(\u001b[49m\u001b[38;5;241;43m*\u001b[39;49m\u001b[43margs\u001b[49m\u001b[43m,\u001b[49m\u001b[43m \u001b[49m\u001b[38;5;241;43m*\u001b[39;49m\u001b[38;5;241;43m*\u001b[39;49m\u001b[43mkwargs\u001b[49m\u001b[43m)\u001b[49m\n\u001b[1;32m   2482\u001b[0m \u001b[38;5;66;03m# The code below prevents the output from being displayed\u001b[39;00m\n\u001b[1;32m   2483\u001b[0m \u001b[38;5;66;03m# when using magics with decorator @output_can_be_silenced\u001b[39;00m\n\u001b[1;32m   2484\u001b[0m \u001b[38;5;66;03m# when the last Python token in the expression is a ';'.\u001b[39;00m\n\u001b[1;32m   2485\u001b[0m \u001b[38;5;28;01mif\u001b[39;00m \u001b[38;5;28mgetattr\u001b[39m(fn, magic\u001b[38;5;241m.\u001b[39mMAGIC_OUTPUT_CAN_BE_SILENCED, \u001b[38;5;28;01mFalse\u001b[39;00m):\n",
      "File \u001b[0;32m~/miniconda3/envs/NOCAP_env/lib/python3.11/site-packages/snakeviz/ipymagic.py:84\u001b[0m, in \u001b[0;36mSnakevizMagic.snakeviz\u001b[0;34m(self, line, cell)\u001b[0m\n\u001b[1;32m     82\u001b[0m     ip\u001b[38;5;241m.\u001b[39mrun_cell_magic(\u001b[38;5;124m\"\u001b[39m\u001b[38;5;124mprun\u001b[39m\u001b[38;5;124m\"\u001b[39m, line, cell)\n\u001b[1;32m     83\u001b[0m \u001b[38;5;28;01melse\u001b[39;00m:\n\u001b[0;32m---> 84\u001b[0m     \u001b[43mip\u001b[49m\u001b[38;5;241;43m.\u001b[39;49m\u001b[43mrun_line_magic\u001b[49m\u001b[43m(\u001b[49m\u001b[38;5;124;43m\"\u001b[39;49m\u001b[38;5;124;43mprun\u001b[39;49m\u001b[38;5;124;43m\"\u001b[39;49m\u001b[43m,\u001b[49m\u001b[43m \u001b[49m\u001b[43mline\u001b[49m\u001b[43m)\u001b[49m\n\u001b[1;32m     86\u001b[0m \u001b[38;5;66;03m# start up a Snakeviz server\u001b[39;00m\n\u001b[1;32m     87\u001b[0m \u001b[38;5;28;01mif\u001b[39;00m _check_ipynb() \u001b[38;5;129;01mand\u001b[39;00m \u001b[38;5;129;01mnot\u001b[39;00m (\u001b[38;5;124m\"\u001b[39m\u001b[38;5;124mt\u001b[39m\u001b[38;5;124m\"\u001b[39m \u001b[38;5;129;01min\u001b[39;00m opts \u001b[38;5;129;01mor\u001b[39;00m \u001b[38;5;124m\"\u001b[39m\u001b[38;5;124mnew-tab\u001b[39m\u001b[38;5;124m\"\u001b[39m \u001b[38;5;129;01min\u001b[39;00m opts):\n",
      "File \u001b[0;32m~/miniconda3/envs/NOCAP_env/lib/python3.11/site-packages/IPython/core/interactiveshell.py:2480\u001b[0m, in \u001b[0;36mInteractiveShell.run_line_magic\u001b[0;34m(self, magic_name, line, _stack_depth)\u001b[0m\n\u001b[1;32m   2478\u001b[0m     kwargs[\u001b[38;5;124m'\u001b[39m\u001b[38;5;124mlocal_ns\u001b[39m\u001b[38;5;124m'\u001b[39m] \u001b[38;5;241m=\u001b[39m \u001b[38;5;28mself\u001b[39m\u001b[38;5;241m.\u001b[39mget_local_scope(stack_depth)\n\u001b[1;32m   2479\u001b[0m \u001b[38;5;28;01mwith\u001b[39;00m \u001b[38;5;28mself\u001b[39m\u001b[38;5;241m.\u001b[39mbuiltin_trap:\n\u001b[0;32m-> 2480\u001b[0m     result \u001b[38;5;241m=\u001b[39m \u001b[43mfn\u001b[49m\u001b[43m(\u001b[49m\u001b[38;5;241;43m*\u001b[39;49m\u001b[43margs\u001b[49m\u001b[43m,\u001b[49m\u001b[43m \u001b[49m\u001b[38;5;241;43m*\u001b[39;49m\u001b[38;5;241;43m*\u001b[39;49m\u001b[43mkwargs\u001b[49m\u001b[43m)\u001b[49m\n\u001b[1;32m   2482\u001b[0m \u001b[38;5;66;03m# The code below prevents the output from being displayed\u001b[39;00m\n\u001b[1;32m   2483\u001b[0m \u001b[38;5;66;03m# when using magics with decorator @output_can_be_silenced\u001b[39;00m\n\u001b[1;32m   2484\u001b[0m \u001b[38;5;66;03m# when the last Python token in the expression is a ';'.\u001b[39;00m\n\u001b[1;32m   2485\u001b[0m \u001b[38;5;28;01mif\u001b[39;00m \u001b[38;5;28mgetattr\u001b[39m(fn, magic\u001b[38;5;241m.\u001b[39mMAGIC_OUTPUT_CAN_BE_SILENCED, \u001b[38;5;28;01mFalse\u001b[39;00m):\n",
      "File \u001b[0;32m~/miniconda3/envs/NOCAP_env/lib/python3.11/site-packages/IPython/core/magics/execution.py:313\u001b[0m, in \u001b[0;36mExecutionMagics.prun\u001b[0;34m(self, parameter_s, cell)\u001b[0m\n\u001b[1;32m    311\u001b[0m     arg_str \u001b[38;5;241m+\u001b[39m\u001b[38;5;241m=\u001b[39m \u001b[38;5;124m'\u001b[39m\u001b[38;5;130;01m\\n\u001b[39;00m\u001b[38;5;124m'\u001b[39m \u001b[38;5;241m+\u001b[39m cell\n\u001b[1;32m    312\u001b[0m arg_str \u001b[38;5;241m=\u001b[39m \u001b[38;5;28mself\u001b[39m\u001b[38;5;241m.\u001b[39mshell\u001b[38;5;241m.\u001b[39mtransform_cell(arg_str)\n\u001b[0;32m--> 313\u001b[0m \u001b[38;5;28;01mreturn\u001b[39;00m \u001b[38;5;28;43mself\u001b[39;49m\u001b[38;5;241;43m.\u001b[39;49m\u001b[43m_run_with_profiler\u001b[49m\u001b[43m(\u001b[49m\u001b[43marg_str\u001b[49m\u001b[43m,\u001b[49m\u001b[43m \u001b[49m\u001b[43mopts\u001b[49m\u001b[43m,\u001b[49m\u001b[43m \u001b[49m\u001b[38;5;28;43mself\u001b[39;49m\u001b[38;5;241;43m.\u001b[39;49m\u001b[43mshell\u001b[49m\u001b[38;5;241;43m.\u001b[39;49m\u001b[43muser_ns\u001b[49m\u001b[43m)\u001b[49m\n",
      "File \u001b[0;32m~/miniconda3/envs/NOCAP_env/lib/python3.11/site-packages/IPython/core/magics/execution.py:335\u001b[0m, in \u001b[0;36mExecutionMagics._run_with_profiler\u001b[0;34m(self, code, opts, namespace)\u001b[0m\n\u001b[1;32m    333\u001b[0m prof \u001b[38;5;241m=\u001b[39m profile\u001b[38;5;241m.\u001b[39mProfile()\n\u001b[1;32m    334\u001b[0m \u001b[38;5;28;01mtry\u001b[39;00m:\n\u001b[0;32m--> 335\u001b[0m     prof \u001b[38;5;241m=\u001b[39m \u001b[43mprof\u001b[49m\u001b[38;5;241;43m.\u001b[39;49m\u001b[43mrunctx\u001b[49m\u001b[43m(\u001b[49m\u001b[43mcode\u001b[49m\u001b[43m,\u001b[49m\u001b[43m \u001b[49m\u001b[43mnamespace\u001b[49m\u001b[43m,\u001b[49m\u001b[43m \u001b[49m\u001b[43mnamespace\u001b[49m\u001b[43m)\u001b[49m\n\u001b[1;32m    336\u001b[0m     sys_exit \u001b[38;5;241m=\u001b[39m \u001b[38;5;124m'\u001b[39m\u001b[38;5;124m'\u001b[39m\n\u001b[1;32m    337\u001b[0m \u001b[38;5;28;01mexcept\u001b[39;00m \u001b[38;5;167;01mSystemExit\u001b[39;00m:\n",
      "File \u001b[0;32m~/miniconda3/envs/NOCAP_env/lib/python3.11/cProfile.py:101\u001b[0m, in \u001b[0;36mProfile.runctx\u001b[0;34m(self, cmd, globals, locals)\u001b[0m\n\u001b[1;32m     99\u001b[0m \u001b[38;5;28mself\u001b[39m\u001b[38;5;241m.\u001b[39menable()\n\u001b[1;32m    100\u001b[0m \u001b[38;5;28;01mtry\u001b[39;00m:\n\u001b[0;32m--> 101\u001b[0m     \u001b[43mexec\u001b[49m\u001b[43m(\u001b[49m\u001b[43mcmd\u001b[49m\u001b[43m,\u001b[49m\u001b[43m \u001b[49m\u001b[38;5;28;43mglobals\u001b[39;49m\u001b[43m,\u001b[49m\u001b[43m \u001b[49m\u001b[38;5;28;43mlocals\u001b[39;49m\u001b[43m)\u001b[49m\n\u001b[1;32m    102\u001b[0m \u001b[38;5;28;01mfinally\u001b[39;00m:\n\u001b[1;32m    103\u001b[0m     \u001b[38;5;28mself\u001b[39m\u001b[38;5;241m.\u001b[39mdisable()\n",
      "File \u001b[0;32m<string>:1\u001b[0m\n",
      "\u001b[0;31mNameError\u001b[0m: name 'Users' is not defined"
     ]
    }
   ],
   "source": [
    "#!pip install snakeviz\n",
    "\n",
    "# # Load the SnakeViz extension in the Jupyter notebook\n",
    "# %load_ext snakeviz\n",
    "\n",
    "# # Visualize the saved profiling data with SnakeViz\n",
    "# %snakeviz -t /Users/geor228/Github/nocap/notebooks/profile_results.prof"
   ]
  },
  {
   "cell_type": "code",
   "execution_count": null,
   "metadata": {},
   "outputs": [],
   "source": [
    "# calibrate model (edge weights) to data \n",
    "fadr_estimated_edge_weights = get_single_door_updated(fadr_graph_mixed,fadr_df)\n",
    "print(f\"estimated edge weights: {fadr_estimated_edge_weights}\")\n",
    "\n",
    "for edge, weight in fadr_edge_weights.items():\n",
    "        estimated_weight = fadr_estimated_edge_weights[edge]\n",
    "        # Use numpy.allclose to compare the weights with a tolerance\n",
    "        assert np.allclose(weight, estimated_weight, atol=1e-2), f\"Edge {edge}: expected {weight}, got {estimated_weight}\"\n",
    "\n",
    "\n",
    "# # non-linear (Hill) model in SERGIO\n"
   ]
  },
  {
   "cell_type": "code",
   "execution_count": 30,
   "metadata": {},
   "outputs": [],
   "source": [
    "# simulate data for subnetworks "
   ]
  },
  {
   "cell_type": "code",
   "execution_count": null,
   "metadata": {},
   "outputs": [],
   "source": [
    "# compute single door criterion"
   ]
  },
  {
   "cell_type": "code",
   "execution_count": null,
   "metadata": {},
   "outputs": [],
   "source": [
    "# save "
   ]
  },
  {
   "cell_type": "code",
   "execution_count": null,
   "metadata": {},
   "outputs": [],
   "source": []
  },
  {
   "cell_type": "code",
   "execution_count": null,
   "metadata": {},
   "outputs": [],
   "source": []
  },
  {
   "cell_type": "code",
   "execution_count": null,
   "metadata": {},
   "outputs": [],
   "source": [
    "def intervene_on_state_variable(model:NxMixedGraph, intervention:dict[y0.dsl.Variable,float])->NxMixedGraph:\n",
    "    pass\n",
    "\n",
    "def intervene_on_parameter(model:NxMixedGraph, intervention:dict[sy.Symbol,float])->NxMixedGraph:\n",
    "    pass\n",
    "\n",
    "\n"
   ]
  },
  {
   "cell_type": "code",
   "execution_count": null,
   "metadata": {},
   "outputs": [],
   "source": [
    "def sample_model(model:NxMixedGraph, n_samples:int, parameters:dict[sy.Symbol,float], parameter_interventions, state_interventions)->pd.DataFrame:\n",
    "    pass"
   ]
  },
  {
   "cell_type": "code",
   "execution_count": null,
   "metadata": {},
   "outputs": [],
   "source": []
  },
  {
   "cell_type": "code",
   "execution_count": null,
   "metadata": {},
   "outputs": [],
   "source": []
  },
  {
   "cell_type": "code",
   "execution_count": null,
   "metadata": {},
   "outputs": [],
   "source": []
  }
 ],
 "metadata": {
  "kernelspec": {
   "display_name": "NOCAP_env",
   "language": "python",
   "name": "python3"
  },
  "language_info": {
   "codemirror_mode": {
    "name": "ipython",
    "version": 3
   },
   "file_extension": ".py",
   "mimetype": "text/x-python",
   "name": "python",
   "nbconvert_exporter": "python",
   "pygments_lexer": "ipython3",
   "version": "3.11.7"
  }
 },
 "nbformat": 4,
 "nbformat_minor": 2
}
