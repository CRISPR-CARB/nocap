{
 "cells": [
  {
   "cell_type": "code",
   "execution_count": 3,
   "metadata": {},
   "outputs": [],
   "source": [
    "from functools import partial\n",
    "from statistics import fmean\n",
    "\n",
    "import networkx as nx\n",
    "import numpy as np\n",
    "import pandas as pd\n",
    "import pgmpy\n",
    "import sympy\n",
    "import sympy as sy\n",
    "import y0\n",
    "from numpy.random import normal, uniform\n",
    "from pgmpy.models import BayesianNetwork\n",
    "from sklearn.linear_model import LinearRegression\n",
    "from y0.algorithm.estimation.linear_scm import get_single_door\n",
    "from y0.dsl import V1, V2, V3, V4, V5, V6, Variable\n",
    "from y0.graph import NxMixedGraph\n",
    "from y0.simulation import LinearSCM, example_generators, example_graph, get_fits_df, simulate\n",
    "\n",
    "from nocap import scm\n",
    "\n",
    "#!pip install pgmpy"
   ]
  },
  {
   "cell_type": "code",
   "execution_count": 4,
   "metadata": {},
   "outputs": [
    {
     "name": "stdout",
     "output_type": "stream",
     "text": [
      "actual edge weights: {(V1, V2): 1.3745401188473625, (V1, V4): 1.9507143064099162, (V2, V5): 1.731993941811405, (V4, V5): 1.5986584841970366, (V4, V6): 1.1560186404424364, (V5, V6): 1.1559945203362028, (V3, V5): 1.0580836121681996}\n"
     ]
    },
    {
     "data": {
      "text/html": [
       "<div>\n",
       "<style scoped>\n",
       "    .dataframe tbody tr th:only-of-type {\n",
       "        vertical-align: middle;\n",
       "    }\n",
       "\n",
       "    .dataframe tbody tr th {\n",
       "        vertical-align: top;\n",
       "    }\n",
       "\n",
       "    .dataframe thead th {\n",
       "        text-align: right;\n",
       "    }\n",
       "</style>\n",
       "<table border=\"1\" class=\"dataframe\">\n",
       "  <thead>\n",
       "    <tr style=\"text-align: right;\">\n",
       "      <th></th>\n",
       "      <th>V1</th>\n",
       "      <th>V3</th>\n",
       "      <th>V2</th>\n",
       "      <th>V4</th>\n",
       "      <th>V5</th>\n",
       "      <th>V6</th>\n",
       "    </tr>\n",
       "  </thead>\n",
       "  <tbody>\n",
       "    <tr>\n",
       "      <th>0</th>\n",
       "      <td>3.732352</td>\n",
       "      <td>3.202230</td>\n",
       "      <td>8.546413</td>\n",
       "      <td>9.321922</td>\n",
       "      <td>37.032952</td>\n",
       "      <td>57.251091</td>\n",
       "    </tr>\n",
       "    <tr>\n",
       "      <th>1</th>\n",
       "      <td>2.424678</td>\n",
       "      <td>2.363650</td>\n",
       "      <td>5.699627</td>\n",
       "      <td>7.338339</td>\n",
       "      <td>27.153669</td>\n",
       "      <td>42.736639</td>\n",
       "    </tr>\n",
       "    <tr>\n",
       "      <th>2</th>\n",
       "      <td>2.582458</td>\n",
       "      <td>3.223706</td>\n",
       "      <td>5.828680</td>\n",
       "      <td>7.621928</td>\n",
       "      <td>28.423772</td>\n",
       "      <td>44.580955</td>\n",
       "    </tr>\n",
       "    <tr>\n",
       "      <th>3</th>\n",
       "      <td>3.570352</td>\n",
       "      <td>2.399348</td>\n",
       "      <td>7.936061</td>\n",
       "      <td>10.149566</td>\n",
       "      <td>34.602510</td>\n",
       "      <td>54.948489</td>\n",
       "    </tr>\n",
       "    <tr>\n",
       "      <th>4</th>\n",
       "      <td>2.341048</td>\n",
       "      <td>2.130103</td>\n",
       "      <td>7.115636</td>\n",
       "      <td>8.497980</td>\n",
       "      <td>31.780229</td>\n",
       "      <td>49.170821</td>\n",
       "    </tr>\n",
       "  </tbody>\n",
       "</table>\n",
       "</div>"
      ],
      "text/plain": [
       "         V1        V3        V2         V4         V5         V6\n",
       "0  3.732352  3.202230  8.546413   9.321922  37.032952  57.251091\n",
       "1  2.424678  2.363650  5.699627   7.338339  27.153669  42.736639\n",
       "2  2.582458  3.223706  5.828680   7.621928  28.423772  44.580955\n",
       "3  3.570352  2.399348  7.936061  10.149566  34.602510  54.948489\n",
       "4  2.341048  2.130103  7.115636   8.497980  31.780229  49.170821"
      ]
     },
     "metadata": {},
     "output_type": "display_data"
    },
    {
     "name": "stdout",
     "output_type": "stream",
     "text": [
      "estimated edge weights: {(V1, V2): 1.3782421304175256, (V1, V4): 1.9552183862001722, (V2, V5): 1.731094303897752, (V4, V5): 1.5985860648810364, (V4, V6): 1.155387459878343, (V5, V6): 1.1555813046856196, (V3, V5): 1.056662898196486}\n",
      "[(V1, V2), (V1, V4), (V2, V5), (V4, V5), (V4, V6), (V5, V6), (V3, V5)]\n"
     ]
    },
    {
     "data": {
      "image/png": "[encoded data removed]",
      "text/plain": [
       "<Figure size 640x480 with 1 Axes>"
      ]
     },
     "metadata": {},
     "output_type": "display_data"
    }
   ],
   "source": [
    "# def get_single_door_updated(\n",
    "#     graph: NxMixedGraph, data: pd.DataFrame\n",
    "# ) -> dict[tuple[Variable, Variable], float]:\n",
    "#     \"\"\"Estimate parameter values for a linear SCM using backdoor adjustment.\"\"\"\n",
    "#     rv = {}\n",
    "\n",
    "#     for source, target in graph.directed.edges():\n",
    "#         temp_graph = graph.copy()\n",
    "#         temp_graph.directed.remove_edge(source, target)  # remove edge from source to target\n",
    "#         pgmpy_graph = to_pgmpy_bayesian_network_updated(temp_graph)\n",
    "#         try:\n",
    "#             raw_adjustment_sets = pgmpy_graph.minimal_dseparator(source.name, target.name)\n",
    "#             if raw_adjustment_sets is None:\n",
    "#                 # There are no valid adjustment sets.\n",
    "#                 continue\n",
    "#             # Ensure we have a set of frozensets, with each frozenset containing variable names\n",
    "#             adjustment_sets = {\n",
    "#                 (\n",
    "#                     frozenset([adjustment_set])\n",
    "#                     if isinstance(adjustment_set, str)\n",
    "#                     else frozenset(adjustment_set)\n",
    "#                 )\n",
    "#                 for adjustment_set in raw_adjustment_sets\n",
    "#             }\n",
    "#         except ValueError:\n",
    "#             # There are no valid adjustment sets.\n",
    "#             continue\n",
    "#         if not adjustment_sets:\n",
    "#             # There is a valid adjustment set, and it is the empty set, so just regress the target on the source.\n",
    "#             adjustment_sets = frozenset([frozenset([])])\n",
    "#         coefficients = []\n",
    "#         for adjustment_set in adjustment_sets:\n",
    "#             # Ensure adjustment_set is a set before performing the union operation.\n",
    "#             variables = sorted(set(adjustment_set) | {source.name})\n",
    "#             idx = variables.index(source.name)\n",
    "#             model = LinearRegression()\n",
    "#             model.fit(data[variables], data[target.name])\n",
    "#             coefficients.append(model.coef_[idx])\n",
    "#         rv[source, target] = fmean(coefficients)\n",
    "#     return rv\n",
    "\n",
    "\n",
    "# def to_pgmpy_bayesian_network_updated(graph: NxMixedGraph) -> BayesianNetwork:\n",
    "#     \"\"\"Convert a mixed graph to an equivalent :class:`pgmpy.BayesianNetwork`.\"\"\"\n",
    "\n",
    "#     # Get all directed edges with node names\n",
    "#     edges = [(u.name, v.name) for u, v in graph.directed.edges()]\n",
    "\n",
    "#     # Initialize set for latent variables\n",
    "#     latents = set()\n",
    "\n",
    "#     # Handle undirected edges by introducing latent variables\n",
    "#     for u, v in graph.undirected.edges():\n",
    "#         latent = f\"U_{u.name}_{v.name}\"\n",
    "#         latents.add(latent)\n",
    "#         edges.append((latent, u.name))\n",
    "#         edges.append((latent, v.name))\n",
    "\n",
    "#     # Initialize the BayesianNetwork with edges\n",
    "#     model = BayesianNetwork(ebunch=edges, latents=latents)\n",
    "\n",
    "#     # Add all original nodes to the BayesianNetwork\n",
    "#     for node in graph.directed.nodes():\n",
    "#         if node.name not in model.nodes():\n",
    "#             model.add_node(node.name)\n",
    "\n",
    "#     return model\n",
    "\n",
    "\n",
    "np.random.seed(42)\n",
    "\n",
    "\n",
    "# create model\n",
    "graph = example_graph  # NxMixedGraph\n",
    "\n",
    "graph.draw(prog=\"neato\")\n",
    "\n",
    "node_generators = {node: partial(uniform, low=2.0, high=4.0) for node in graph.nodes()}\n",
    "\n",
    "edge_weights = {edge: uniform(low=1.0, high=2.0) for edge in graph.directed.edges()}\n",
    "print(f\"actual edge weights: {edge_weights}\")\n",
    "\n",
    "\n",
    "# simulate data\n",
    "# df, fits = simulate(graph=graph, trials=100000, generators=node_generators, weights=edge_weights)\n",
    "\n",
    "df = scm.simulate_lscm(\n",
    "    graph=graph, node_generators=node_generators, edge_weights=edge_weights, n_samples=100000\n",
    ")\n",
    "\n",
    "display(df.head())\n",
    "\n",
    "# calibrate model (edge weights) to data\n",
    "# estimated_edge_weights = get_single_door_updated(graph, df)\n",
    "\n",
    "estimated_edge_weights = scm.calibrate_lscm(graph, df)\n",
    "print(f\"estimated edge weights: {estimated_edge_weights}\")\n",
    "\n",
    "print(graph.directed.edges)\n",
    "\n",
    "for edge, weight in edge_weights.items():\n",
    "    estimated_weight = estimated_edge_weights[edge]\n",
    "    # Use numpy.allclose to compare the weights with a tolerance\n",
    "    assert np.allclose(\n",
    "        weight, estimated_weight, atol=1e-2\n",
    "    ), f\"Edge {edge}: expected {weight}, got {estimated_weight}\""
   ]
  },
  {
   "cell_type": "code",
   "execution_count": 6,
   "metadata": {},
   "outputs": [
    {
     "name": "stdout",
     "output_type": "stream",
     "text": [
      "All tests passed!\n"
     ]
    },
    {
     "data": {
      "image/png": "[encoded data removed]",
      "text/plain": [
       "<Figure size 640x480 with 1 Axes>"
      ]
     },
     "metadata": {},
     "output_type": "display_data"
    }
   ],
   "source": [
    "intervention_node = (Variable(\"V4\"), 10.0)\n",
    "intervened_lscm = scm.intervene_on_lscm(graph, intervention_node, node_generators, edge_weights)\n",
    "\n",
    "# Check resulting graph and edge weights\n",
    "intervened_graph = intervened_lscm.graph\n",
    "intervened_generators = intervened_lscm.generators\n",
    "intervened_weights = intervened_lscm.weights\n",
    "\n",
    "# Draw the intervened graph\n",
    "intervened_lscm.graph.draw(prog=\"neato\")\n",
    "\n",
    "# The edge ('V1', 'V4') should be removed along with its weight\n",
    "assert (\"V1\", \"V4\") not in intervened_weights, \"Edge ('V1', 'V4') should be removed from weights\"\n",
    "assert (\n",
    "    \"V1\",\n",
    "    \"V4\",\n",
    ") not in intervened_graph.directed.edges(), \"Edge ('V1', 'V4') should be removed from graph\"\n",
    "\n",
    "# Check that the node generator for 'V4' returns 10\n",
    "assert (\n",
    "    intervened_generators[Variable(\"V4\")]() == 10.0\n",
    "), \"Generator for 'V4' should return the intervention value\"\n",
    "\n",
    "print(\"All tests passed!\")"
   ]
  },
  {
   "cell_type": "code",
   "execution_count": null,
   "metadata": {},
   "outputs": [],
   "source": []
  },
  {
   "cell_type": "code",
   "execution_count": null,
   "metadata": {},
   "outputs": [],
   "source": [
    "def remove_incoming_edge_weights(edges_dict, target_node):\n",
    "    \"\"\"Return a new dictionary with weights of incoming edges to the target node set to 0.\"\"\"\n",
    "    # Create a new dictionary to avoid modifying the original\n",
    "    new_edges_dict = edges_dict.copy()\n",
    "\n",
    "    # Iterate over the edges and update the weight if it's an incoming edge to the target node\n",
    "    for edge, weight in edges_dict.items():\n",
    "        if edge[1] == target_node:\n",
    "            new_edges_dict[edge] = 0\n",
    "\n",
    "    return new_edges_dict\n",
    "\n",
    "\n",
    "intervention_target = V4\n",
    "intervened_edge_weights = remove_incoming_edge_weights(edge_weights, intervention_target)\n",
    "print(f\"intervened_edge_weights: {intervened_edge_weights}\")\n",
    "\n",
    "intervened_df, intervened_fits = simulate(\n",
    "    graph=graph, trials=10000, generators=node_generators, weights=intervened_edge_weights\n",
    ")\n",
    "print(intervened_df.head())"
   ]
  },
  {
   "cell_type": "markdown",
   "metadata": {},
   "source": []
  },
  {
   "cell_type": "code",
   "execution_count": 8,
   "metadata": {},
   "outputs": [
    {
     "ename": "NameError",
     "evalue": "name 'intervened_df' is not defined",
     "output_type": "error",
     "traceback": [
      "\u001b[0;31m---------------------------------------------------------------------------\u001b[0m",
      "\u001b[0;31mNameError\u001b[0m                                 Traceback (most recent call last)",
      "Cell \u001b[0;32mIn[8], line 16\u001b[0m\n\u001b[1;32m     11\u001b[0m         avg_treatment_effect_dict[v] \u001b[38;5;241m=\u001b[39m avg_treatment_effect\n\u001b[1;32m     12\u001b[0m     \u001b[38;5;28;01mreturn\u001b[39;00m avg_treatment_effect_dict\n\u001b[1;32m     15\u001b[0m avg_treatment_effect_dict \u001b[38;5;241m=\u001b[39m compute_average_treatment_effect(\n\u001b[0;32m---> 16\u001b[0m     df, \u001b[43mintervened_df\u001b[49m, [V1, V2, V3, V4, V5, V6]\n\u001b[1;32m     17\u001b[0m )\n\u001b[1;32m     18\u001b[0m \u001b[38;5;28mprint\u001b[39m(\u001b[38;5;124mf\u001b[39m\u001b[38;5;124m\"\u001b[39m\u001b[38;5;124mATE - intervening on \u001b[39m\u001b[38;5;132;01m{\u001b[39;00mintervention_target\u001b[38;5;132;01m}\u001b[39;00m\u001b[38;5;124m: \u001b[39m\u001b[38;5;132;01m{\u001b[39;00mavg_treatment_effect_dict\u001b[38;5;132;01m}\u001b[39;00m\u001b[38;5;124m\"\u001b[39m)\n",
      "\u001b[0;31mNameError\u001b[0m: name 'intervened_df' is not defined"
     ]
    }
   ],
   "source": [
    "def compute_average_treatment_effect(\n",
    "    treatment1: pd.DataFrame, treatment2: pd.DataFrame, outcome_variables: list[Variable]\n",
    ") -> dict[Variable, float]:\n",
    "    \"Computes the average treatment effect (i.e., E[Y1-Y0]).\"\n",
    "\n",
    "    avg_treatment_effect_dict = {}\n",
    "    for v in outcome_variables:\n",
    "        avg_untreated = treatment1.loc[:, str(v)].mean()\n",
    "        avg_treated = treatment2.loc[:, str(v)].mean()\n",
    "        avg_treatment_effect = avg_treated - avg_untreated\n",
    "        avg_treatment_effect_dict[v] = avg_treatment_effect\n",
    "    return avg_treatment_effect_dict\n",
    "\n",
    "\n",
    "avg_treatment_effect_dict = compute_average_treatment_effect(\n",
    "    df, intervened_df, [V1, V2, V3, V4, V5, V6]\n",
    ")\n",
    "print(f\"ATE - intervening on {intervention_target}: {avg_treatment_effect_dict}\")"
   ]
  },
  {
   "cell_type": "markdown",
   "metadata": {},
   "source": [
    "# E. Coli."
   ]
  },
  {
   "cell_type": "code",
   "execution_count": 7,
   "metadata": {},
   "outputs": [
    {
     "ename": "ImportError",
     "evalue": "cannot import name 'utility' from 'nocap' (/Users/geor228/Github/nocap/src/nocap/__init__.py)",
     "output_type": "error",
     "traceback": [
      "\u001b[0;31m---------------------------------------------------------------------------\u001b[0m",
      "\u001b[0;31mImportError\u001b[0m                               Traceback (most recent call last)",
      "Cell \u001b[0;32mIn[7], line 1\u001b[0m\n\u001b[0;32m----> 1\u001b[0m \u001b[38;5;28;01mfrom\u001b[39;00m \u001b[38;5;21;01mnocap\u001b[39;00m \u001b[38;5;28;01mimport\u001b[39;00m utility\n\u001b[1;32m      3\u001b[0m np\u001b[38;5;241m.\u001b[39mrandom\u001b[38;5;241m.\u001b[39mseed(\u001b[38;5;241m42\u001b[39m)\n\u001b[1;32m      4\u001b[0m \u001b[38;5;66;03m# load ecoli network\u001b[39;00m\n",
      "\u001b[0;31mImportError\u001b[0m: cannot import name 'utility' from 'nocap' (/Users/geor228/Github/nocap/src/nocap/__init__.py)"
     ]
    }
   ],
   "source": [
    "from nocap import utility\n",
    "\n",
    "np.random.seed(42)\n",
    "# load ecoli network\n",
    "\n",
    "file_path = \"/Users/geor228/Github/nocap/notebooks/ecoli/ECOLI-regulatory-network.txt\"\n",
    "ecoli_network = utility.parse_regulation_file(file_path)\n",
    "\n",
    "print(len(ecoli_network.edges))\n",
    "\n",
    "# nx.write_graphml(ecoli_network, \"ecoli_full_network.graphml\")"
   ]
  },
  {
   "cell_type": "markdown",
   "metadata": {},
   "source": [
    "## fadR"
   ]
  },
  {
   "cell_type": "code",
   "execution_count": null,
   "metadata": {},
   "outputs": [],
   "source": [
    "# fadR\n",
    "fadr_graph = utility.get_subgraph_from_nodes(ecoli_network, [\"fadR\"], descendants_only=False)\n",
    "fadr_graph_dag = utility.convert_to_acyclic_graph_fancy(fadr_graph, \"fadR\")\n",
    "fadr_graph_mixed = NxMixedGraph.from_str_edges(directed=fadr_graph_dag.edges)\n",
    "print(len(fadr_graph_mixed.directed.nodes))\n",
    "print(len(fadr_graph_mixed.directed.edges))"
   ]
  },
  {
   "cell_type": "code",
   "execution_count": null,
   "metadata": {},
   "outputs": [],
   "source": [
    "# linear model\n",
    "np.random.seed(42)\n",
    "fadr_node_generators = {\n",
    "    node: partial(uniform, low=-1.0, high=1.0) for node in fadr_graph_mixed.nodes()\n",
    "}\n",
    "fadr_edge_weights = {edge: uniform(low=0.0, high=1.0) for edge in fadr_graph_mixed.directed.edges()}\n",
    "print(f\"actual edge weights: {fadr_edge_weights}\")\n",
    "\n",
    "G = nx.DiGraph()\n",
    "\n",
    "# Add edges and weights to the graph\n",
    "for edge, weight in fadr_edge_weights.items():\n",
    "    G.add_edge(edge[0], edge[1], weight=weight)\n",
    "\n",
    "# Save the graph to a GraphML file (for visualization)\n",
    "nx.write_graphml(G, \"fadr_subnetwork_with_weights.graphml\")"
   ]
  },
  {
   "cell_type": "code",
   "execution_count": null,
   "metadata": {},
   "outputs": [],
   "source": [
    "# simulate data\n",
    "fadr_df, fadr_fits = simulate(\n",
    "    graph=fadr_graph_mixed, trials=1, generators=fadr_node_generators, weights=fadr_edge_weights\n",
    ")\n",
    "display(fadr_df.head())"
   ]
  },
  {
   "cell_type": "code",
   "execution_count": null,
   "metadata": {},
   "outputs": [],
   "source": [
    "import cProfile\n",
    "import io\n",
    "import pstats\n",
    "\n",
    "\n",
    "# Define your simulation function here\n",
    "def profile_simulation():\n",
    "    fadr_df, fadr_fits = simulate(\n",
    "        graph=fadr_graph_mixed, trials=1, generators=fadr_node_generators, weights=fadr_edge_weights\n",
    "    )\n",
    "\n",
    "\n",
    "# Create a profiler object\n",
    "profiler = cProfile.Profile()\n",
    "\n",
    "try:\n",
    "    # Start the profiler\n",
    "    profiler.enable()\n",
    "\n",
    "    # Run the simulation function\n",
    "    profile_simulation()\n",
    "\n",
    "    # Stop the profiler\n",
    "    profiler.disable()\n",
    "\n",
    "except KeyboardInterrupt:\n",
    "    # Stop the profiler if interrupted (e.g., cell execution is canceled)\n",
    "    profiler.disable()\n",
    "    print(\"Profiling interrupted by user.\")\n",
    "\n",
    "finally:\n",
    "    # Create a Stats object from the profiler's data\n",
    "    stats = pstats.Stats(profiler, stream=io.StringIO()).sort_stats(\"cumulative\")\n",
    "\n",
    "    # Print the statistics to the console (or rather, to the notebook's output cell)\n",
    "    stats.print_stats()\n",
    "\n",
    "    # Retrieve the stats from the StringIO object and display them in the notebook\n",
    "    print(stats.stream.getvalue())\n",
    "\n",
    "    # Optionally, save the stats to a file for later analysis\n",
    "    stats.dump_stats(\"profile_results.prof\")"
   ]
  },
  {
   "cell_type": "code",
   "execution_count": null,
   "metadata": {},
   "outputs": [],
   "source": [
    "#!pip install snakeviz\n",
    "\n",
    "# # Load the SnakeViz extension in the Jupyter notebook\n",
    "# %load_ext snakeviz\n",
    "\n",
    "# # Visualize the saved profiling data with SnakeViz\n",
    "# %snakeviz -t /Users/geor228/Github/nocap/notebooks/profile_results.prof"
   ]
  },
  {
   "cell_type": "code",
   "execution_count": null,
   "metadata": {},
   "outputs": [],
   "source": [
    "# calibrate model (edge weights) to data\n",
    "fadr_estimated_edge_weights = get_single_door_updated(fadr_graph_mixed, fadr_df)\n",
    "print(f\"estimated edge weights: {fadr_estimated_edge_weights}\")\n",
    "\n",
    "for edge, weight in fadr_edge_weights.items():\n",
    "    estimated_weight = fadr_estimated_edge_weights[edge]\n",
    "    # Use numpy.allclose to compare the weights with a tolerance\n",
    "    assert np.allclose(\n",
    "        weight, estimated_weight, atol=1e-2\n",
    "    ), f\"Edge {edge}: expected {weight}, got {estimated_weight}\"\n",
    "\n",
    "\n",
    "# # non-linear (Hill) model in SERGIO"
   ]
  },
  {
   "cell_type": "code",
   "execution_count": null,
   "metadata": {},
   "outputs": [],
   "source": [
    "# simulate data for subnetworks"
   ]
  },
  {
   "cell_type": "code",
   "execution_count": null,
   "metadata": {},
   "outputs": [],
   "source": [
    "# compute single door criterion"
   ]
  },
  {
   "cell_type": "code",
   "execution_count": null,
   "metadata": {},
   "outputs": [],
   "source": [
    "# save"
   ]
  },
  {
   "cell_type": "code",
   "execution_count": null,
   "metadata": {},
   "outputs": [],
   "source": []
  },
  {
   "cell_type": "code",
   "execution_count": null,
   "metadata": {},
   "outputs": [],
   "source": []
  },
  {
   "cell_type": "code",
   "execution_count": null,
   "metadata": {},
   "outputs": [],
   "source": [
    "def intervene_on_state_variable(\n",
    "    model: NxMixedGraph, intervention: dict[y0.dsl.Variable, float]\n",
    ") -> NxMixedGraph:\n",
    "    pass\n",
    "\n",
    "\n",
    "def intervene_on_parameter(\n",
    "    model: NxMixedGraph, intervention: dict[sy.Symbol, float]\n",
    ") -> NxMixedGraph:\n",
    "    pass"
   ]
  },
  {
   "cell_type": "code",
   "execution_count": null,
   "metadata": {},
   "outputs": [],
   "source": [
    "def sample_model(\n",
    "    model: NxMixedGraph,\n",
    "    n_samples: int,\n",
    "    parameters: dict[sy.Symbol, float],\n",
    "    parameter_interventions,\n",
    "    state_interventions,\n",
    ") -> pd.DataFrame:\n",
    "    pass"
   ]
  },
  {
   "cell_type": "code",
   "execution_count": null,
   "metadata": {},
   "outputs": [],
   "source": []
  },
  {
   "cell_type": "code",
   "execution_count": null,
   "metadata": {},
   "outputs": [],
   "source": []
  },
  {
   "cell_type": "code",
   "execution_count": null,
   "metadata": {},
   "outputs": [],
   "source": []
  }
 ],
 "metadata": {
  "kernelspec": {
   "display_name": "NOCAP_env",
   "language": "python",
   "name": "python3"
  },
  "language_info": {
   "codemirror_mode": {
    "name": "ipython",
    "version": 3
   },
   "file_extension": ".py",
   "mimetype": "text/x-python",
   "name": "python",
   "nbconvert_exporter": "python",
   "pygments_lexer": "ipython3",
   "version": "3.11.7"
  }
 },
 "nbformat": 4,
 "nbformat_minor": 2
}
