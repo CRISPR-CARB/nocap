{
 "cells": [
  {
   "cell_type": "code",
   "execution_count": 22,
   "metadata": {},
   "outputs": [],
   "source": [
    "import networkx as nx \n",
    "import y0\n",
    "from y0.graph import NxMixedGraph\n",
    "from y0.algorithm.estimation.linear_scm import get_single_door\n",
    "from y0.simulation import get_fits_df, simulate, LinearSCM, example_generators, example_graph\n",
    "from y0.dsl import V1, V2, V3, V4, V5, V6, Variable\n",
    "from functools import partial\n",
    "import pandas as pd\n",
    "import sympy as sy\n",
    "from nocap import scm\n",
    "import numpy as np\n",
    "from numpy.random import normal, uniform\n",
    "import pgmpy\n",
    "#!pip install pgmpy\n",
    "\n",
    "from statistics import fmean\n",
    "\n",
    "import sympy\n",
    "from sklearn.linear_model import LinearRegression\n"
   ]
  },
  {
   "cell_type": "code",
   "execution_count": 33,
   "metadata": {},
   "outputs": [
    {
     "name": "stdout",
     "output_type": "stream",
     "text": [
      "actual edge weights: {(V1, V2): 0.3745401188473625, (V1, V4): 0.9507143064099162, (V2, V5): 0.7319939418114051, (V4, V5): 0.5986584841970366, (V4, V6): 0.15601864044243652, (V5, V6): 0.15599452033620265, (V3, V5): 0.05808361216819946}\n"
     ]
    },
    {
     "data": {
      "text/html": [
       "<div>\n",
       "<style scoped>\n",
       "    .dataframe tbody tr th:only-of-type {\n",
       "        vertical-align: middle;\n",
       "    }\n",
       "\n",
       "    .dataframe tbody tr th {\n",
       "        vertical-align: top;\n",
       "    }\n",
       "\n",
       "    .dataframe thead th {\n",
       "        text-align: right;\n",
       "    }\n",
       "</style>\n",
       "<table border=\"1\" class=\"dataframe\">\n",
       "  <thead>\n",
       "    <tr style=\"text-align: right;\">\n",
       "      <th></th>\n",
       "      <th>V1</th>\n",
       "      <th>V3</th>\n",
       "      <th>V2</th>\n",
       "      <th>V4</th>\n",
       "      <th>V5</th>\n",
       "      <th>V6</th>\n",
       "    </tr>\n",
       "  </thead>\n",
       "  <tbody>\n",
       "    <tr>\n",
       "      <th>0</th>\n",
       "      <td>0.732352</td>\n",
       "      <td>0.202230</td>\n",
       "      <td>0.690440</td>\n",
       "      <td>-0.262573</td>\n",
       "      <td>1.299773</td>\n",
       "      <td>0.826676</td>\n",
       "    </tr>\n",
       "    <tr>\n",
       "      <th>1</th>\n",
       "      <td>-0.575322</td>\n",
       "      <td>-0.636350</td>\n",
       "      <td>-0.848672</td>\n",
       "      <td>-0.938482</td>\n",
       "      <td>-1.170502</td>\n",
       "      <td>-0.465123</td>\n",
       "    </tr>\n",
       "    <tr>\n",
       "      <th>2</th>\n",
       "      <td>-0.417542</td>\n",
       "      <td>0.223706</td>\n",
       "      <td>-0.877398</td>\n",
       "      <td>-0.812674</td>\n",
       "      <td>-1.383047</td>\n",
       "      <td>-0.430400</td>\n",
       "    </tr>\n",
       "    <tr>\n",
       "      <th>3</th>\n",
       "      <td>0.570352</td>\n",
       "      <td>-0.600652</td>\n",
       "      <td>0.242089</td>\n",
       "      <td>0.727071</td>\n",
       "      <td>-0.329513</td>\n",
       "      <td>0.277124</td>\n",
       "    </tr>\n",
       "    <tr>\n",
       "      <th>4</th>\n",
       "      <td>-0.658952</td>\n",
       "      <td>-0.869897</td>\n",
       "      <td>0.650967</td>\n",
       "      <td>0.304789</td>\n",
       "      <td>1.225237</td>\n",
       "      <td>-0.152089</td>\n",
       "    </tr>\n",
       "  </tbody>\n",
       "</table>\n",
       "</div>"
      ],
      "text/plain": [
       "         V1        V3        V2        V4        V5        V6\n",
       "0  0.732352  0.202230  0.690440 -0.262573  1.299773  0.826676\n",
       "1 -0.575322 -0.636350 -0.848672 -0.938482 -1.170502 -0.465123\n",
       "2 -0.417542  0.223706 -0.877398 -0.812674 -1.383047 -0.430400\n",
       "3  0.570352 -0.600652  0.242089  0.727071 -0.329513  0.277124\n",
       "4 -0.658952 -0.869897  0.650967  0.304789  1.225237 -0.152089"
      ]
     },
     "metadata": {},
     "output_type": "display_data"
    },
    {
     "name": "stdout",
     "output_type": "stream",
     "text": [
      "estimated edge weights: {(V1, V2): 0.37824213041752636, (V1, V4): 0.9552183862001729, (V2, V5): 0.731226167699574, (V4, V5): 0.5961501006131199, (V4, V6): 0.1552518605586741, (V5, V6): 0.15351805324974302, (V3, V5): 0.05827255711736592}\n"
     ]
    },
    {
     "data": {
      "image/png": "[encoded data removed]",
      "text/plain": [
       "<Figure size 640x480 with 1 Axes>"
      ]
     },
     "metadata": {},
     "output_type": "display_data"
    }
   ],
   "source": [
    "def get_single_door_updated(\n",
    "    graph: NxMixedGraph, data: pd.DataFrame\n",
    ") -> dict[tuple[Variable, Variable], float]:\n",
    "    \"\"\"Estimate parameter values for a linear SCM using backdoor adjustment.\"\"\"\n",
    "    rv = {}\n",
    "    \n",
    "    for source, target in graph.directed.edges():\n",
    "        temp_graph = graph.copy()\n",
    "        temp_graph.directed.remove_edge(source, target) # remove edge from source to target\n",
    "        #pgmpy_graph = temp_graph.to_pgmpy_bayesian_network()\n",
    "        pgmpy_graph = to_pgmpy_bayesian_network_updated(temp_graph)\n",
    "        try:\n",
    "            raw_adjustment_sets = pgmpy_graph.minimal_dseparator(source.name, target.name)\n",
    "            if raw_adjustment_sets is None:\n",
    "                # There are no valid adjustment sets.\n",
    "                continue\n",
    "            # Ensure we have a set of frozensets, with each frozenset containing variable names\n",
    "            adjustment_sets = {frozenset([adjustment_set]) if isinstance(adjustment_set, str) else frozenset(adjustment_set) for adjustment_set in raw_adjustment_sets}\n",
    "        except ValueError:\n",
    "            # There are no valid adjustment sets.\n",
    "            continue\n",
    "        if not adjustment_sets:\n",
    "            # There is a valid adjustment set, and it is the empty set, so just regress the target on the source.\n",
    "            adjustment_sets = frozenset([frozenset([])])\n",
    "        coefficients = []\n",
    "        for adjustment_set in adjustment_sets:\n",
    "            # Ensure adjustment_set is a set before performing the union operation.\n",
    "            variables = sorted(set(adjustment_set) | {source.name})\n",
    "            idx = variables.index(source.name)\n",
    "            model = LinearRegression()\n",
    "            model.fit(data[variables], data[target.name])\n",
    "            coefficients.append(model.coef_[idx])\n",
    "        rv[source, target] = fmean(coefficients)\n",
    "    return rv\n",
    "\n",
    "\n",
    "def to_pgmpy_bayesian_network_updated(graph:NxMixedGraph) -> pgmpy.models.BayesianNetwork:\n",
    "    \"\"\"Convert a mixed graph to an equivalent :class:`pgmpy.BayesianNetwork`.\"\"\"\n",
    "    from pgmpy.models import BayesianNetwork\n",
    "\n",
    "    # Get all directed edges with node names\n",
    "    edges = [(u.name, v.name) for u, v in graph.directed.edges()]\n",
    "    \n",
    "    # Initialize set for latent variables\n",
    "    latents = set()\n",
    "    \n",
    "    # Handle undirected edges by introducing latent variables\n",
    "    for u, v in graph.undirected.edges():\n",
    "        latent = f\"U_{u.name}_{v.name}\"\n",
    "        latents.add(latent)\n",
    "        edges.append((latent, u.name))\n",
    "        edges.append((latent, v.name))\n",
    "    \n",
    "    # Initialize the BayesianNetwork with edges\n",
    "    model = BayesianNetwork(ebunch=edges, latents=latents)\n",
    "    \n",
    "    # Add all original nodes to the BayesianNetwork\n",
    "    for node in graph.directed.nodes():\n",
    "        if node.name not in model.nodes():\n",
    "            model.add_node(node.name)\n",
    "    \n",
    "    return model\n",
    "\n",
    "\n",
    "\n",
    "np.random.seed(42)\n",
    "\n",
    "# create model\n",
    "graph = example_graph # NxMixedGraph\n",
    "\n",
    "graph.draw(prog=\"neato\")\n",
    "\n",
    "node_generators = {node: partial(uniform, low=-1.0, high=1.0) for node in graph.nodes()}\n",
    "\n",
    "edge_weights = {edge: uniform(low=0.0, high=1.0) for edge in graph.directed.edges()}\n",
    "print(f\"actual edge weights: {edge_weights}\")\n",
    "\n",
    "\n",
    "# simulate data\n",
    "df, fits = simulate(graph=graph, trials=100000, generators=node_generators, weights=edge_weights)\n",
    "display(df.head())\n",
    "\n",
    "# calibrate model (edge weights) to data \n",
    "estimated_edge_weights = get_single_door_updated(graph,df)\n",
    "print(f\"estimated edge weights: {estimated_edge_weights}\")\n",
    "\n",
    "for edge, weight in edge_weights.items():\n",
    "        estimated_weight = estimated_edge_weights[edge]\n",
    "        # Use numpy.allclose to compare the weights with a tolerance\n",
    "        assert np.allclose(weight, estimated_weight, atol=1e-2), f\"Edge {edge}: expected {weight}, got {estimated_weight}\"\n",
    "\n",
    "\n"
   ]
  },
  {
   "cell_type": "code",
   "execution_count": 28,
   "metadata": {},
   "outputs": [
    {
     "data": {
      "image/png": "[encoded data removed]",
      "text/plain": [
       "<Figure size 640x480 with 1 Axes>"
      ]
     },
     "metadata": {},
     "output_type": "display_data"
    }
   ],
   "source": [
    "treatment_graph = graph.intervene(variables={V4})\n",
    "treatment_graph.draw(prog=\"neato\")"
   ]
  },
  {
   "cell_type": "code",
   "execution_count": 34,
   "metadata": {},
   "outputs": [
    {
     "name": "stdout",
     "output_type": "stream",
     "text": [
      "intervened_edge_weights: {(V1, V2): 0.3745401188473625, (V1, V4): 0, (V2, V5): 0.7319939418114051, (V4, V5): 0.5986584841970366, (V4, V6): 0.15601864044243652, (V5, V6): 0.15599452033620265, (V3, V5): 0.05808361216819946}\n",
      "         V1        V3        V2        V4        V5        V6\n",
      "0 -0.296121  0.867577  0.328011  0.324733  1.024278  0.333006\n",
      "1 -0.585925 -0.559909  0.475651 -0.513649 -0.340926 -1.130630\n",
      "2 -0.568080  0.000271 -0.798710 -0.645409 -0.759740 -0.226583\n",
      "3  0.739334  0.890955 -0.411569  0.920228  0.620526 -0.307501\n",
      "4 -0.072252 -0.014158 -0.391429  0.385206 -0.598086  0.548734\n"
     ]
    }
   ],
   "source": [
    "def remove_incoming_edge_weights(edges_dict, target_node):\n",
    "    \"\"\"Return a new dictionary with weights of incoming edges to the target node set to 0.\"\"\"\n",
    "    # Create a new dictionary to avoid modifying the original\n",
    "    new_edges_dict = edges_dict.copy()\n",
    "    \n",
    "    # Iterate over the edges and update the weight if it's an incoming edge to the target node\n",
    "    for edge, weight in edges_dict.items():\n",
    "        if edge[1] == target_node:\n",
    "            new_edges_dict[edge] = 0\n",
    "    \n",
    "    return new_edges_dict\n",
    "\n",
    "intervention_target = V4\n",
    "intervened_edge_weights = remove_incoming_edge_weights(edge_weights, intervention_target)\n",
    "print(f\"intervened_edge_weights: {intervened_edge_weights}\")\n",
    "\n",
    "intervened_df, intervened_fits = simulate(graph=graph, trials=10000, generators=node_generators, weights=intervened_edge_weights)\n",
    "print(intervened_df.head())\n",
    "\n"
   ]
  },
  {
   "cell_type": "code",
   "execution_count": 30,
   "metadata": {},
   "outputs": [
    {
     "name": "stdout",
     "output_type": "stream",
     "text": [
      "ATE - intervening on V4: {V1: -0.006957483205771406, V2: -0.0055909905959155935, V3: 0.0021169172535607057, V4: -0.004001050727930042, V5: -0.00784432168022986, V6: 0.0021367288144334604}\n"
     ]
    }
   ],
   "source": [
    "def compute_average_treatment_effect(treatment1:pd.DataFrame, treatment2:pd.DataFrame, outcome_variables:list[Variable])->dict[Variable,float]:\n",
    "    \"Computes the average treatment effect (i.e., E[Y1-Y0]).\"\n",
    "\n",
    "    avg_treatment_effect_dict = {}\n",
    "    for v in outcome_variables:\n",
    "        avg_untreated = treatment1.loc[:, str(v)].mean()\n",
    "        avg_treated = treatment2.loc[:, str(v)].mean()\n",
    "        avg_treatment_effect = avg_treated - avg_untreated\n",
    "        avg_treatment_effect_dict[v] = avg_treatment_effect\n",
    "    return avg_treatment_effect_dict\n",
    "\n",
    "\n",
    "avg_treatment_effect_dict = compute_average_treatment_effect(df, intervened_df, [V1, V2, V3, V4, V5, V6])\n",
    "print(f'ATE - intervening on {intervention_target}: {avg_treatment_effect_dict}')"
   ]
  },
  {
   "cell_type": "code",
   "execution_count": null,
   "metadata": {},
   "outputs": [],
   "source": []
  },
  {
   "cell_type": "code",
   "execution_count": null,
   "metadata": {},
   "outputs": [],
   "source": []
  },
  {
   "cell_type": "code",
   "execution_count": null,
   "metadata": {},
   "outputs": [],
   "source": []
  },
  {
   "cell_type": "code",
   "execution_count": null,
   "metadata": {},
   "outputs": [],
   "source": [
    "def intervene_on_state_variable(model:NxMixedGraph, intervention:dict[y0.dsl.Variable,float])->NxMixedGraph:\n",
    "    pass\n",
    "\n",
    "def intervene_on_parameter(model:NxMixedGraph, intervention:dict[sy.Symbol,float])->NxMixedGraph:\n",
    "    pass\n",
    "\n",
    "\n"
   ]
  },
  {
   "cell_type": "code",
   "execution_count": null,
   "metadata": {},
   "outputs": [],
   "source": [
    "def sample_model(model:NxMixedGraph, n_samples:int, parameters:dict[sy.Symbol,float], parameter_interventions, state_interventions)->pd.DataFrame:\n",
    "    pass"
   ]
  },
  {
   "cell_type": "code",
   "execution_count": null,
   "metadata": {},
   "outputs": [],
   "source": []
  },
  {
   "cell_type": "code",
   "execution_count": null,
   "metadata": {},
   "outputs": [],
   "source": []
  },
  {
   "cell_type": "code",
   "execution_count": null,
   "metadata": {},
   "outputs": [],
   "source": []
  }
 ],
 "metadata": {
  "kernelspec": {
   "display_name": "NOCAP_env",
   "language": "python",
   "name": "python3"
  },
  "language_info": {
   "codemirror_mode": {
    "name": "ipython",
    "version": 3
   },
   "file_extension": ".py",
   "mimetype": "text/x-python",
   "name": "python",
   "nbconvert_exporter": "python",
   "pygments_lexer": "ipython3",
   "version": "3.11.7"
  }
 },
 "nbformat": 4,
 "nbformat_minor": 2
}
