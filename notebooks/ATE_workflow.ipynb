{
 "cells": [
  {
   "cell_type": "code",
   "execution_count": 4,
   "metadata": {},
   "outputs": [],
   "source": [
    "import networkx as nx \n",
    "import y0\n",
    "from y0.graph import NxMixedGraph\n",
    "import pandas as pd\n",
    "import sympy as sy\n",
    "\n",
    "\n",
    "# calibrate model\n",
    "def calibrate_model(model:NxMixedGraph, dataset:pd.DataFrame)->dict[sy.Symbol,float]:\n",
    "    \"\"\"\n",
    "    Calibrates the given model using the provided dataset.\n",
    "\n",
    "    Parameters:\n",
    "    - model (NxMixedGraph): The model to be calibrated, represented as a directed graph.\n",
    "    - dataset (pd.DataFrame): The dataset containing the observed values for the variables in the model.\n",
    "\n",
    "    Returns:\n",
    "    - dict[sy.Expr, float]: A dictionary mapping symbolic expressions to the calibrated values.\n",
    "\n",
    "    \"\"\"\n",
    "\n",
    "    return {}\n",
    "\n",
    "\n",
    "def test_calibrate_model():\n",
    "    \n",
    "    test_model = NxMixedGraph.from_edges(directed=[('A','B'),('B','C'),('D','C')])\n",
    "\n",
    "    test_data_dict = {\n",
    "        'A': [1,2,3],\n",
    "        'B': [-1,-2,-3],\n",
    "        'C': [0,0,0],\n",
    "        'D': [1,3,5.0]\n",
    "    }\n",
    "    test_data = pd.DataFrame(test_data_dict)\n",
    "    expected_parameters = {}\n",
    "    actual_parameters = calibrate_model(test_model,test_data)\n",
    "\n",
    "    assert isinstance(actual_parameters, dict), \"Expected output to be a dictionary\"\n",
    "\n",
    "\n",
    "test_calibrate_model()\n",
    "    \n",
    "\n",
    "\n",
    "# train \n"
   ]
  },
  {
   "cell_type": "code",
   "execution_count": 5,
   "metadata": {},
   "outputs": [],
   "source": [
    "def intervene_on_state_variable(model:NxMixedGraph, intervention:dict[y0.dsl.Variable,float])->NxMixedGraph:\n",
    "    pass\n",
    "\n",
    "def intervene_on_parameter(model:NxMixedGraph, intervention:dict[sy.Symbol,float])->NxMixedGraph:\n",
    "    pass\n",
    "\n",
    "\n"
   ]
  },
  {
   "cell_type": "code",
   "execution_count": 6,
   "metadata": {},
   "outputs": [],
   "source": [
    "def sample_model(model:NxMixedGraph, n_samples:int, parameters:dict[sy.Symbol,float], parameter_interventions, state_interventions)->pd.DataFrame:\n",
    "    pass"
   ]
  },
  {
   "cell_type": "code",
   "execution_count": 7,
   "metadata": {},
   "outputs": [],
   "source": [
    "def compute_average_treatment_effect(treatment1:pd.DataFrame, treatment2:pd.DataFrame, outcome_variables:list[str])->dict[str,float]:\n",
    "    pass"
   ]
  }
 ],
 "metadata": {
  "kernelspec": {
   "display_name": "NOCAP_env",
   "language": "python",
   "name": "python3"
  },
  "language_info": {
   "codemirror_mode": {
    "name": "ipython",
    "version": 3
   },
   "file_extension": ".py",
   "mimetype": "text/x-python",
   "name": "python",
   "nbconvert_exporter": "python",
   "pygments_lexer": "ipython3",
   "version": "3.11.7"
  }
 },
 "nbformat": 4,
 "nbformat_minor": 2
}
