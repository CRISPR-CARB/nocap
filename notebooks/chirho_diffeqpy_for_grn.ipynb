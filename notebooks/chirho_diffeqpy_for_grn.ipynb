{
 "cells": [
  {
   "cell_type": "markdown",
   "id": "4622b220",
   "metadata": {},
   "source": [
    "## LV example"
   ]
  },
  {
   "cell_type": "code",
   "execution_count": 1,
   "id": "d0de1ae4",
   "metadata": {},
   "outputs": [
    {
     "name": "stdout",
     "output_type": "stream",
     "text": [
      "Detected IPython. Loading juliacall extension. See https://juliapy.github.io/PythonCall.jl/stable/compat/#IPython\n"
     ]
    },
    {
     "name": "stderr",
     "output_type": "stream",
     "text": [
      "  Activating project at `~/.julia/environments/diffeqpy`\n",
      "Precompiling DifferentialEquations...\n",
      "   2719.6 ms  ? SciMLBase\n",
      "   2957.5 ms  ? DiffEqBase\n",
      "   4593.6 ms  ? LinearSolve\n",
      "   3173.1 ms  ? DiffEqCallbacks\n",
      "   3235.1 ms  ? LinearSolve → LinearSolveRecursiveArrayToolsExt\n",
      "   6393.6 ms  ? Sundials\n",
      "   6395.1 ms  ? LinearSolve → LinearSolveFastAlmostBandedMatricesExt\n",
      "   9526.4 ms  ? JumpProcesses\n",
      "   9540.9 ms  ? LinearSolve → LinearSolveBandedMatricesExt\n",
      "   9545.5 ms  ? SteadyStateDiffEq\n",
      "   5473.1 ms  ? JumpProcesses → JumpProcessFastBroadcastExt\n",
      "  17324.8 ms  ? SimpleNonlinearSolve\n",
      "  19614.9 ms  ? SciMLNLSolve\n",
      "   4582.1 ms  ? NonlinearSolve\n",
      "   2447.2 ms  ? OrdinaryDiffEq\n",
      "   4740.4 ms  ? NonlinearSolve → NonlinearSolveBandedMatricesExt\n",
      "  28966.2 ms  ? DiffEqBase → DiffEqBaseDistributionsExt\n",
      "   6815.4 ms  ? DelayDiffEq\n",
      "   6821.3 ms  ? BoundaryValueDiffEq\n",
      "   6967.4 ms  ? DiffEqNoiseProcess\n",
      "   4701.6 ms  ? BoundaryValueDiffEq → BoundaryValueDiffEqOrdinaryDiffEqExt\n",
      "   4607.3 ms  ? StochasticDiffEq\n",
      "Info Given DifferentialEquations was explicitly requested, output will be shown live \u001b[0K\n",
      "\u001b[0KWARNING: Method definition islinear(Any) in module SciMLOperators at /Users/geor228/.julia/packages/SciMLOperators/2UPBq/src/interface.jl:311 overwritten in module SciMLBase at /Users/geor228/.julia/packages/SciMLBase/8XHkk/src/operators/operators.jl:7.\n",
      "\u001b[0KERROR: Method overwriting is not permitted during Module precompilation. Use `__precompile__(false)` to opt-out of precompilation.\n",
      "   2474.1 ms  ? DifferentialEquations\n",
      "[ Info: Precompiling DifferentialEquations [0c46a032-eb83-5123-abaf-570d42b7fbaa] \n",
      "WARNING: Method definition islinear(Any) in module SciMLOperators at /Users/geor228/.julia/packages/SciMLOperators/2UPBq/src/interface.jl:311 overwritten in module SciMLBase at /Users/geor228/.julia/packages/SciMLBase/8XHkk/src/operators/operators.jl:7.\n",
      "ERROR: Method overwriting is not permitted during Module precompilation. Use `__precompile__(false)` to opt-out of precompilation.\n",
      "┌ Info: Skipping precompilation due to precompilable error. Importing DifferentialEquations [0c46a032-eb83-5123-abaf-570d42b7fbaa].\n",
      "└   exception = Error when precompiling module, potentially caused by a __precompile__(false) declaration in the module.\n",
      "Precompiling DiffEqBase...\n",
      "   1533.2 ms  ? SciMLBase\n",
      "Info Given DiffEqBase was explicitly requested, output will be shown live \u001b[0K\n",
      "\u001b[0KWARNING: Method definition islinear(Any) in module SciMLOperators at /Users/geor228/.julia/packages/SciMLOperators/2UPBq/src/interface.jl:311 overwritten in module SciMLBase at /Users/geor228/.julia/packages/SciMLBase/8XHkk/src/operators/operators.jl:7.\n",
      "\u001b[0KERROR: Method overwriting is not permitted during Module precompilation. Use `__precompile__(false)` to opt-out of precompilation.\n",
      "   2499.7 ms  ? DiffEqBase\n",
      "[ Info: Precompiling DiffEqBase [2b5f629d-d688-5b77-993f-72d75c75574e] \n",
      "WARNING: Method definition islinear(Any) in module SciMLOperators at /Users/geor228/.julia/packages/SciMLOperators/2UPBq/src/interface.jl:311 overwritten in module SciMLBase at /Users/geor228/.julia/packages/SciMLBase/8XHkk/src/operators/operators.jl:7.\n",
      "ERROR: Method overwriting is not permitted during Module precompilation. Use `__precompile__(false)` to opt-out of precompilation.\n",
      "┌ Info: Skipping precompilation due to precompilable error. Importing DiffEqBase [2b5f629d-d688-5b77-993f-72d75c75574e].\n",
      "└   exception = Error when precompiling module, potentially caused by a __precompile__(false) declaration in the module.\n",
      "Precompiling SciMLBase...\n",
      "Info Given SciMLBase was explicitly requested, output will be shown live \u001b[0K\n",
      "\u001b[0KWARNING: Method definition islinear(Any) in module SciMLOperators at /Users/geor228/.julia/packages/SciMLOperators/2UPBq/src/interface.jl:311 overwritten in module SciMLBase at /Users/geor228/.julia/packages/SciMLBase/8XHkk/src/operators/operators.jl:7.\n",
      "\u001b[0KERROR: Method overwriting is not permitted during Module precompilation. Use `__precompile__(false)` to opt-out of precompilation.\n",
      "   1514.9 ms  ? SciMLBase\n",
      "[ Info: Precompiling SciMLBase [0bca4576-84f4-4d90-8ffe-ffa030f20462] \n",
      "WARNING: Method definition islinear(Any) in module SciMLOperators at /Users/geor228/.julia/packages/SciMLOperators/2UPBq/src/interface.jl:311 overwritten in module SciMLBase at /Users/geor228/.julia/packages/SciMLBase/8XHkk/src/operators/operators.jl:7.\n",
      "ERROR: Method overwriting is not permitted during Module precompilation. Use `__precompile__(false)` to opt-out of precompilation.\n",
      "┌ Info: Skipping precompilation due to precompilable error. Importing SciMLBase [0bca4576-84f4-4d90-8ffe-ffa030f20462].\n",
      "└   exception = Error when precompiling module, potentially caused by a __precompile__(false) declaration in the module.\n",
      "Precompiling SciMLBasePythonCallExt...\n",
      "   1433.2 ms  ? SciMLBase\n",
      "Info Given SciMLBasePythonCallExt was explicitly requested, output will be shown live \u001b[0K\n",
      "\u001b[0K┌ Warning: Module SciMLBase with build ID ffffffff-ffff-ffff-0001-9fb9bab775ee is missing from the cache.\n",
      "\u001b[0K│ This may mean SciMLBase [0bca4576-84f4-4d90-8ffe-ffa030f20462] does not support precompilation but is imported by a module that does.\n",
      "\u001b[0K└ @ Base loading.jl:2541\n",
      "   1335.5 ms  ? SciMLBase → SciMLBasePythonCallExt\n",
      "[ Info: Precompiling SciMLBasePythonCallExt [2797fd30-2078-5027-980c-4c2c8a19c528] \n",
      "┌ Warning: Module SciMLBase with build ID ffffffff-ffff-ffff-0001-9fb9bab775ee is missing from the cache.\n",
      "│ This may mean SciMLBase [0bca4576-84f4-4d90-8ffe-ffa030f20462] does not support precompilation but is imported by a module that does.\n",
      "└ @ Base loading.jl:2541\n",
      "┌ Info: Skipping precompilation due to precompilable error. Importing SciMLBasePythonCallExt [2797fd30-2078-5027-980c-4c2c8a19c528].\n",
      "└   exception = Error when precompiling module, potentially caused by a __precompile__(false) declaration in the module.\n",
      "Precompiling DiffEqNoiseProcess...\n",
      "   1543.6 ms  ? SciMLBase\n",
      "    988.1 ms  ? DiffEqBase\n",
      "    819.2 ms  ? DiffEqBase → DiffEqBaseDistributionsExt\n",
      "Info Given DiffEqNoiseProcess was explicitly requested, output will be shown live \u001b[0K\n",
      "\u001b[0K┌ Warning: Module DiffEqBase with build ID ffffffff-ffff-ffff-0001-9fb8d496f409 is missing from the cache.\n",
      "\u001b[0K│ This may mean DiffEqBase [2b5f629d-d688-5b77-993f-72d75c75574e] does not support precompilation but is imported by a module that does.\n",
      "\u001b[0K└ @ Base loading.jl:2541\n",
      "    540.9 ms  ? DiffEqNoiseProcess\n",
      "[ Info: Precompiling DiffEqNoiseProcess [77a26b50-5914-5dd7-bc55-306e6241c503] \n",
      "┌ Warning: Module DiffEqBase with build ID ffffffff-ffff-ffff-0001-9fb8d496f409 is missing from the cache.\n",
      "│ This may mean DiffEqBase [2b5f629d-d688-5b77-993f-72d75c75574e] does not support precompilation but is imported by a module that does.\n",
      "└ @ Base loading.jl:2541\n",
      "┌ Info: Skipping precompilation due to precompilable error. Importing DiffEqNoiseProcess [77a26b50-5914-5dd7-bc55-306e6241c503].\n",
      "└   exception = Error when precompiling module, potentially caused by a __precompile__(false) declaration in the module.\n",
      "Precompiling DiffEqBaseDistributionsExt...\n",
      "   1589.8 ms  ? SciMLBase\n",
      "    918.4 ms  ? DiffEqBase\n",
      "Info Given DiffEqBaseDistributionsExt was explicitly requested, output will be shown live \u001b[0K\n",
      "\u001b[0K┌ Warning: Module DiffEqBase with build ID ffffffff-ffff-ffff-0001-9fb8d496f409 is missing from the cache.\n",
      "\u001b[0K│ This may mean DiffEqBase [2b5f629d-d688-5b77-993f-72d75c75574e] does not support precompilation but is imported by a module that does.\n",
      "\u001b[0K└ @ Base loading.jl:2541\n",
      "    789.5 ms  ? DiffEqBase → DiffEqBaseDistributionsExt\n",
      "[ Info: Precompiling DiffEqBaseDistributionsExt [24f3332a-0dc5-5d65-94b6-25e75cab9690] \n",
      "┌ Warning: Module DiffEqBase with build ID ffffffff-ffff-ffff-0001-9fb8d496f409 is missing from the cache.\n",
      "│ This may mean DiffEqBase [2b5f629d-d688-5b77-993f-72d75c75574e] does not support precompilation but is imported by a module that does.\n",
      "└ @ Base loading.jl:2541\n",
      "┌ Info: Skipping precompilation due to precompilable error. Importing DiffEqBaseDistributionsExt [24f3332a-0dc5-5d65-94b6-25e75cab9690].\n",
      "└   exception = Error when precompiling module, potentially caused by a __precompile__(false) declaration in the module.\n",
      "Precompiling SteadyStateDiffEq...\n",
      "   1608.6 ms  ? SciMLBase\n",
      "    913.8 ms  ? DiffEqBase\n",
      "    375.5 ms  ? DiffEqCallbacks\n",
      "Info Given SteadyStateDiffEq was explicitly requested, output will be shown live \u001b[0K\n",
      "\u001b[0K┌ Warning: Module DiffEqBase with build ID ffffffff-ffff-ffff-0001-9fb8d496f409 is missing from the cache.\n",
      "\u001b[0K│ This may mean DiffEqBase [2b5f629d-d688-5b77-993f-72d75c75574e] does not support precompilation but is imported by a module that does.\n",
      "\u001b[0K└ @ Base loading.jl:2541\n",
      "    421.0 ms  ? SteadyStateDiffEq\n",
      "[ Info: Precompiling SteadyStateDiffEq [9672c7b4-1e72-59bd-8a11-6ac3964bc41f] \n",
      "┌ Warning: Module DiffEqBase with build ID ffffffff-ffff-ffff-0001-9fb8d496f409 is missing from the cache.\n",
      "│ This may mean DiffEqBase [2b5f629d-d688-5b77-993f-72d75c75574e] does not support precompilation but is imported by a module that does.\n",
      "└ @ Base loading.jl:2541\n",
      "┌ Info: Skipping precompilation due to precompilable error. Importing SteadyStateDiffEq [9672c7b4-1e72-59bd-8a11-6ac3964bc41f].\n",
      "└   exception = Error when precompiling module, potentially caused by a __precompile__(false) declaration in the module.\n",
      "Precompiling DiffEqCallbacks...\n",
      "   1476.7 ms  ? SciMLBase\n",
      "    819.3 ms  ? DiffEqBase\n",
      "Info Given DiffEqCallbacks was explicitly requested, output will be shown live \u001b[0K\n",
      "\u001b[0K┌ Warning: Module DiffEqBase with build ID ffffffff-ffff-ffff-0001-9fb8d496f409 is missing from the cache.\n",
      "\u001b[0K│ This may mean DiffEqBase [2b5f629d-d688-5b77-993f-72d75c75574e] does not support precompilation but is imported by a module that does.\n",
      "\u001b[0K└ @ Base loading.jl:2541\n",
      "    379.5 ms  ? DiffEqCallbacks\n",
      "[ Info: Precompiling DiffEqCallbacks [459566f4-90b8-5000-8ac3-15dfb0a30def] \n",
      "┌ Warning: Module DiffEqBase with build ID ffffffff-ffff-ffff-0001-9fb8d496f409 is missing from the cache.\n",
      "│ This may mean DiffEqBase [2b5f629d-d688-5b77-993f-72d75c75574e] does not support precompilation but is imported by a module that does.\n",
      "└ @ Base loading.jl:2541\n",
      "┌ Info: Skipping precompilation due to precompilable error. Importing DiffEqCallbacks [459566f4-90b8-5000-8ac3-15dfb0a30def].\n",
      "└   exception = Error when precompiling module, potentially caused by a __precompile__(false) declaration in the module.\n",
      "Precompiling StochasticDiffEq...\n",
      "   1534.7 ms  ? SciMLBase\n",
      "    953.1 ms  ? LinearSolve\n",
      "   1104.0 ms  ? DiffEqBase\n",
      "    449.0 ms  ? JumpProcesses\n",
      "    681.0 ms  ? SimpleNonlinearSolve\n",
      "    775.9 ms  ? SciMLNLSolve\n",
      "    849.4 ms  ? DiffEqBase → DiffEqBaseDistributionsExt\n",
      "   1115.9 ms  ? LinearSolve → LinearSolveRecursiveArrayToolsExt\n",
      "    605.4 ms  ? JumpProcesses → JumpProcessFastBroadcastExt\n",
      "    524.7 ms  ? DiffEqNoiseProcess\n",
      "    431.8 ms  ? NonlinearSolve\n",
      "    436.9 ms  ? OrdinaryDiffEq\n",
      "Info Given StochasticDiffEq was explicitly requested, output will be shown live \u001b[0K\n",
      "\u001b[0K┌ Warning: Module DiffEqBase with build ID ffffffff-ffff-ffff-0001-9fb8d496f409 is missing from the cache.\n",
      "\u001b[0K│ This may mean DiffEqBase [2b5f629d-d688-5b77-993f-72d75c75574e] does not support precompilation but is imported by a module that does.\n",
      "\u001b[0K└ @ Base loading.jl:2541\n",
      "    464.3 ms  ? StochasticDiffEq\n",
      "[ Info: Precompiling StochasticDiffEq [789caeaf-c7a9-5a7d-9973-96adeb23e2a0] \n",
      "┌ Warning: Module DiffEqBase with build ID ffffffff-ffff-ffff-0001-9fb8d496f409 is missing from the cache.\n",
      "│ This may mean DiffEqBase [2b5f629d-d688-5b77-993f-72d75c75574e] does not support precompilation but is imported by a module that does.\n",
      "└ @ Base loading.jl:2541\n",
      "┌ Info: Skipping precompilation due to precompilable error. Importing StochasticDiffEq [789caeaf-c7a9-5a7d-9973-96adeb23e2a0].\n",
      "└   exception = Error when precompiling module, potentially caused by a __precompile__(false) declaration in the module.\n",
      "Precompiling OrdinaryDiffEq...\n",
      "   1592.5 ms  ? SciMLBase\n",
      "    914.2 ms  ? DiffEqBase\n",
      "    939.9 ms  ? LinearSolve\n",
      "    646.2 ms  ? SimpleNonlinearSolve\n",
      "    697.9 ms  ? SciMLNLSolve\n",
      "   1058.8 ms  ? LinearSolve → LinearSolveRecursiveArrayToolsExt\n",
      "    429.0 ms  ? NonlinearSolve\n",
      "Info Given OrdinaryDiffEq was explicitly requested, output will be shown live \u001b[0K\n",
      "\u001b[0K┌ Warning: Module DiffEqBase with build ID ffffffff-ffff-ffff-0001-9fb8d496f409 is missing from the cache.\n",
      "\u001b[0K│ This may mean DiffEqBase [2b5f629d-d688-5b77-993f-72d75c75574e] does not support precompilation but is imported by a module that does.\n",
      "\u001b[0K└ @ Base loading.jl:2541\n",
      "    428.2 ms  ? OrdinaryDiffEq\n",
      "[ Info: Precompiling OrdinaryDiffEq [1dea7af3-3e70-54e6-95c3-0bf5283fa5ed] \n",
      "┌ Warning: Module DiffEqBase with build ID ffffffff-ffff-ffff-0001-9fb8d496f409 is missing from the cache.\n",
      "│ This may mean DiffEqBase [2b5f629d-d688-5b77-993f-72d75c75574e] does not support precompilation but is imported by a module that does.\n",
      "└ @ Base loading.jl:2541\n",
      "┌ Info: Skipping precompilation due to precompilable error. Importing OrdinaryDiffEq [1dea7af3-3e70-54e6-95c3-0bf5283fa5ed].\n",
      "└   exception = Error when precompiling module, potentially caused by a __precompile__(false) declaration in the module.\n",
      "Precompiling LinearSolve...\n",
      "   1573.7 ms  ? SciMLBase\n",
      "Info Given LinearSolve was explicitly requested, output will be shown live \u001b[0K\n",
      "\u001b[0K┌ Warning: Module SciMLBase with build ID ffffffff-ffff-ffff-0001-9fb9bab775ee is missing from the cache.\n",
      "\u001b[0K│ This may mean SciMLBase [0bca4576-84f4-4d90-8ffe-ffa030f20462] does not support precompilation but is imported by a module that does.\n",
      "\u001b[0K└ @ Base loading.jl:2541\n",
      "    935.5 ms  ? LinearSolve\n",
      "   1053.2 ms  ? LinearSolve → LinearSolveRecursiveArrayToolsExt\n",
      "[ Info: Precompiling LinearSolve [7ed4a6bd-45f5-4d41-b270-4a48e9bafcae] \n",
      "┌ Warning: Module SciMLBase with build ID ffffffff-ffff-ffff-0001-9fb9bab775ee is missing from the cache.\n",
      "│ This may mean SciMLBase [0bca4576-84f4-4d90-8ffe-ffa030f20462] does not support precompilation but is imported by a module that does.\n",
      "└ @ Base loading.jl:2541\n",
      "┌ Info: Skipping precompilation due to precompilable error. Importing LinearSolve [7ed4a6bd-45f5-4d41-b270-4a48e9bafcae].\n",
      "└   exception = Error when precompiling module, potentially caused by a __precompile__(false) declaration in the module.\n",
      "Precompiling LinearSolveRecursiveArrayToolsExt...\n",
      "   1475.5 ms  ? SciMLBase\n",
      "    893.5 ms  ? LinearSolve\n",
      "Info Given LinearSolveRecursiveArrayToolsExt was explicitly requested, output will be shown live \u001b[0K\n",
      "\u001b[0K┌ Warning: Module LinearSolve with build ID ffffffff-ffff-ffff-0001-9fc4a66746e4 is missing from the cache.\n",
      "\u001b[0K│ This may mean LinearSolve [7ed4a6bd-45f5-4d41-b270-4a48e9bafcae] does not support precompilation but is imported by a module that does.\n",
      "\u001b[0K└ @ Base loading.jl:2541\n",
      "    378.0 ms  ? LinearSolve → LinearSolveRecursiveArrayToolsExt\n",
      "[ Info: Precompiling LinearSolveRecursiveArrayToolsExt [04950c4b-5bc4-5740-952d-02d2c1eb583a] \n",
      "┌ Warning: Module LinearSolve with build ID ffffffff-ffff-ffff-0001-9fc4a66746e4 is missing from the cache.\n",
      "│ This may mean LinearSolve [7ed4a6bd-45f5-4d41-b270-4a48e9bafcae] does not support precompilation but is imported by a module that does.\n",
      "└ @ Base loading.jl:2541\n",
      "┌ Info: Skipping precompilation due to precompilable error. Importing LinearSolveRecursiveArrayToolsExt [04950c4b-5bc4-5740-952d-02d2c1eb583a].\n",
      "└   exception = Error when precompiling module, potentially caused by a __precompile__(false) declaration in the module.\n",
      "Precompiling SimpleNonlinearSolve...\n",
      "   1441.6 ms  ? SciMLBase\n",
      "    940.2 ms  ? DiffEqBase\n",
      "Info Given SimpleNonlinearSolve was explicitly requested, output will be shown live \u001b[0K\n",
      "\u001b[0K┌ Warning: Module DiffEqBase with build ID ffffffff-ffff-ffff-0001-9fb8d496f409 is missing from the cache.\n",
      "\u001b[0K│ This may mean DiffEqBase [2b5f629d-d688-5b77-993f-72d75c75574e] does not support precompilation but is imported by a module that does.\n",
      "\u001b[0K└ @ Base loading.jl:2541\n",
      "    631.8 ms  ? SimpleNonlinearSolve\n",
      "[ Info: Precompiling SimpleNonlinearSolve [727e6d20-b764-4bd8-a329-72de5adea6c7] \n",
      "┌ Warning: Module DiffEqBase with build ID ffffffff-ffff-ffff-0001-9fb8d496f409 is missing from the cache.\n",
      "│ This may mean DiffEqBase [2b5f629d-d688-5b77-993f-72d75c75574e] does not support precompilation but is imported by a module that does.\n",
      "└ @ Base loading.jl:2541\n",
      "┌ Info: Skipping precompilation due to precompilable error. Importing SimpleNonlinearSolve [727e6d20-b764-4bd8-a329-72de5adea6c7].\n",
      "└   exception = Error when precompiling module, potentially caused by a __precompile__(false) declaration in the module.\n",
      "Precompiling NonlinearSolve...\n",
      "   1581.3 ms  ? SciMLBase\n",
      "    843.1 ms  ? DiffEqBase\n",
      "    934.0 ms  ? LinearSolve\n",
      "    382.1 ms  ? LinearSolve → LinearSolveRecursiveArrayToolsExt\n",
      "    672.2 ms  ? SimpleNonlinearSolve\n",
      "Info Given NonlinearSolve was explicitly requested, output will be shown live \u001b[0K\n",
      "\u001b[0K┌ Warning: Module DiffEqBase with build ID ffffffff-ffff-ffff-0001-9fb8d496f409 is missing from the cache.\n",
      "\u001b[0K│ This may mean DiffEqBase [2b5f629d-d688-5b77-993f-72d75c75574e] does not support precompilation but is imported by a module that does.\n",
      "\u001b[0K└ @ Base loading.jl:2541\n",
      "    437.3 ms  ? NonlinearSolve\n",
      "[ Info: Precompiling NonlinearSolve [8913a72c-1f9b-4ce2-8d82-65094dcecaec] \n",
      "┌ Warning: Module DiffEqBase with build ID ffffffff-ffff-ffff-0001-9fb8d496f409 is missing from the cache.\n",
      "│ This may mean DiffEqBase [2b5f629d-d688-5b77-993f-72d75c75574e] does not support precompilation but is imported by a module that does.\n",
      "└ @ Base loading.jl:2541\n",
      "┌ Info: Skipping precompilation due to precompilable error. Importing NonlinearSolve [8913a72c-1f9b-4ce2-8d82-65094dcecaec].\n",
      "└   exception = Error when precompiling module, potentially caused by a __precompile__(false) declaration in the module.\n",
      "Precompiling SciMLNLSolve...\n",
      "   1473.6 ms  ? SciMLBase\n",
      "    857.0 ms  ? DiffEqBase\n",
      "Info Given SciMLNLSolve was explicitly requested, output will be shown live \u001b[0K\n",
      "\u001b[0K┌ Warning: Module DiffEqBase with build ID ffffffff-ffff-ffff-0001-9fb8d496f409 is missing from the cache.\n",
      "\u001b[0K│ This may mean DiffEqBase [2b5f629d-d688-5b77-993f-72d75c75574e] does not support precompilation but is imported by a module that does.\n",
      "\u001b[0K└ @ Base loading.jl:2541\n",
      "    707.0 ms  ? SciMLNLSolve\n",
      "[ Info: Precompiling SciMLNLSolve [e9a6253c-8580-4d32-9898-8661bb511710] \n",
      "┌ Warning: Module DiffEqBase with build ID ffffffff-ffff-ffff-0001-9fb8d496f409 is missing from the cache.\n",
      "│ This may mean DiffEqBase [2b5f629d-d688-5b77-993f-72d75c75574e] does not support precompilation but is imported by a module that does.\n",
      "└ @ Base loading.jl:2541\n",
      "┌ Info: Skipping precompilation due to precompilable error. Importing SciMLNLSolve [e9a6253c-8580-4d32-9898-8661bb511710].\n",
      "└   exception = Error when precompiling module, potentially caused by a __precompile__(false) declaration in the module.\n",
      "Precompiling JumpProcesses...\n",
      "   1585.0 ms  ? SciMLBase\n",
      "    857.1 ms  ? DiffEqBase\n",
      "Info Given JumpProcesses was explicitly requested, output will be shown live \u001b[0K\n",
      "\u001b[0K┌ Warning: Module DiffEqBase with build ID ffffffff-ffff-ffff-0001-9fb8d496f409 is missing from the cache.\n",
      "\u001b[0K│ This may mean DiffEqBase [2b5f629d-d688-5b77-993f-72d75c75574e] does not support precompilation but is imported by a module that does.\n",
      "\u001b[0K└ @ Base loading.jl:2541\n",
      "    418.5 ms  ? JumpProcesses\n",
      "    589.8 ms  ? JumpProcesses → JumpProcessFastBroadcastExt\n",
      "[ Info: Precompiling JumpProcesses [ccbc3e58-028d-4f4c-8cd5-9ae44345cda5] \n",
      "┌ Warning: Module DiffEqBase with build ID ffffffff-ffff-ffff-0001-9fb8d496f409 is missing from the cache.\n",
      "│ This may mean DiffEqBase [2b5f629d-d688-5b77-993f-72d75c75574e] does not support precompilation but is imported by a module that does.\n",
      "└ @ Base loading.jl:2541\n",
      "┌ Info: Skipping precompilation due to precompilable error. Importing JumpProcesses [ccbc3e58-028d-4f4c-8cd5-9ae44345cda5].\n",
      "└   exception = Error when precompiling module, potentially caused by a __precompile__(false) declaration in the module.\n",
      "Precompiling JumpProcessFastBroadcastExt...\n",
      "   1489.7 ms  ? SciMLBase\n",
      "    853.6 ms  ? DiffEqBase\n",
      "    420.4 ms  ? JumpProcesses\n",
      "Info Given JumpProcessFastBroadcastExt was explicitly requested, output will be shown live \u001b[0K\n",
      "\u001b[0K┌ Warning: Module JumpProcesses with build ID ffffffff-ffff-ffff-0001-9fd0b7a920ef is missing from the cache.\n",
      "\u001b[0K│ This may mean JumpProcesses [ccbc3e58-028d-4f4c-8cd5-9ae44345cda5] does not support precompilation but is imported by a module that does.\n",
      "\u001b[0K└ @ Base loading.jl:2541\n",
      "    376.2 ms  ? JumpProcesses → JumpProcessFastBroadcastExt\n",
      "[ Info: Precompiling JumpProcessFastBroadcastExt [44c38e23-ab17-56ae-ba63-78931ef072ba] \n",
      "┌ Warning: Module JumpProcesses with build ID ffffffff-ffff-ffff-0001-9fd0b7a920ef is missing from the cache.\n",
      "│ This may mean JumpProcesses [ccbc3e58-028d-4f4c-8cd5-9ae44345cda5] does not support precompilation but is imported by a module that does.\n",
      "└ @ Base loading.jl:2541\n",
      "┌ Info: Skipping precompilation due to precompilable error. Importing JumpProcessFastBroadcastExt [44c38e23-ab17-56ae-ba63-78931ef072ba].\n",
      "└   exception = Error when precompiling module, potentially caused by a __precompile__(false) declaration in the module.\n",
      "Precompiling BoundaryValueDiffEq...\n",
      "   1617.8 ms  ? SciMLBase\n",
      "    865.9 ms  ? DiffEqBase\n",
      "    957.0 ms  ? LinearSolve\n",
      "    387.1 ms  ? LinearSolve → LinearSolveRecursiveArrayToolsExt\n",
      "    711.7 ms  ? SimpleNonlinearSolve\n",
      "    720.8 ms  ? LinearSolve → LinearSolveBandedMatricesExt\n",
      "    429.6 ms  ? NonlinearSolve\n",
      "   1243.6 ms  ? LinearSolve → LinearSolveFastAlmostBandedMatricesExt\n",
      "    694.9 ms  ? NonlinearSolve → NonlinearSolveBandedMatricesExt\n",
      "Info Given BoundaryValueDiffEq was explicitly requested, output will be shown live \u001b[0K\n",
      "\u001b[0K┌ Warning: Module DiffEqBase with build ID ffffffff-ffff-ffff-0001-9fb8d496f409 is missing from the cache.\n",
      "\u001b[0K│ This may mean DiffEqBase [2b5f629d-d688-5b77-993f-72d75c75574e] does not support precompilation but is imported by a module that does.\n",
      "\u001b[0K└ @ Base loading.jl:2541\n",
      "    439.1 ms  ? BoundaryValueDiffEq\n",
      "[ Info: Precompiling BoundaryValueDiffEq [764a87c0-6b3e-53db-9096-fe964310641d] \n",
      "┌ Warning: Module DiffEqBase with build ID ffffffff-ffff-ffff-0001-9fb8d496f409 is missing from the cache.\n",
      "│ This may mean DiffEqBase [2b5f629d-d688-5b77-993f-72d75c75574e] does not support precompilation but is imported by a module that does.\n",
      "└ @ Base loading.jl:2541\n",
      "┌ Info: Skipping precompilation due to precompilable error. Importing BoundaryValueDiffEq [764a87c0-6b3e-53db-9096-fe964310641d].\n",
      "└   exception = Error when precompiling module, potentially caused by a __precompile__(false) declaration in the module.\n",
      "Precompiling LinearSolveBandedMatricesExt...\n",
      "   1578.6 ms  ? SciMLBase\n",
      "    974.5 ms  ? LinearSolve\n",
      "    374.0 ms  ? LinearSolve → LinearSolveRecursiveArrayToolsExt\n",
      "Info Given LinearSolveBandedMatricesExt was explicitly requested, output will be shown live \u001b[0K\n",
      "\u001b[0K┌ Warning: Module LinearSolve with build ID ffffffff-ffff-ffff-0001-9fc4a66746e4 is missing from the cache.\n",
      "\u001b[0K│ This may mean LinearSolve [7ed4a6bd-45f5-4d41-b270-4a48e9bafcae] does not support precompilation but is imported by a module that does.\n",
      "\u001b[0K└ @ Base loading.jl:2541\n",
      "    695.0 ms  ? LinearSolve → LinearSolveBandedMatricesExt\n",
      "[ Info: Precompiling LinearSolveBandedMatricesExt [9522afde-9e86-5396-abc8-24b7312356fe] \n",
      "┌ Warning: Module LinearSolve with build ID ffffffff-ffff-ffff-0001-9fc4a66746e4 is missing from the cache.\n",
      "│ This may mean LinearSolve [7ed4a6bd-45f5-4d41-b270-4a48e9bafcae] does not support precompilation but is imported by a module that does.\n",
      "└ @ Base loading.jl:2541\n",
      "┌ Info: Skipping precompilation due to precompilable error. Importing LinearSolveBandedMatricesExt [9522afde-9e86-5396-abc8-24b7312356fe].\n",
      "└   exception = Error when precompiling module, potentially caused by a __precompile__(false) declaration in the module.\n",
      "Precompiling NonlinearSolveBandedMatricesExt...\n",
      "   1445.4 ms  ? SciMLBase\n",
      "    825.8 ms  ? DiffEqBase\n",
      "    832.7 ms  ? LinearSolve\n",
      "    382.8 ms  ? LinearSolve → LinearSolveRecursiveArrayToolsExt\n",
      "    644.4 ms  ? SimpleNonlinearSolve\n",
      "    697.1 ms  ? LinearSolve → LinearSolveBandedMatricesExt\n",
      "    429.6 ms  ? NonlinearSolve\n",
      "Info Given NonlinearSolveBandedMatricesExt was explicitly requested, output will be shown live \u001b[0K\n",
      "\u001b[0K┌ Warning: Module NonlinearSolve with build ID ffffffff-ffff-ffff-0001-9fca5a785775 is missing from the cache.\n",
      "\u001b[0K│ This may mean NonlinearSolve [8913a72c-1f9b-4ce2-8d82-65094dcecaec] does not support precompilation but is imported by a module that does.\n",
      "\u001b[0K└ @ Base loading.jl:2541\n",
      "    692.4 ms  ? NonlinearSolve → NonlinearSolveBandedMatricesExt\n",
      "[ Info: Precompiling NonlinearSolveBandedMatricesExt [8800daa3-e725-5fa8-982f-091420a833d6] \n",
      "┌ Warning: Module NonlinearSolve with build ID ffffffff-ffff-ffff-0001-9fca5a785775 is missing from the cache.\n",
      "│ This may mean NonlinearSolve [8913a72c-1f9b-4ce2-8d82-65094dcecaec] does not support precompilation but is imported by a module that does.\n",
      "└ @ Base loading.jl:2541\n",
      "┌ Info: Skipping precompilation due to precompilable error. Importing NonlinearSolveBandedMatricesExt [8800daa3-e725-5fa8-982f-091420a833d6].\n",
      "└   exception = Error when precompiling module, potentially caused by a __precompile__(false) declaration in the module.\n",
      "Precompiling LinearSolveFastAlmostBandedMatricesExt...\n",
      "   1572.9 ms  ? SciMLBase\n",
      "   1039.8 ms  ? LinearSolve\n",
      "    387.0 ms  ? LinearSolve → LinearSolveRecursiveArrayToolsExt\n",
      "    707.3 ms  ? LinearSolve → LinearSolveBandedMatricesExt\n",
      "Info Given LinearSolveFastAlmostBandedMatricesExt was explicitly requested, output will be shown live \u001b[0K\n",
      "\u001b[0K┌ Warning: Module LinearSolve with build ID ffffffff-ffff-ffff-0001-9fc4a66746e4 is missing from the cache.\n",
      "\u001b[0K│ This may mean LinearSolve [7ed4a6bd-45f5-4d41-b270-4a48e9bafcae] does not support precompilation but is imported by a module that does.\n",
      "\u001b[0K└ @ Base loading.jl:2541\n",
      "   1216.7 ms  ? LinearSolve → LinearSolveFastAlmostBandedMatricesExt\n",
      "[ Info: Precompiling LinearSolveFastAlmostBandedMatricesExt [f94f2e43-4c39-5f8d-ab9c-7017feb07ff4] \n",
      "┌ Warning: Module LinearSolve with build ID ffffffff-ffff-ffff-0001-9fc4a66746e4 is missing from the cache.\n",
      "│ This may mean LinearSolve [7ed4a6bd-45f5-4d41-b270-4a48e9bafcae] does not support precompilation but is imported by a module that does.\n",
      "└ @ Base loading.jl:2541\n",
      "┌ Info: Skipping precompilation due to precompilable error. Importing LinearSolveFastAlmostBandedMatricesExt [f94f2e43-4c39-5f8d-ab9c-7017feb07ff4].\n",
      "└   exception = Error when precompiling module, potentially caused by a __precompile__(false) declaration in the module.\n",
      "Precompiling BoundaryValueDiffEqOrdinaryDiffEqExt...\n",
      "   1452.5 ms  ? SciMLBase\n",
      "    846.7 ms  ? LinearSolve\n",
      "    881.6 ms  ? DiffEqBase\n",
      "    379.0 ms  ? LinearSolve → LinearSolveRecursiveArrayToolsExt\n",
      "    654.3 ms  ? SimpleNonlinearSolve\n",
      "    707.0 ms  ? LinearSolve → LinearSolveBandedMatricesExt\n",
      "    714.2 ms  ? SciMLNLSolve\n",
      "    441.6 ms  ? NonlinearSolve\n",
      "   1227.5 ms  ? LinearSolve → LinearSolveFastAlmostBandedMatricesExt\n",
      "    433.4 ms  ? OrdinaryDiffEq\n",
      "    725.3 ms  ? NonlinearSolve → NonlinearSolveBandedMatricesExt\n",
      "    437.4 ms  ? BoundaryValueDiffEq\n",
      "Info Given BoundaryValueDiffEqOrdinaryDiffEqExt was explicitly requested, output will be shown live \u001b[0K\n",
      "\u001b[0K┌ Warning: Module BoundaryValueDiffEq with build ID ffffffff-ffff-ffff-0001-9fd3dee3e54b is missing from the cache.\n",
      "\u001b[0K│ This may mean BoundaryValueDiffEq [764a87c0-6b3e-53db-9096-fe964310641d] does not support precompilation but is imported by a module that does.\n",
      "\u001b[0K└ @ Base loading.jl:2541\n",
      "    435.7 ms  ? BoundaryValueDiffEq → BoundaryValueDiffEqOrdinaryDiffEqExt\n",
      "[ Info: Precompiling BoundaryValueDiffEqOrdinaryDiffEqExt [b1c28dff-5d48-57b8-8454-7c50f6dcda47] \n",
      "┌ Warning: Module BoundaryValueDiffEq with build ID ffffffff-ffff-ffff-0001-9fd3dee3e54b is missing from the cache.\n",
      "│ This may mean BoundaryValueDiffEq [764a87c0-6b3e-53db-9096-fe964310641d] does not support precompilation but is imported by a module that does.\n",
      "└ @ Base loading.jl:2541\n",
      "┌ Info: Skipping precompilation due to precompilable error. Importing BoundaryValueDiffEqOrdinaryDiffEqExt [b1c28dff-5d48-57b8-8454-7c50f6dcda47].\n",
      "└   exception = Error when precompiling module, potentially caused by a __precompile__(false) declaration in the module.\n",
      "Precompiling Sundials...\n",
      "   1515.4 ms  ? SciMLBase\n",
      "    844.7 ms  ? DiffEqBase\n",
      "Info Given Sundials was explicitly requested, output will be shown live \u001b[0K\n",
      "\u001b[0K┌ Warning: Module DiffEqBase with build ID ffffffff-ffff-ffff-0001-9fb8d496f409 is missing from the cache.\n",
      "\u001b[0K│ This may mean DiffEqBase [2b5f629d-d688-5b77-993f-72d75c75574e] does not support precompilation but is imported by a module that does.\n",
      "\u001b[0K└ @ Base loading.jl:2541\n",
      "    423.7 ms  ? Sundials\n",
      "[ Info: Precompiling Sundials [c3572dad-4567-51f8-b174-8c6c989267f4] \n",
      "┌ Warning: Module DiffEqBase with build ID ffffffff-ffff-ffff-0001-9fb8d496f409 is missing from the cache.\n",
      "│ This may mean DiffEqBase [2b5f629d-d688-5b77-993f-72d75c75574e] does not support precompilation but is imported by a module that does.\n",
      "└ @ Base loading.jl:2541\n",
      "┌ Info: Skipping precompilation due to precompilable error. Importing Sundials [c3572dad-4567-51f8-b174-8c6c989267f4].\n",
      "└   exception = Error when precompiling module, potentially caused by a __precompile__(false) declaration in the module.\n",
      "Precompiling DelayDiffEq...\n",
      "   1485.5 ms  ? SciMLBase\n",
      "    837.9 ms  ? DiffEqBase\n",
      "    870.2 ms  ? LinearSolve\n",
      "    381.1 ms  ? LinearSolve → LinearSolveRecursiveArrayToolsExt\n",
      "    650.7 ms  ? SimpleNonlinearSolve\n",
      "    719.4 ms  ? SciMLNLSolve\n",
      "    432.3 ms  ? NonlinearSolve\n",
      "    435.4 ms  ? OrdinaryDiffEq\n",
      "Info Given DelayDiffEq was explicitly requested, output will be shown live \u001b[0K\n",
      "\u001b[0K┌ Warning: Module OrdinaryDiffEq with build ID ffffffff-ffff-ffff-0001-9fc379048342 is missing from the cache.\n",
      "\u001b[0K│ This may mean OrdinaryDiffEq [1dea7af3-3e70-54e6-95c3-0bf5283fa5ed] does not support precompilation but is imported by a module that does.\n",
      "\u001b[0K└ @ Base loading.jl:2541\n",
      "    423.0 ms  ? DelayDiffEq\n",
      "[ Info: Precompiling DelayDiffEq [bcd4f6db-9728-5f36-b5f7-82caef46ccdb] \n",
      "┌ Warning: Module OrdinaryDiffEq with build ID ffffffff-ffff-ffff-0001-9fc379048342 is missing from the cache.\n",
      "│ This may mean OrdinaryDiffEq [1dea7af3-3e70-54e6-95c3-0bf5283fa5ed] does not support precompilation but is imported by a module that does.\n",
      "└ @ Base loading.jl:2541\n",
      "┌ Info: Skipping precompilation due to precompilable error. Importing DelayDiffEq [bcd4f6db-9728-5f36-b5f7-82caef46ccdb].\n",
      "└   exception = Error when precompiling module, potentially caused by a __precompile__(false) declaration in the module.\n",
      "Precompiling ModelingToolkit...\n",
      "   1541.5 ms  ? SciMLBase\n",
      "    389.2 ms  ? SciMLBase → SciMLBaseChainRulesCoreExt\n",
      "    868.3 ms  ? DiffEqBase\n",
      "    900.8 ms  ? LinearSolve\n",
      "    500.2 ms  ? DiffEqBase → DiffEqBaseUnitfulExt\n",
      "    485.2 ms  ? DiffEqCallbacks\n",
      "    512.5 ms  ? DiffEqBase → DiffEqBaseChainRulesCoreExt\n",
      "    531.6 ms  ? LinearSolve → LinearSolveRecursiveArrayToolsExt\n",
      "    607.3 ms  ? JumpProcesses\n",
      "    824.2 ms  ? SimpleNonlinearSolve\n",
      "    915.8 ms  ? SciMLNLSolve\n",
      "    964.8 ms  ? DiffEqBase → DiffEqBaseDistributionsExt\n",
      "    411.1 ms  ? JumpProcesses → JumpProcessFastBroadcastExt\n",
      "    453.4 ms  ? NonlinearSolve\n",
      "    432.0 ms  ? OrdinaryDiffEq\n",
      "   2209.5 ms  ? Symbolics\n",
      "   2653.2 ms  ? SparseDiffTools → SparseDiffToolsSymbolicsExt\n",
      "Info Given ModelingToolkit was explicitly requested, output will be shown live \u001b[0K\n",
      "\u001b[0K┌ Warning: Module DiffEqBase with build ID ffffffff-ffff-ffff-0001-9fb8d496f409 is missing from the cache.\n",
      "\u001b[0K│ This may mean DiffEqBase [2b5f629d-d688-5b77-993f-72d75c75574e] does not support precompilation but is imported by a module that does.\n",
      "\u001b[0K└ @ Base loading.jl:2541\n",
      "    462.1 ms  ? ModelingToolkit\n",
      "[ Info: Precompiling ModelingToolkit [961ee093-0014-501f-94e3-6117800e7a78] \n",
      "┌ Warning: Module DiffEqBase with build ID ffffffff-ffff-ffff-0001-9fb8d496f409 is missing from the cache.\n",
      "│ This may mean DiffEqBase [2b5f629d-d688-5b77-993f-72d75c75574e] does not support precompilation but is imported by a module that does.\n",
      "└ @ Base loading.jl:2541\n",
      "┌ Info: Skipping precompilation due to precompilable error. Importing ModelingToolkit [961ee093-0014-501f-94e3-6117800e7a78].\n",
      "└   exception = Error when precompiling module, potentially caused by a __precompile__(false) declaration in the module.\n",
      "Precompiling SciMLBaseChainRulesCoreExt...\n",
      "   1592.1 ms  ? SciMLBase\n",
      "Info Given SciMLBaseChainRulesCoreExt was explicitly requested, output will be shown live \u001b[0K\n",
      "\u001b[0K┌ Warning: Module SciMLBase with build ID ffffffff-ffff-ffff-0001-9fb9bab775ee is missing from the cache.\n",
      "\u001b[0K│ This may mean SciMLBase [0bca4576-84f4-4d90-8ffe-ffa030f20462] does not support precompilation but is imported by a module that does.\n",
      "\u001b[0K└ @ Base loading.jl:2541\n",
      "    387.4 ms  ? SciMLBase → SciMLBaseChainRulesCoreExt\n",
      "[ Info: Precompiling SciMLBaseChainRulesCoreExt [4676cac9-c8e0-5d6e-a4e0-e3351593cdf5] \n",
      "┌ Warning: Module SciMLBase with build ID ffffffff-ffff-ffff-0001-9fb9bab775ee is missing from the cache.\n",
      "│ This may mean SciMLBase [0bca4576-84f4-4d90-8ffe-ffa030f20462] does not support precompilation but is imported by a module that does.\n",
      "└ @ Base loading.jl:2541\n",
      "┌ Info: Skipping precompilation due to precompilable error. Importing SciMLBaseChainRulesCoreExt [4676cac9-c8e0-5d6e-a4e0-e3351593cdf5].\n",
      "└   exception = Error when precompiling module, potentially caused by a __precompile__(false) declaration in the module.\n",
      "Precompiling DiffEqBaseChainRulesCoreExt...\n",
      "   1469.6 ms  ? SciMLBase\n",
      "    377.4 ms  ? SciMLBase → SciMLBaseChainRulesCoreExt\n",
      "    848.2 ms  ? DiffEqBase\n",
      "Info Given DiffEqBaseChainRulesCoreExt was explicitly requested, output will be shown live \u001b[0K\n",
      "\u001b[0K┌ Warning: Module DiffEqBase with build ID ffffffff-ffff-ffff-0001-9fb8d496f409 is missing from the cache.\n",
      "\u001b[0K│ This may mean DiffEqBase [2b5f629d-d688-5b77-993f-72d75c75574e] does not support precompilation but is imported by a module that does.\n",
      "\u001b[0K└ @ Base loading.jl:2541\n",
      "    385.7 ms  ? DiffEqBase → DiffEqBaseChainRulesCoreExt\n",
      "[ Info: Precompiling DiffEqBaseChainRulesCoreExt [b00db79b-61e3-50fb-b26f-2d35b2d9e4ed] \n",
      "┌ Warning: Module DiffEqBase with build ID ffffffff-ffff-ffff-0001-9fb8d496f409 is missing from the cache.\n",
      "│ This may mean DiffEqBase [2b5f629d-d688-5b77-993f-72d75c75574e] does not support precompilation but is imported by a module that does.\n",
      "└ @ Base loading.jl:2541\n",
      "┌ Info: Skipping precompilation due to precompilable error. Importing DiffEqBaseChainRulesCoreExt [b00db79b-61e3-50fb-b26f-2d35b2d9e4ed].\n",
      "└   exception = Error when precompiling module, potentially caused by a __precompile__(false) declaration in the module.\n",
      "Precompiling DiffEqBaseUnitfulExt...\n",
      "   1478.0 ms  ? SciMLBase\n",
      "    816.2 ms  ? DiffEqBase\n",
      "Info Given DiffEqBaseUnitfulExt was explicitly requested, output will be shown live \u001b[0K\n",
      "\u001b[0K┌ Warning: Module DiffEqBase with build ID ffffffff-ffff-ffff-0001-9fb8d496f409 is missing from the cache.\n",
      "\u001b[0K│ This may mean DiffEqBase [2b5f629d-d688-5b77-993f-72d75c75574e] does not support precompilation but is imported by a module that does.\n",
      "\u001b[0K└ @ Base loading.jl:2541\n",
      "    381.3 ms  ? DiffEqBase → DiffEqBaseUnitfulExt\n",
      "[ Info: Precompiling DiffEqBaseUnitfulExt [aeb06bb4-539b-5a1b-8332-034ed9f8ca66] \n",
      "┌ Warning: Module DiffEqBase with build ID ffffffff-ffff-ffff-0001-9fb8d496f409 is missing from the cache.\n",
      "│ This may mean DiffEqBase [2b5f629d-d688-5b77-993f-72d75c75574e] does not support precompilation but is imported by a module that does.\n",
      "└ @ Base loading.jl:2541\n",
      "┌ Info: Skipping precompilation due to precompilable error. Importing DiffEqBaseUnitfulExt [aeb06bb4-539b-5a1b-8332-034ed9f8ca66].\n",
      "└   exception = Error when precompiling module, potentially caused by a __precompile__(false) declaration in the module.\n",
      "Precompiling Symbolics...\n",
      "   1473.9 ms  ? SciMLBase\n",
      "    384.8 ms  ? SciMLBase → SciMLBaseChainRulesCoreExt\n",
      "Info Given Symbolics was explicitly requested, output will be shown live \u001b[0K\n",
      "\u001b[0K┌ Warning: Module SciMLBase with build ID ffffffff-ffff-ffff-0001-9fb9bab775ee is missing from the cache.\n",
      "\u001b[0K│ This may mean SciMLBase [0bca4576-84f4-4d90-8ffe-ffa030f20462] does not support precompilation but is imported by a module that does.\n",
      "\u001b[0K└ @ Base loading.jl:2541\n",
      "   1348.4 ms  ? Symbolics\n",
      "[ Info: Precompiling Symbolics [0c5d862f-8b57-4792-8d23-62f2024744c7] \n",
      "┌ Warning: Module SciMLBase with build ID ffffffff-ffff-ffff-0001-9fb9bab775ee is missing from the cache.\n",
      "│ This may mean SciMLBase [0bca4576-84f4-4d90-8ffe-ffa030f20462] does not support precompilation but is imported by a module that does.\n",
      "└ @ Base loading.jl:2541\n",
      "┌ Info: Skipping precompilation due to precompilable error. Importing Symbolics [0c5d862f-8b57-4792-8d23-62f2024744c7].\n",
      "└   exception = Error when precompiling module, potentially caused by a __precompile__(false) declaration in the module.\n",
      "Precompiling SparseDiffToolsSymbolicsExt...\n",
      "   1560.0 ms  ? SciMLBase\n",
      "    388.2 ms  ? SciMLBase → SciMLBaseChainRulesCoreExt\n",
      "   1284.1 ms  ? Symbolics\n",
      "Info Given SparseDiffToolsSymbolicsExt was explicitly requested, output will be shown live \u001b[0K\n",
      "\u001b[0K┌ Warning: Module Symbolics with build ID ffffffff-ffff-ffff-0001-9fe274c3aca1 is missing from the cache.\n",
      "\u001b[0K│ This may mean Symbolics [0c5d862f-8b57-4792-8d23-62f2024744c7] does not support precompilation but is imported by a module that does.\n",
      "\u001b[0K└ @ Base loading.jl:2541\n",
      "   1018.9 ms  ? SparseDiffTools → SparseDiffToolsSymbolicsExt\n",
      "[ Info: Precompiling SparseDiffToolsSymbolicsExt [cd430d6f-1330-5ba3-8763-ae950e38ad4f] \n",
      "┌ Warning: Module Symbolics with build ID ffffffff-ffff-ffff-0001-9fe274c3aca1 is missing from the cache.\n",
      "│ This may mean Symbolics [0c5d862f-8b57-4792-8d23-62f2024744c7] does not support precompilation but is imported by a module that does.\n",
      "└ @ Base loading.jl:2541\n",
      "┌ Info: Skipping precompilation due to precompilable error. Importing SparseDiffToolsSymbolicsExt [cd430d6f-1330-5ba3-8763-ae950e38ad4f].\n",
      "└   exception = Error when precompiling module, potentially caused by a __precompile__(false) declaration in the module.\n",
      "  Activating project at `~/.julia/environments/diffeqpy`\n",
      "  Activating project at `~/.julia/environments/diffeqpy`\n",
      "  Activating project at `~/.julia/environments/diffeqpy`\n"
     ]
    },
    {
     "data": {
      "image/png": "[encoded data removed]",
      "text/plain": [
       "<Figure size 1000x500 with 1 Axes>"
      ]
     },
     "metadata": {},
     "output_type": "display_data"
    },
    {
     "data": {
      "image/png": "[encoded data removed]",
      "text/plain": [
       "<Figure size 1000x500 with 1 Axes>"
      ]
     },
     "metadata": {},
     "output_type": "display_data"
    }
   ],
   "source": [
    "import os\n",
    "os.environ['KMP_DUPLICATE_LIB_OK'] = 'TRUE'\n",
    "\n",
    "from chirho_diffeqpy import DiffEqPy, ATempParams\n",
    "from chirho.dynamical.handlers.solver import TorchDiffEq\n",
    "from chirho.dynamical.ops import simulate\n",
    "from chirho.dynamical.handlers.trajectory import LogTrajectory\n",
    "from chirho.dynamical.handlers import StaticBatchObservation, StaticIntervention, DynamicIntervention\n",
    "from chirho.counterfactual.handlers import MultiWorldCounterfactual\n",
    "from chirho.observational.handlers import condition\n",
    "from chirho.dynamical.ops import State\n",
    "import numpy as np\n",
    "import torch\n",
    "from pyro import sample, set_rng_seed\n",
    "from pyro.distributions import Uniform, Poisson\n",
    "from typing import Tuple, Optional, Union\n",
    "from functools import partial\n",
    "import matplotlib.pyplot as plt\n",
    "import pyro\n",
    "from pyro.infer.autoguide import AutoDelta, AutoMultivariateNormal\n",
    "from contextlib import nullcontext\n",
    "\n",
    "\n",
    "# The DiffEqPy backend interfaces with julia, so we must load a julia<>python interop backend.\n",
    "import chirho_diffeqpy.lang_interop.julianumpy\n",
    "\n",
    "pyro.settings.set(module_local_params=True)\n",
    "\n",
    "# DiffEqPy requires float64 values, so set the torch default dtype accordingly.\n",
    "torch.set_default_dtype(torch.float64)\n",
    "\n",
    "# Define the dynamics \"purely\", meaning that the dynamics can reference only the state and atemporal parameter arguments thare are passed into it.\n",
    "# We'll use a Lotka-Volterra system with one predator species, one prey species, and four parameters regulating the growth, predation, \n",
    "#  and death rates. For simplicity, we assume 10% efficiency in the conversion of prey to predator.\n",
    "\n",
    "# Importantly, to use these dynamics for both torchdiffeq and diffeqpy, its implementation must support both numpy and torch arrays/tensors.\n",
    "# The same requirement will apply to event functions, but otherwise, the DiffEqPy backend inputs and outputs are torch tensors.\n",
    "# The reason is that julia code will be calling the dynamics and event functions with julia arrays, and the julianumpy backend that\n",
    "#  we imported above will convert these arrays to numpy arrays, which will be passed to the dynamics and event functions for both execution\n",
    "#  and jit compilation.\n",
    "ArrayLike = Union[np.ndarray, torch.Tensor]\n",
    "\n",
    "def pure_dynamics(state: State[ArrayLike], atemp_params: ATempParams[ArrayLike]) -> State[ArrayLike]:\n",
    "    prey = state[\"prey\"]\n",
    "    predator = state[\"predator\"]\n",
    "    \n",
    "    prey_growth_rate = atemp_params[\"prey_growth_rate\"]\n",
    "    predation_rate = atemp_params[\"predation_rate\"]\n",
    "    predator_death_rate = atemp_params[\"predator_death_rate\"]\n",
    "    \n",
    "    dprey_dt = prey_growth_rate * prey - predation_rate * prey * predator\n",
    "    dpredator_dt = 0.1 * predation_rate * prey * predator - predator_death_rate * predator\n",
    "    \n",
    "    return dict(prey=dprey_dt, predator=dpredator_dt)\n",
    "\n",
    "\n",
    "\n",
    "\n",
    "# Now, we'll define a simple uniform prior over the rate parameters and initial state values.\n",
    "def prior() -> Tuple[State[torch.Tensor], ATempParams[torch.Tensor]]:\n",
    "    atemp_params_sample = dict(\n",
    "        prey_growth_rate=sample(\"prey_growth_rate\", Uniform(0.8, 1.2)),\n",
    "        predation_rate=sample(\"predation_rate\", Uniform(0.3, 0.5)),\n",
    "        predator_death_rate=sample(\"predator_death_rate\", Uniform(0.3, 0.5))\n",
    "    )\n",
    "    \n",
    "    initial_state_sample = dict(\n",
    "        prey=sample(\"prey\", Uniform(1, 2)),\n",
    "        predator=sample(\"predator\", Uniform(1, 2))\n",
    "    )\n",
    "    \n",
    "    return initial_state_sample, atemp_params_sample\n",
    "\n",
    "start_time = torch.tensor(0.)\n",
    "end_time = torch.tensor(30.)\n",
    "logging_times = torch.linspace(start_time, end_time, 50)\n",
    "\n",
    "# Define the two solvers with the same tolerance.\n",
    "tols = dict(rtol=1e-6, atol=1e-7)\n",
    "torchdiffeq_solver = TorchDiffEq(**tols)\n",
    "# The kwargs passed here will be passed to the de.solve function of diffeqpy. See their documentation for more information.\n",
    "diffeqpy_solver = DiffEqPy(reltol=tols[\"rtol\"], abstol=tols[\"atol\"])\n",
    "\n",
    "assert torchdiffeq_solver.atol == diffeqpy_solver.solve_kwargs[\"abstol\"]\n",
    "assert torchdiffeq_solver.rtol == diffeqpy_solver.solve_kwargs[\"reltol\"]\n",
    "\n",
    "# Define the model in a way that optionally passes the dynamics and params as a closure, or separately.\n",
    "def random_predatorprey_model(\n",
    "        as_closure: bool,\n",
    "        prior_vals: Tuple[State[torch.Tensor], ATempParams[torch.Tensor]] = None,\n",
    "        log_trajectory: bool = True\n",
    ") -> Optional[State[torch.Tensor]]:\n",
    "    lt = LogTrajectory(times=logging_times) if log_trajectory else nullcontext()\n",
    "    with lt:\n",
    "        \n",
    "        if prior_vals is None:\n",
    "            initial_state, atemp_params = prior()\n",
    "        else:\n",
    "            initial_state, atemp_params = prior_vals\n",
    "        \n",
    "        if as_closure:\n",
    "            # Unlike the DiffEqPy backend, which requires pure dynamics functions, the TorchDiffEq backend expects dynamics to be a closure that \n",
    "            #  reference any atemporal parameters from an outer scope.\n",
    "            closure_dynamics = partial(pure_dynamics, atemp_params=atemp_params)\n",
    "            simulate(closure_dynamics, initial_state, start_time, end_time)\n",
    "        else:\n",
    "            # The DiffEqPy backend expects the dynamics to be a pure function that takes the state and atemporal parameters as arguments.\n",
    "            # These parameters must be passed as a keyword argument to the simulate call.\n",
    "            simulate(pure_dynamics, initial_state, start_time, end_time, atemp_params=atemp_params)\n",
    "            \n",
    "    if log_trajectory:\n",
    "        return lt.trajectory\n",
    "    return None\n",
    "\n",
    "def plot_trajectory(times, trajectory: State[torch.Tensor]):\n",
    "    plt.figure(figsize=(10, 5))\n",
    "    for k in trajectory.keys():\n",
    "        plt.plot(times, trajectory[k], label=k)\n",
    "    plt.xlabel(\"Time\")\n",
    "    plt.ylabel(\"Population (Thousands)\")\n",
    "    plt.legend()\n",
    "\n",
    "# Set the pyro seed and run the model with the torchdiffeq solver.\n",
    "set_rng_seed(0)\n",
    "with torchdiffeq_solver:\n",
    "    torchdiffeq_trajectory = random_predatorprey_model(as_closure=True)\n",
    "    plot_trajectory(logging_times, torchdiffeq_trajectory)\n",
    "\n",
    "\n",
    "set_rng_seed(0)\n",
    "with diffeqpy_solver:\n",
    "    diffeqpy_trajectory = random_predatorprey_model(as_closure=False)\n",
    "    plot_trajectory(logging_times, diffeqpy_trajectory)\n",
    "\n",
    "# The two trajectories are the same up to some tolerance.\n",
    "assert torch.allclose(torchdiffeq_trajectory[\"prey\"], diffeqpy_trajectory[\"prey\"], rtol=1e-2, atol=1e-4)\n",
    "assert torch.allclose(torchdiffeq_trajectory[\"predator\"], diffeqpy_trajectory[\"predator\"], rtol=1e-2, atol=1e-4)"
   ]
  },
  {
   "cell_type": "markdown",
   "id": "ec4b1c11",
   "metadata": {},
   "source": [
    "## GRN example"
   ]
  },
  {
   "cell_type": "code",
   "execution_count": 2,
   "id": "e155ae1e",
   "metadata": {},
   "outputs": [
    {
     "ename": "TypeError",
     "evalue": "'Uniform' object is not callable",
     "output_type": "error",
     "traceback": [
      "\u001b[31m---------------------------------------------------------------------------\u001b[39m",
      "\u001b[31mTypeError\u001b[39m                                 Traceback (most recent call last)",
      "\u001b[36mCell\u001b[39m\u001b[36m \u001b[39m\u001b[32mIn[2]\u001b[39m\u001b[32m, line 156\u001b[39m\n\u001b[32m    154\u001b[39m set_rng_seed(\u001b[32m0\u001b[39m)\n\u001b[32m    155\u001b[39m \u001b[38;5;28;01mwith\u001b[39;00m diffeqpy_solver:\n\u001b[32m--> \u001b[39m\u001b[32m156\u001b[39m     diffeqpy_trajectory = \u001b[43mrandom_gene_model\u001b[49m\u001b[43m(\u001b[49m\u001b[43mas_closure\u001b[49m\u001b[43m=\u001b[49m\u001b[38;5;28;43;01mFalse\u001b[39;49;00m\u001b[43m)\u001b[49m\n\u001b[32m    157\u001b[39m     plot_trajectory(logging_times, diffeqpy_trajectory)\n\u001b[32m    159\u001b[39m \u001b[38;5;66;03m# The results should be the same.\u001b[39;00m\n",
      "\u001b[36mCell\u001b[39m\u001b[36m \u001b[39m\u001b[32mIn[2]\u001b[39m\u001b[32m, line 124\u001b[39m, in \u001b[36mrandom_gene_model\u001b[39m\u001b[34m(as_closure, prior_vals, log_trajectory)\u001b[39m\n\u001b[32m    121\u001b[39m \u001b[38;5;28;01mwith\u001b[39;00m lt:\n\u001b[32m    123\u001b[39m     \u001b[38;5;28;01mif\u001b[39;00m prior_vals \u001b[38;5;129;01mis\u001b[39;00m \u001b[38;5;28;01mNone\u001b[39;00m:\n\u001b[32m--> \u001b[39m\u001b[32m124\u001b[39m         initial_state, atemp_params = \u001b[43mprior\u001b[49m\u001b[43m(\u001b[49m\u001b[43m)\u001b[49m\n\u001b[32m    125\u001b[39m     \u001b[38;5;28;01melse\u001b[39;00m:\n\u001b[32m    126\u001b[39m         initial_state, atemp_params = prior_vals\n",
      "\u001b[36mCell\u001b[39m\u001b[36m \u001b[39m\u001b[32mIn[2]\u001b[39m\u001b[32m, line 77\u001b[39m, in \u001b[36mprior\u001b[39m\u001b[34m()\u001b[39m\n\u001b[32m     74\u001b[39m \u001b[38;5;28;01mdef\u001b[39;00m\u001b[38;5;250m \u001b[39m\u001b[34mprior\u001b[39m() -> Tuple[\u001b[38;5;28mdict\u001b[39m, \u001b[38;5;28mdict\u001b[39m]:\n\u001b[32m     75\u001b[39m     \u001b[38;5;66;03m# Define uniform priors over the gene regulatory parameters\u001b[39;00m\n\u001b[32m     76\u001b[39m     atemp_params_sample = \u001b[38;5;28mdict\u001b[39m(\n\u001b[32m---> \u001b[39m\u001b[32m77\u001b[39m         G1_synthesis_rate=\u001b[43msample\u001b[49m\u001b[43m(\u001b[49m\u001b[33;43m\"\u001b[39;49m\u001b[33;43mG1_synthesis_rate\u001b[39;49m\u001b[33;43m\"\u001b[39;49m\u001b[43m,\u001b[49m\u001b[43m \u001b[49m\u001b[43mUniform\u001b[49m\u001b[43m(\u001b[49m\u001b[32;43m0.5\u001b[39;49m\u001b[43m,\u001b[49m\u001b[43m \u001b[49m\u001b[32;43m1.5\u001b[39;49m\u001b[43m)\u001b[49m\u001b[43m)\u001b[49m,\n\u001b[32m     78\u001b[39m         G2_synthesis_rate=sample(\u001b[33m\"\u001b[39m\u001b[33mG2_synthesis_rate\u001b[39m\u001b[33m\"\u001b[39m, Uniform(\u001b[32m0.5\u001b[39m, \u001b[32m1.5\u001b[39m)),\n\u001b[32m     79\u001b[39m         G3_synthesis_rate=sample(\u001b[33m\"\u001b[39m\u001b[33mG3_synthesis_rate\u001b[39m\u001b[33m\"\u001b[39m, Uniform(\u001b[32m0.5\u001b[39m, \u001b[32m1.5\u001b[39m)),\n\u001b[32m     80\u001b[39m \n\u001b[32m     81\u001b[39m         G1_deg_rate=sample(\u001b[33m\"\u001b[39m\u001b[33mG1_deg_rate\u001b[39m\u001b[33m\"\u001b[39m, Uniform(\u001b[32m0.1\u001b[39m, \u001b[32m0.5\u001b[39m)),\n\u001b[32m     82\u001b[39m         G2_deg_rate=sample(\u001b[33m\"\u001b[39m\u001b[33mG2_deg_rate\u001b[39m\u001b[33m\"\u001b[39m, Uniform(\u001b[32m0.1\u001b[39m, \u001b[32m0.5\u001b[39m)),\n\u001b[32m     83\u001b[39m         G3_deg_rate=sample(\u001b[33m\"\u001b[39m\u001b[33mG3_deg_rate\u001b[39m\u001b[33m\"\u001b[39m, Uniform(\u001b[32m0.1\u001b[39m, \u001b[32m0.5\u001b[39m)),\n\u001b[32m     84\u001b[39m \n\u001b[32m     85\u001b[39m         G1_G2_Hill_activ=sample(\u001b[33m\"\u001b[39m\u001b[33mG1_G2_Hill_activ\u001b[39m\u001b[33m\"\u001b[39m, Uniform(\u001b[32m0.1\u001b[39m, \u001b[32m1.0\u001b[39m)),\n\u001b[32m     86\u001b[39m         G1_G3_Hill_repress=sample(\u001b[33m\"\u001b[39m\u001b[33mG1_G3_Hill_repress\u001b[39m\u001b[33m\"\u001b[39m, Uniform(\u001b[32m0.1\u001b[39m, \u001b[32m1.0\u001b[39m)),\n\u001b[32m     87\u001b[39m \n\u001b[32m     88\u001b[39m         Hill_coefficient=sample(\u001b[33m\"\u001b[39m\u001b[33mHill_coefficient\u001b[39m\u001b[33m\"\u001b[39m, Uniform(\u001b[32m1\u001b[39m, \u001b[32m4\u001b[39m))\n\u001b[32m     89\u001b[39m     )\n\u001b[32m     91\u001b[39m     \u001b[38;5;66;03m# Define uniform priors over the initial states\u001b[39;00m\n\u001b[32m     92\u001b[39m     initial_state_sample = \u001b[38;5;28mdict\u001b[39m(\n\u001b[32m     93\u001b[39m         G1=sample(\u001b[33m\"\u001b[39m\u001b[33mG1\u001b[39m\u001b[33m\"\u001b[39m, Uniform(\u001b[32m0.5\u001b[39m, \u001b[32m2.0\u001b[39m)),\n\u001b[32m     94\u001b[39m         G2=sample(\u001b[33m\"\u001b[39m\u001b[33mG2\u001b[39m\u001b[33m\"\u001b[39m, Uniform(\u001b[32m0.5\u001b[39m, \u001b[32m2.0\u001b[39m)),\n\u001b[32m     95\u001b[39m         G3=sample(\u001b[33m\"\u001b[39m\u001b[33mG3\u001b[39m\u001b[33m\"\u001b[39m, Uniform(\u001b[32m0.5\u001b[39m, \u001b[32m2.0\u001b[39m))\n\u001b[32m     96\u001b[39m     )\n",
      "\u001b[36mFile \u001b[39m\u001b[32m~/miniconda3/envs/sbml_numpyro_env/lib/python3.11/site-packages/pyro/primitives.py:163\u001b[39m, in \u001b[36msample\u001b[39m\u001b[34m(name, fn, *args, **kwargs)\u001b[39m\n\u001b[32m    146\u001b[39m msg = {\n\u001b[32m    147\u001b[39m     \u001b[33m\"\u001b[39m\u001b[33mtype\u001b[39m\u001b[33m\"\u001b[39m: \u001b[33m\"\u001b[39m\u001b[33msample\u001b[39m\u001b[33m\"\u001b[39m,\n\u001b[32m    148\u001b[39m     \u001b[33m\"\u001b[39m\u001b[33mname\u001b[39m\u001b[33m\"\u001b[39m: name,\n\u001b[32m   (...)\u001b[39m\u001b[32m    160\u001b[39m     \u001b[33m\"\u001b[39m\u001b[33mcontinuation\u001b[39m\u001b[33m\"\u001b[39m: \u001b[38;5;28;01mNone\u001b[39;00m,\n\u001b[32m    161\u001b[39m }\n\u001b[32m    162\u001b[39m \u001b[38;5;66;03m# apply the stack and return its return value\u001b[39;00m\n\u001b[32m--> \u001b[39m\u001b[32m163\u001b[39m \u001b[43mapply_stack\u001b[49m\u001b[43m(\u001b[49m\u001b[43mmsg\u001b[49m\u001b[43m)\u001b[49m\n\u001b[32m    164\u001b[39m \u001b[38;5;28;01mreturn\u001b[39;00m msg[\u001b[33m\"\u001b[39m\u001b[33mvalue\u001b[39m\u001b[33m\"\u001b[39m]\n",
      "\u001b[36mFile \u001b[39m\u001b[32m~/miniconda3/envs/sbml_numpyro_env/lib/python3.11/site-packages/pyro/poutine/runtime.py:217\u001b[39m, in \u001b[36mapply_stack\u001b[39m\u001b[34m(initial_msg)\u001b[39m\n\u001b[32m    214\u001b[39m     \u001b[38;5;28;01mif\u001b[39;00m msg[\u001b[33m\"\u001b[39m\u001b[33mstop\u001b[39m\u001b[33m\"\u001b[39m]:\n\u001b[32m    215\u001b[39m         \u001b[38;5;28;01mbreak\u001b[39;00m\n\u001b[32m--> \u001b[39m\u001b[32m217\u001b[39m \u001b[43mdefault_process_message\u001b[49m\u001b[43m(\u001b[49m\u001b[43mmsg\u001b[49m\u001b[43m)\u001b[49m\n\u001b[32m    219\u001b[39m \u001b[38;5;28;01mfor\u001b[39;00m frame \u001b[38;5;129;01min\u001b[39;00m stack[-pointer:]:\n\u001b[32m    220\u001b[39m     frame._postprocess_message(msg)\n",
      "\u001b[36mFile \u001b[39m\u001b[32m~/miniconda3/envs/sbml_numpyro_env/lib/python3.11/site-packages/pyro/poutine/runtime.py:179\u001b[39m, in \u001b[36mdefault_process_message\u001b[39m\u001b[34m(msg)\u001b[39m\n\u001b[32m    176\u001b[39m     msg[\u001b[33m\"\u001b[39m\u001b[33mdone\u001b[39m\u001b[33m\"\u001b[39m] = \u001b[38;5;28;01mTrue\u001b[39;00m\n\u001b[32m    177\u001b[39m     \u001b[38;5;28;01mreturn\u001b[39;00m msg\n\u001b[32m--> \u001b[39m\u001b[32m179\u001b[39m msg[\u001b[33m\"\u001b[39m\u001b[33mvalue\u001b[39m\u001b[33m\"\u001b[39m] = \u001b[43mmsg\u001b[49m\u001b[43m[\u001b[49m\u001b[33;43m\"\u001b[39;49m\u001b[33;43mfn\u001b[39;49m\u001b[33;43m\"\u001b[39;49m\u001b[43m]\u001b[49m\u001b[43m(\u001b[49m\u001b[43m*\u001b[49m\u001b[43mmsg\u001b[49m\u001b[43m[\u001b[49m\u001b[33;43m\"\u001b[39;49m\u001b[33;43margs\u001b[39;49m\u001b[33;43m\"\u001b[39;49m\u001b[43m]\u001b[49m\u001b[43m,\u001b[49m\u001b[43m \u001b[49m\u001b[43m*\u001b[49m\u001b[43m*\u001b[49m\u001b[43mmsg\u001b[49m\u001b[43m[\u001b[49m\u001b[33;43m\"\u001b[39;49m\u001b[33;43mkwargs\u001b[39;49m\u001b[33;43m\"\u001b[39;49m\u001b[43m]\u001b[49m\u001b[43m)\u001b[49m\n\u001b[32m    181\u001b[39m \u001b[38;5;66;03m# after fn has been called, update msg to prevent it from being called again.\u001b[39;00m\n\u001b[32m    182\u001b[39m msg[\u001b[33m\"\u001b[39m\u001b[33mdone\u001b[39m\u001b[33m\"\u001b[39m] = \u001b[38;5;28;01mTrue\u001b[39;00m\n",
      "\u001b[31mTypeError\u001b[39m: 'Uniform' object is not callable"
     ]
    }
   ],
   "source": [
    "import os\n",
    "os.environ['KMP_DUPLICATE_LIB_OK'] = 'TRUE'\n",
    "\n",
    "from chirho_diffeqpy import DiffEqPy, ATempParams\n",
    "from chirho.dynamical.handlers.solver import TorchDiffEq\n",
    "from chirho.dynamical.ops import simulate\n",
    "from chirho.dynamical.handlers.trajectory import LogTrajectory\n",
    "from chirho.dynamical.handlers import StaticBatchObservation, StaticIntervention, DynamicIntervention\n",
    "from chirho.counterfactual.handlers import MultiWorldCounterfactual\n",
    "from chirho.observational.handlers import condition\n",
    "from chirho.dynamical.ops import State\n",
    "import numpy as np\n",
    "import torch\n",
    "from pyro import sample, set_rng_seed\n",
    "from pyro.distributions import Uniform, Poisson\n",
    "from typing import Tuple, Optional, Union\n",
    "from functools import partial\n",
    "import matplotlib.pyplot as plt\n",
    "import pyro\n",
    "from pyro.infer.autoguide import AutoDelta, AutoMultivariateNormal\n",
    "from contextlib import nullcontext\n",
    "pyro.settings.set(module_local_params=True)\n",
    "\n",
    "import numpy as np\n",
    "import torch\n",
    "from typing import Union\n",
    "\n",
    "# Arrays could either be numpy arrays or torch tensors\n",
    "ArrayLike = Union[np.ndarray, torch.Tensor]\n",
    "\n",
    "def gene_regulatory_dynamics_hill(state: ArrayLike, atemp_params: ArrayLike) -> State[ArrayLike]:\n",
    "    G1 = state[\"G1\"]\n",
    "    G2 = state[\"G2\"]\n",
    "    G3 = state[\"G3\"]\n",
    "    \n",
    "    # Parameters\n",
    "    G1_synthesis_rate = atemp_params[\"G1_synthesis_rate\"]\n",
    "    G2_synthesis_rate = atemp_params[\"G2_synthesis_rate\"]\n",
    "    G3_synthesis_rate = atemp_params[\"G3_synthesis_rate\"]\n",
    "    \n",
    "    G1_deg_rate = atemp_params[\"G1_deg_rate\"]\n",
    "    G2_deg_rate = atemp_params[\"G2_deg_rate\"]\n",
    "    G3_deg_rate = atemp_params[\"G3_deg_rate\"]\n",
    "    \n",
    "    G1_G2_Hill_activ = atemp_params[\"G1_G2_Hill_activ\"]\n",
    "    G1_G3_Hill_repress = atemp_params[\"G1_G3_Hill_repress\"]\n",
    "\n",
    "    n = atemp_params[\"Hill_coefficient\"]\n",
    "\n",
    "    # Calculate Hill activation directly\n",
    "    G1_G2_activation = (G1**n) / (G1_G2_Hill_activ**n + G1**n)\n",
    "\n",
    "    # Calculate Hill repression directly\n",
    "    G1_G3_repression = G1_G3_Hill_repress**n / (G1_G3_Hill_repress**n + G1**n)\n",
    "\n",
    "    # Dynamics of gene expression\n",
    "    dG1_dt = G1_synthesis_rate - G1_deg_rate * G1\n",
    "    dG2_dt = G2_synthesis_rate + G1_G2_activation - G2_deg_rate * G2\n",
    "    dG3_dt = G3_synthesis_rate - G1_G3_repression - G3_deg_rate * G3\n",
    "    \n",
    "    return dict(G1=dG1_dt, G2=dG2_dt, G3=dG3_dt)\n",
    "\n",
    "\n",
    "# DiffEqPy requires float64 values, so set the torch default dtype accordingly.\n",
    "torch.set_default_dtype(torch.float64)\n",
    "\n",
    "# The DiffEqPy backend interfaces with julia, so we must load a julia<>python interop backend.\n",
    "import chirho_diffeqpy.lang_interop.julianumpy\n",
    "\n",
    "\n",
    "from torch.distributions import Uniform\n",
    "from typing import Tuple\n",
    "\n",
    "def prior() -> Tuple[dict, dict]:\n",
    "    # Define uniform priors over the gene regulatory parameters\n",
    "    atemp_params_sample = dict(\n",
    "        G1_synthesis_rate=sample(\"G1_synthesis_rate\", Uniform(0.5, 1.5)),\n",
    "        G2_synthesis_rate=sample(\"G2_synthesis_rate\", Uniform(0.5, 1.5)),\n",
    "        G3_synthesis_rate=sample(\"G3_synthesis_rate\", Uniform(0.5, 1.5)),\n",
    "        \n",
    "        G1_deg_rate=sample(\"G1_deg_rate\", Uniform(0.1, 0.5)),\n",
    "        G2_deg_rate=sample(\"G2_deg_rate\", Uniform(0.1, 0.5)),\n",
    "        G3_deg_rate=sample(\"G3_deg_rate\", Uniform(0.1, 0.5)),\n",
    "        \n",
    "        G1_G2_Hill_activ=sample(\"G1_G2_Hill_activ\", Uniform(0.1, 1.0)),\n",
    "        G1_G3_Hill_repress=sample(\"G1_G3_Hill_repress\", Uniform(0.1, 1.0)),\n",
    "        \n",
    "        Hill_coefficient=sample(\"Hill_coefficient\", Uniform(1, 4))\n",
    "    )\n",
    "    \n",
    "    # Define uniform priors over the initial states\n",
    "    initial_state_sample = dict(\n",
    "        G1=sample(\"G1\", Uniform(0.5, 2.0)),\n",
    "        G2=sample(\"G2\", Uniform(0.5, 2.0)),\n",
    "        G3=sample(\"G3\", Uniform(0.5, 2.0))\n",
    "    )\n",
    "    \n",
    "    return initial_state_sample, atemp_params_sample\n",
    "\n",
    "# Define logging times for the simulation\n",
    "start_time = torch.tensor(0.)\n",
    "end_time = torch.tensor(30.)\n",
    "logging_times = torch.linspace(start_time, end_time, 50)\n",
    "\n",
    "# Define the two solvers with the same tolerance.\n",
    "tols = dict(rtol=1e-6, atol=1e-7)\n",
    "# torchdiffeq_solver = TorchDiffEq(**tols)\n",
    "# The kwargs passed here will be passed to the de.solve function of diffeqpy. See their documentation for more information.\n",
    "diffeqpy_solver = DiffEqPy(reltol=tols[\"rtol\"], abstol=tols[\"atol\"])\n",
    "\n",
    "# assert torchdiffeq_solver.atol == diffeqpy_solver.solve_kwargs[\"abstol\"]\n",
    "# assert torchdiffeq_solver.rtol == diffeqpy_solver.solve_kwargs[\"reltol\"]\n",
    "\n",
    "# Define the model in a way that optionally passes the dynamics and params as a closure, or separately.\n",
    "def random_gene_model(\n",
    "        as_closure: bool,\n",
    "        prior_vals: Tuple[dict, dict] = None,\n",
    "        log_trajectory: bool = True\n",
    ") -> Optional[dict]:\n",
    "    lt = LogTrajectory(times=logging_times) if log_trajectory else nullcontext()\n",
    "    with lt:\n",
    "        \n",
    "        if prior_vals is None:\n",
    "            initial_state, atemp_params = prior()\n",
    "        else:\n",
    "            initial_state, atemp_params = prior_vals\n",
    "        \n",
    "        if as_closure:\n",
    "            closure_dynamics = partial(gene_regulatory_dynamics_hill, atemp_params=atemp_params)\n",
    "            simulate(closure_dynamics, initial_state, start_time, end_time)\n",
    "        else:\n",
    "            simulate(gene_regulatory_dynamics_hill, initial_state, start_time, end_time, atemp_params=atemp_params)\n",
    "            \n",
    "    if log_trajectory:\n",
    "        return lt.trajectory\n",
    "    return None\n",
    "\n",
    "\n",
    "def plot_trajectory(times, trajectory: dict):\n",
    "    plt.figure(figsize=(10, 5))\n",
    "    for k in trajectory.keys():\n",
    "        plt.plot(times, trajectory[k], label=k)\n",
    "    plt.xlabel(\"Time\")\n",
    "    plt.ylabel(\"Concentration\")\n",
    "    plt.legend()\n",
    "\n",
    "# # Set the pyro seed and run the model with the torchdiffeq solver.\n",
    "# set_rng_seed(0)\n",
    "# with torchdiffeq_solver:\n",
    "#     torchdiffeq_trajectory = random_gene_model(as_closure=True)\n",
    "#     plot_trajectory(logging_times, torchdiffeq_trajectory)\n",
    "\n",
    "# Set the pyro seed and run the model with the diffeqpy solver.\n",
    "set_rng_seed(0)\n",
    "with diffeqpy_solver:\n",
    "    diffeqpy_trajectory = random_gene_model(as_closure=False)\n",
    "    plot_trajectory(logging_times, diffeqpy_trajectory)\n",
    "\n",
    "# The results should be the same.\n",
    "assert torch.allclose(torchdiffeq_trajectory[\"G1\"], diffeqpy_trajectory[\"G1\"], rtol=1e-2, atol=1e-4)\n",
    "assert torch.allclose(torchdiffeq_trajectory[\"G2\"], diffeqpy_trajectory[\"G2\"], rtol=1e-2, atol=1e-4)\n",
    "assert torch.allclose(torchdiffeq_trajectory[\"G3\"], diffeqpy_trajectory[\"G3\"], rtol=1e-2, atol=1e-4)"
   ]
  },
  {
   "cell_type": "code",
   "execution_count": null,
   "id": "568393ed3df7c1dd",
   "metadata": {
    "ExecuteTime": {
     "end_time": "2024-09-23T20:03:35.291309Z",
     "start_time": "2024-09-23T20:03:35.285703Z"
    },
    "collapsed": false
   },
   "outputs": [],
   "source": []
  },
  {
   "cell_type": "code",
   "execution_count": null,
   "id": "a61ecb8d8661d0fd",
   "metadata": {
    "ExecuteTime": {
     "end_time": "2024-09-23T20:03:35.306183Z",
     "start_time": "2024-09-23T20:03:35.287602Z"
    },
    "collapsed": false
   },
   "outputs": [],
   "source": []
  },
  {
   "cell_type": "code",
   "execution_count": null,
   "id": "dc5be388164048b4",
   "metadata": {
    "ExecuteTime": {
     "end_time": "2024-09-23T20:03:35.314978Z",
     "start_time": "2024-09-23T20:03:35.304740Z"
    },
    "collapsed": false
   },
   "outputs": [],
   "source": [
    "import numpy as np\n",
    "import torch\n",
    "from typing import Union\n",
    "\n",
    "# Arrays could either be numpy arrays or torch tensors\n",
    "ArrayLike = Union[np.ndarray, torch.Tensor]\n",
    "\n",
    "def gene_regulatory_dynamics_hill(state: ArrayLike, atemp_params: ArrayLike) -> dict:\n",
    "    G1 = state[\"G1\"]\n",
    "    G2 = state[\"G2\"]\n",
    "    G3 = state[\"G3\"]\n",
    "    \n",
    "    # Parameters\n",
    "    G1_synthesis_rate = atemp_params[\"G1_synthesis_rate\"]\n",
    "    G2_synthesis_rate = atemp_params[\"G2_synthesis_rate\"]\n",
    "    G3_synthesis_rate = atemp_params[\"G3_synthesis_rate\"]\n",
    "    \n",
    "    G1_deg_rate = atemp_params[\"G1_deg_rate\"]\n",
    "    G2_deg_rate = atemp_params[\"G2_deg_rate\"]\n",
    "    G3_deg_rate = atemp_params[\"G3_deg_rate\"]\n",
    "    \n",
    "    G1_G2_Hill_activ = atemp_params[\"G1_G2_Hill_activ\"]\n",
    "    G1_G3_Hill_repress = atemp_params[\"G1_G3_Hill_repress\"]\n",
    "\n",
    "    n = atemp_params[\"Hill_coefficient\"]\n",
    "\n",
    "    # Calculate Hill activation directly\n",
    "    G1_G2_activation = (G1**n) / (G1_G2_Hill_activ**n + G1**n)\n",
    "\n",
    "    # Calculate Hill repression directly\n",
    "    G1_G3_repression = G1_G3_Hill_repress**n / (G1_G3_Hill_repress**n + G1**n)\n",
    "\n",
    "    # Dynamics of gene expression\n",
    "    dG1_dt = G1_synthesis_rate - G1_deg_rate * G1\n",
    "    dG2_dt = G2_synthesis_rate + G1_G2_activation - G2_deg_rate * G2\n",
    "    dG3_dt = G3_synthesis_rate - G1_G3_repression - G3_deg_rate * G3\n",
    "    \n",
    "    return dict(G1=dG1_dt, G2=dG2_dt, G3=dG3_dt)"
   ]
  },
  {
   "cell_type": "code",
   "execution_count": null,
   "id": "e2d02842f0bbbd69",
   "metadata": {
    "ExecuteTime": {
     "end_time": "2024-09-23T20:03:35.316073Z",
     "start_time": "2024-09-23T20:03:35.308387Z"
    },
    "collapsed": false
   },
   "outputs": [],
   "source": [
    "from torch.distributions import Uniform\n",
    "from typing import Tuple\n",
    "\n",
    "def prior() -> Tuple[dict, dict]:\n",
    "    # Define uniform priors over the gene regulatory parameters\n",
    "    atemp_params_sample = dict(\n",
    "        G1_synthesis_rate=sample(\"G1_synthesis_rate\", Uniform(0.5, 1.5)),\n",
    "        G2_synthesis_rate=sample(\"G2_synthesis_rate\", Uniform(0.5, 1.5)),\n",
    "        G3_synthesis_rate=sample(\"G3_synthesis_rate\", Uniform(0.5, 1.5)),\n",
    "        \n",
    "        G1_deg_rate=sample(\"G1_deg_rate\", Uniform(0.1, 0.5)),\n",
    "        G2_deg_rate=sample(\"G2_deg_rate\", Uniform(0.1, 0.5)),\n",
    "        G3_deg_rate=sample(\"G3_deg_rate\", Uniform(0.1, 0.5)),\n",
    "        \n",
    "        G1_G2_Hill_activ=sample(\"G1_G2_Hill_activ\", Uniform(0.1, 1.0)),\n",
    "        G1_G3_Hill_repress=sample(\"G1_G3_Hill_repress\", Uniform(0.1, 1.0)),\n",
    "        \n",
    "        Hill_coefficient=sample(\"Hill_coefficient\", Uniform(1, 4))\n",
    "    )\n",
    "    \n",
    "    # Define uniform priors over the initial states\n",
    "    initial_state_sample = dict(\n",
    "        G1=sample(\"G1\", Uniform(0.5, 2.0)),\n",
    "        G2=sample(\"G2\", Uniform(0.5, 2.0)),\n",
    "        G3=sample(\"G3\", Uniform(0.5, 2.0))\n",
    "    )\n",
    "    \n",
    "    return initial_state_sample, atemp_params_sample"
   ]
  },
  {
   "cell_type": "code",
   "execution_count": null,
   "id": "78a9c9e6ac8ec521",
   "metadata": {
    "ExecuteTime": {
     "end_time": "2024-09-23T20:03:35.317413Z",
     "start_time": "2024-09-23T20:03:35.310408Z"
    },
    "collapsed": false
   },
   "outputs": [],
   "source": [
    "# Define logging times for the simulation\n",
    "start_time = torch.tensor(0.)\n",
    "end_time = torch.tensor(30.)\n",
    "logging_times = torch.linspace(start_time, end_time, 50)"
   ]
  },
  {
   "cell_type": "code",
   "execution_count": null,
   "id": "327fa602b290493b",
   "metadata": {
    "ExecuteTime": {
     "end_time": "2024-09-23T20:03:35.318774Z",
     "start_time": "2024-09-23T20:03:35.317116Z"
    },
    "collapsed": false
   },
   "outputs": [],
   "source": [
    "# Define the two solvers with the same tolerance.\n",
    "tols = dict(rtol=1e-6, atol=1e-7)\n",
    "torchdiffeq_solver = TorchDiffEq(**tols)\n",
    "# The kwargs passed here will be passed to the de.solve function of diffeqpy. See their documentation for more information.\n",
    "diffeqpy_solver = DiffEqPy(reltol=tols[\"rtol\"], abstol=tols[\"atol\"])\n",
    "\n",
    "assert torchdiffeq_solver.atol == diffeqpy_solver.solve_kwargs[\"abstol\"]\n",
    "assert torchdiffeq_solver.rtol == diffeqpy_solver.solve_kwargs[\"reltol\"]"
   ]
  },
  {
   "cell_type": "code",
   "execution_count": null,
   "id": "d5bf88d92d83368f",
   "metadata": {
    "ExecuteTime": {
     "end_time": "2024-09-23T20:03:35.326421Z",
     "start_time": "2024-09-23T20:03:35.320518Z"
    },
    "collapsed": false
   },
   "outputs": [],
   "source": [
    "# Define the model in a way that optionally passes the dynamics and params as a closure, or separately.\n",
    "def random_gene_model(\n",
    "        as_closure: bool,\n",
    "        prior_vals: Tuple[dict, dict] = None,\n",
    "        log_trajectory: bool = True\n",
    ") -> Optional[dict]:\n",
    "    lt = LogTrajectory(times=logging_times) if log_trajectory else nullcontext()\n",
    "    with lt:\n",
    "        \n",
    "        if prior_vals is None:\n",
    "            initial_state, atemp_params = prior()\n",
    "        else:\n",
    "            initial_state, atemp_params = prior_vals\n",
    "        \n",
    "        if as_closure:\n",
    "            closure_dynamics = partial(gene_regulatory_dynamics_hill, atemp_params=atemp_params)\n",
    "            simulate(closure_dynamics, initial_state, start_time, end_time)\n",
    "        else:\n",
    "            simulate(gene_regulatory_dynamics_hill, initial_state, start_time, end_time, atemp_params=atemp_params)\n",
    "            \n",
    "    if log_trajectory:\n",
    "        return lt.trajectory\n",
    "    return None"
   ]
  },
  {
   "cell_type": "code",
   "execution_count": null,
   "id": "9c792d818377a69f",
   "metadata": {
    "ExecuteTime": {
     "end_time": "2024-09-23T20:03:35.326899Z",
     "start_time": "2024-09-23T20:03:35.322846Z"
    },
    "collapsed": false
   },
   "outputs": [],
   "source": [
    "def plot_trajectory(times, trajectory: dict):\n",
    "    for k in trajectory.keys():\n",
    "        plt.plot(times, trajectory[k], label=k)\n",
    "    plt.xlabel(\"Time\")\n",
    "    plt.ylabel(\"Concentration\")\n",
    "    plt.legend()"
   ]
  },
  {
   "cell_type": "code",
   "execution_count": null,
   "id": "28f0b60654a2da41",
   "metadata": {
    "ExecuteTime": {
     "end_time": "2024-09-23T20:03:35.815935Z",
     "start_time": "2024-09-23T20:03:35.325465Z"
    },
    "collapsed": false
   },
   "outputs": [],
   "source": [
    "# Set the pyro seed and run the model with the torchdiffeq solver.\n",
    "set_rng_seed(0)\n",
    "with torchdiffeq_solver:\n",
    "    torchdiffeq_trajectory = random_gene_model(as_closure=True)\n",
    "    plot_trajectory(logging_times, torchdiffeq_trajectory)"
   ]
  },
  {
   "cell_type": "code",
   "execution_count": null,
   "id": "e0db07c326476254",
   "metadata": {
    "ExecuteTime": {
     "end_time": "2024-09-23T20:03:46.747943Z",
     "start_time": "2024-09-23T20:03:35.816778Z"
    },
    "collapsed": false
   },
   "outputs": [],
   "source": [
    "# Set the pyro seed and run the model with the diffeqpy solver.\n",
    "set_rng_seed(0)\n",
    "with diffeqpy_solver:\n",
    "    diffeqpy_trajectory = random_gene_model(as_closure=False)\n",
    "    plot_trajectory(logging_times, diffeqpy_trajectory)"
   ]
  },
  {
   "cell_type": "code",
   "execution_count": null,
   "id": "582f7ce04e75d7e1",
   "metadata": {
    "ExecuteTime": {
     "end_time": "2024-09-23T20:03:46.750163Z",
     "start_time": "2024-09-23T20:03:46.747627Z"
    },
    "collapsed": false
   },
   "outputs": [],
   "source": [
    "# The results should be the same.\n",
    "assert torch.allclose(torchdiffeq_trajectory[\"G1\"], diffeqpy_trajectory[\"G1\"], rtol=1e-2, atol=1e-4)\n",
    "assert torch.allclose(torchdiffeq_trajectory[\"G2\"], diffeqpy_trajectory[\"G2\"], rtol=1e-2, atol=1e-4)\n",
    "assert torch.allclose(torchdiffeq_trajectory[\"G3\"], diffeqpy_trajectory[\"G3\"], rtol=1e-2, atol=1e-4)"
   ]
  },
  {
   "cell_type": "markdown",
   "id": "2eac305cc3d72ae7",
   "metadata": {
    "collapsed": false
   },
   "source": [
    "### Raw Forward Solve Performance Comparison\n",
    "First, we'll compare the performance of the forward solve, without any interventions or observations."
   ]
  },
  {
   "cell_type": "code",
   "execution_count": null,
   "id": "74fe6525b2832113",
   "metadata": {
    "ExecuteTime": {
     "end_time": "2024-09-23T20:03:46.778977Z",
     "start_time": "2024-09-23T20:03:46.750897Z"
    },
    "collapsed": false
   },
   "outputs": [],
   "source": [
    "import time\n",
    "ITERS = 300"
   ]
  },
  {
   "cell_type": "code",
   "execution_count": null,
   "id": "2220dcddc7bec8d2",
   "metadata": {
    "ExecuteTime": {
     "end_time": "2024-09-23T20:03:46.779518Z",
     "start_time": "2024-09-23T20:03:46.755149Z"
    },
    "collapsed": false
   },
   "outputs": [],
   "source": [
    "def time_fn(fn, iters):\n",
    "    times = []\n",
    "    for i in range(iters):\n",
    "        print(f\"\\rProgress {i:04d} / {iters}\", end=\"\")\n",
    "        t_ = time.time()\n",
    "        fn()\n",
    "        times.append(time.time() - t_)\n",
    "    return times"
   ]
  },
  {
   "cell_type": "code",
   "execution_count": null,
   "id": "77035664960d60fd",
   "metadata": {
    "ExecuteTime": {
     "end_time": "2024-09-23T20:04:13.865407Z",
     "start_time": "2024-09-23T20:03:46.757372Z"
    },
    "collapsed": false
   },
   "outputs": [],
   "source": [
    "set_rng_seed(0)\n",
    "with torchdiffeq_solver:\n",
    "    torchdiffeq_raw_solve_times = time_fn(\n",
    "        lambda: random_predatorprey_model(as_closure=True),\n",
    "        ITERS\n",
    "    )"
   ]
  },
  {
   "cell_type": "code",
   "execution_count": null,
   "id": "b0dc52cb9d22acc0",
   "metadata": {
    "ExecuteTime": {
     "end_time": "2024-09-23T20:04:14.680049Z",
     "start_time": "2024-09-23T20:04:13.867205Z"
    },
    "collapsed": false
   },
   "outputs": [],
   "source": [
    "set_rng_seed(0)\n",
    "with diffeqpy_solver:\n",
    "    diffeqpy_raw_solve_times = time_fn(\n",
    "        lambda: random_predatorprey_model(as_closure=False),\n",
    "        ITERS\n",
    "    )"
   ]
  },
  {
   "cell_type": "code",
   "execution_count": null,
   "id": "8c497259de390977",
   "metadata": {
    "ExecuteTime": {
     "end_time": "2024-09-23T20:04:14.680840Z",
     "start_time": "2024-09-23T20:04:14.676676Z"
    },
    "collapsed": false
   },
   "outputs": [],
   "source": [
    "def plot_times(torchdiffeq_times, diffeqpy_times):\n",
    "    plt.plot(torchdiffeq_times, label=\"TorchDiffEq\")\n",
    "    plt.plot(diffeqpy_times, label=\"DiffEqPy\")\n",
    "    plt.xlabel(\"Iteration\")\n",
    "    plt.ylabel(\"Solve Time (s)\")\n",
    "    # Make y axis log scale.\n",
    "    plt.yscale(\"log\")\n",
    "    plt.legend()"
   ]
  },
  {
   "cell_type": "code",
   "execution_count": null,
   "id": "8f6dbcd706cac811",
   "metadata": {
    "ExecuteTime": {
     "end_time": "2024-09-23T20:04:14.845055Z",
     "start_time": "2024-09-23T20:04:14.678629Z"
    },
    "collapsed": false
   },
   "outputs": [],
   "source": [
    "plot_times(torchdiffeq_raw_solve_times, diffeqpy_raw_solve_times)\n",
    "plt.title(\"Raw Forward Solve Performance\")"
   ]
  },
  {
   "cell_type": "markdown",
   "id": "46dadd756eab8fd1",
   "metadata": {
    "collapsed": false
   },
   "source": [
    "### Raw Backward Solve (SVI) Performance Comparison\n",
    "Now, we'll construct a standard SVI pipeline, and compare the performance of the backward solve of the ELBO. To do so, we'll add some observation noise, condition on the computed trajectories, and compute the gradients of the variational parameters."
   ]
  },
  {
   "cell_type": "code",
   "execution_count": null,
   "id": "2b7d68e0a260d4f6",
   "metadata": {
    "ExecuteTime": {
     "end_time": "2024-09-23T20:04:14.850977Z",
     "start_time": "2024-09-23T20:04:14.845960Z"
    },
    "collapsed": false
   },
   "outputs": [],
   "source": [
    "POISSON_SCALING = 10\n",
    "def observation_noise(trajectory):\n",
    "    return dict(\n",
    "        prey_obs=sample(\"prey_obs\", Poisson((trajectory[\"prey\"] + 1) * POISSON_SCALING).to_event(1)),\n",
    "        predator_obs=sample(\"predator_obs\", Poisson((trajectory[\"predator\"] + 1) * POISSON_SCALING).to_event(1))\n",
    "    )\n",
    "\n",
    "def descale_observations(trajectory):\n",
    "    return {k: v / POISSON_SCALING for k, v in trajectory.items()}"
   ]
  },
  {
   "cell_type": "code",
   "execution_count": null,
   "id": "7f78145f75f1bdd2",
   "metadata": {
    "ExecuteTime": {
     "end_time": "2024-09-23T20:04:14.921123Z",
     "start_time": "2024-09-23T20:04:14.848544Z"
    },
    "collapsed": false
   },
   "outputs": [],
   "source": [
    "# Plot noisifications of the trajectories computed earlier.\n",
    "set_rng_seed(0)\n",
    "observed_data = observation_noise(torchdiffeq_trajectory)\n",
    "plot_trajectory(logging_times, descale_observations(observed_data))"
   ]
  },
  {
   "cell_type": "code",
   "execution_count": null,
   "id": "6feb49662cbc6c11",
   "metadata": {
    "ExecuteTime": {
     "end_time": "2024-09-23T20:04:14.926789Z",
     "start_time": "2024-09-23T20:04:14.922196Z"
    },
    "collapsed": false
   },
   "outputs": [],
   "source": [
    "def returnless_observation_fn(trajectory):\n",
    "    observation_noise(trajectory)\n",
    "\n",
    "batch_observation = StaticBatchObservation(times=logging_times, observation=condition(data=observed_data)(returnless_observation_fn))\n",
    "def build_observed_random_predatorprey_model(*args, **kwargs):\n",
    "    def model():\n",
    "        with batch_observation:\n",
    "            return random_predatorprey_model(*args, log_trajectory=False, **kwargs)\n",
    "    return model"
   ]
  },
  {
   "cell_type": "code",
   "execution_count": null,
   "id": "b9605bf8d82472c7",
   "metadata": {
    "ExecuteTime": {
     "end_time": "2024-09-23T20:04:14.928198Z",
     "start_time": "2024-09-23T20:04:14.925630Z"
    },
    "collapsed": false
   },
   "outputs": [],
   "source": [
    "def build_svi(*args, **kwargs):\n",
    "    model = build_observed_random_predatorprey_model(*args, **kwargs)\n",
    "    guide = AutoMultivariateNormal(prior)\n",
    "    elbo = pyro.infer.Trace_ELBO()(model, guide)\n",
    "    elbo()  # initialize parameters.\n",
    "    optim = torch.optim.Adam(elbo.parameters(), lr=1e-2)\n",
    "    losses = []\n",
    "    \n",
    "    def svi_iter():\n",
    "        optim.zero_grad()\n",
    "        loss = elbo()\n",
    "        loss.backward()\n",
    "        optim.step()\n",
    "        \n",
    "        losses.append(loss.detach().item())\n",
    "    \n",
    "    return svi_iter, guide, losses"
   ]
  },
  {
   "cell_type": "code",
   "execution_count": null,
   "id": "11dce36b2dc42260",
   "metadata": {
    "ExecuteTime": {
     "end_time": "2024-09-23T20:05:11.150371Z",
     "start_time": "2024-09-23T20:04:14.927845Z"
    },
    "collapsed": false
   },
   "outputs": [],
   "source": [
    "# Now, time the svi loops.\n",
    "set_rng_seed(0)\n",
    "with torchdiffeq_solver:\n",
    "    torchdiffeq_svi_iter, torchdiffeq_guide, torchdiffeq_losses = build_svi(as_closure=True)\n",
    "    torchdiffeq_svi_times = time_fn(torchdiffeq_svi_iter, ITERS)"
   ]
  },
  {
   "cell_type": "code",
   "execution_count": null,
   "id": "423db78295dd992d",
   "metadata": {
    "ExecuteTime": {
     "end_time": "2024-09-23T20:05:24.493322Z",
     "start_time": "2024-09-23T20:05:11.151106Z"
    },
    "collapsed": false
   },
   "outputs": [],
   "source": [
    "set_rng_seed(0)\n",
    "with diffeqpy_solver:\n",
    "    diffeqpy_svi_iter, diffeqpy_guide, diffeqpy_losses = build_svi(as_closure=False)\n",
    "    diffeqpy_svi_times = time_fn(diffeqpy_svi_iter, ITERS)"
   ]
  },
  {
   "cell_type": "code",
   "execution_count": null,
   "id": "c3812b4c37e94dc4",
   "metadata": {
    "ExecuteTime": {
     "end_time": "2024-09-23T20:05:24.709817Z",
     "start_time": "2024-09-23T20:05:24.501149Z"
    },
    "collapsed": false
   },
   "outputs": [],
   "source": [
    "plot_times(torchdiffeq_svi_times, diffeqpy_svi_times)"
   ]
  },
  {
   "cell_type": "code",
   "execution_count": null,
   "id": "4647f567972bee82",
   "metadata": {
    "ExecuteTime": {
     "end_time": "2024-09-23T20:05:24.778780Z",
     "start_time": "2024-09-23T20:05:24.716202Z"
    },
    "collapsed": false
   },
   "outputs": [],
   "source": [
    "plt.plot(torchdiffeq_losses, label=\"TorchDiffEq\")\n",
    "plt.plot(diffeqpy_losses, label=\"DiffEqPy\", linestyle=\"--\", linewidth=0.8)\n",
    "plt.xlabel(\"Iteration\")\n",
    "plt.ylabel(\"ELBO Loss\")\n",
    "plt.legend()\n",
    "plt.title(\"SVI Losses\")"
   ]
  },
  {
   "cell_type": "markdown",
   "id": "bc03696a28a3f303",
   "metadata": {
    "collapsed": false
   },
   "source": [
    "### Forward Multi-World Solve with Dynamic and Static Interventions\n",
    "We'll introduce 4 prey units at t=10 statically, and introduce 5 predator units the first time the prey population exceeds 20 units. We'll then simulate this forward with a multi-world counterfactual, exploring all 4 combinations of these interventions being applied/not applied."
   ]
  },
  {
   "cell_type": "code",
   "execution_count": null,
   "id": "f52ce56480e6f185",
   "metadata": {
    "ExecuteTime": {
     "end_time": "2024-09-23T20:05:24.781608Z",
     "start_time": "2024-09-23T20:05:24.780367Z"
    },
    "collapsed": false
   },
   "outputs": [],
   "source": [
    "static_intervention = StaticIntervention(\n",
    "    time=10.,\n",
    "    intervention=dict(\n",
    "        prey=lambda v: v + 4.\n",
    "    )\n",
    ")\n",
    "\n",
    "# Note: the signature for DiffEqPy compatible event functions is as follows, again defined purely wrt the parameters.\n",
    "# def pure_dynamic_event_fn(t: ArrayLike, state: State[ArrayLike], atemp_params: State[ArrayLike]) -> ArrayLike:\n",
    "# But we'll use the signature below to support both backends (ignoring the parameters).\n",
    "# Note that, in order for parameters to be used in a torchdiffeq dynamic event function, they must be included in the state.\n",
    "def pure_dynamic_event_fn(t: ArrayLike, state: State[ArrayLike], *args, **kwargs) -> ArrayLike:\n",
    "    ret = state[\"prey\"] - 20.\n",
    "    return ret\n",
    "\n",
    "dynamic_intervention = DynamicIntervention(\n",
    "    event_fn=pure_dynamic_event_fn,\n",
    "    intervention=dict(\n",
    "        predator=lambda v: v + 5.\n",
    "    )\n",
    ")"
   ]
  },
  {
   "cell_type": "code",
   "execution_count": null,
   "id": "3180165fddcdfee9",
   "metadata": {
    "ExecuteTime": {
     "end_time": "2024-09-23T20:05:24.783634Z",
     "start_time": "2024-09-23T20:05:24.782621Z"
    },
    "collapsed": false
   },
   "outputs": [],
   "source": [
    "def multiworld_forward(*args, **kwargs):\n",
    "    with static_intervention:\n",
    "        with dynamic_intervention:\n",
    "            with MultiWorldCounterfactual() as cf:\n",
    "                traj = random_predatorprey_model(*args, **kwargs)\n",
    "                return traj, cf"
   ]
  },
  {
   "cell_type": "code",
   "execution_count": null,
   "id": "7d0ca85b2f74c125",
   "metadata": {
    "ExecuteTime": {
     "end_time": "2024-09-23T20:05:24.786005Z",
     "start_time": "2024-09-23T20:05:24.784536Z"
    },
    "collapsed": false
   },
   "outputs": [],
   "source": [
    "# Make logging_times higher resolution to better visualize the interventions.\n",
    "logging_times = torch.linspace(start_time, end_time, 500)"
   ]
  },
  {
   "cell_type": "code",
   "execution_count": null,
   "id": "86f79b5d3608b738",
   "metadata": {
    "ExecuteTime": {
     "end_time": "2024-09-23T20:06:00.844935Z",
     "start_time": "2024-09-23T20:05:24.787249Z"
    },
    "collapsed": false
   },
   "outputs": [],
   "source": [
    "set_rng_seed(0)\n",
    "with torchdiffeq_solver:\n",
    "    # It turns out that this example breaks torchdiffeq sometimes. FIXME\n",
    "    def erroring_multiworld_forward(*args, **kwargs):\n",
    "        try:\n",
    "            return multiworld_forward(*args, **kwargs)\n",
    "        except RuntimeError as e:\n",
    "            print(f\"\\nFAILED: {e}\")\n",
    "            return None\n",
    "            \n",
    "    torchdiffeq_multiworld_times = time_fn(\n",
    "        lambda: erroring_multiworld_forward(as_closure=True),\n",
    "        ITERS\n",
    "    )"
   ]
  },
  {
   "cell_type": "code",
   "execution_count": null,
   "id": "d79241e381a0cc75",
   "metadata": {
    "ExecuteTime": {
     "end_time": "2024-09-23T20:06:16.080665Z",
     "start_time": "2024-09-23T20:06:00.846714Z"
    },
    "collapsed": false
   },
   "outputs": [],
   "source": [
    "set_rng_seed(0)\n",
    "with diffeqpy_solver:\n",
    "    diffeqpy_multiworld_times = time_fn(\n",
    "        lambda: multiworld_forward(as_closure=False),\n",
    "        ITERS\n",
    "    )"
   ]
  },
  {
   "cell_type": "code",
   "execution_count": null,
   "id": "6ce4c9ee578d008b",
   "metadata": {
    "ExecuteTime": {
     "end_time": "2024-09-23T20:06:16.192842Z",
     "start_time": "2024-09-23T20:06:16.078683Z"
    },
    "collapsed": false
   },
   "outputs": [],
   "source": [
    "plot_times(torchdiffeq_multiworld_times, diffeqpy_multiworld_times)"
   ]
  },
  {
   "cell_type": "markdown",
   "id": "ea3c3f3f85766efd",
   "metadata": {
    "collapsed": false
   },
   "source": [
    "### Visualizing Multiple Worlds"
   ]
  },
  {
   "cell_type": "code",
   "execution_count": null,
   "id": "7dc5b867694fc1a6",
   "metadata": {
    "ExecuteTime": {
     "end_time": "2024-09-23T20:06:16.193793Z",
     "start_time": "2024-09-23T20:06:16.185782Z"
    },
    "collapsed": false
   },
   "outputs": [],
   "source": [
    "from chirho.indexed.ops import gather, IndexSet"
   ]
  },
  {
   "cell_type": "code",
   "execution_count": null,
   "id": "c70218e88c6bb82f",
   "metadata": {
    "ExecuteTime": {
     "end_time": "2024-09-23T20:06:16.200776Z",
     "start_time": "2024-09-23T20:06:16.188092Z"
    },
    "collapsed": false
   },
   "outputs": [],
   "source": [
    "set_rng_seed(0)\n",
    "with diffeqpy_solver:\n",
    "    diffeqpy_multiworld_traj, diffeqpy_multiworld = multiworld_forward(as_closure=False)"
   ]
  },
  {
   "cell_type": "code",
   "execution_count": null,
   "id": "8c5ac14519725fe7",
   "metadata": {
    "ExecuteTime": {
     "end_time": "2024-09-23T20:06:16.213903Z",
     "start_time": "2024-09-23T20:06:16.201960Z"
    },
    "collapsed": false
   },
   "outputs": [],
   "source": [
    "# TODO figure out what names to use for the split trajectory indices."
   ]
  },
  {
   "cell_type": "code",
   "execution_count": null,
   "id": "635ac044b8cd50fe",
   "metadata": {
    "ExecuteTime": {
     "end_time": "2024-09-23T20:06:16.496328Z",
     "start_time": "2024-09-23T20:06:16.205347Z"
    },
    "collapsed": false
   },
   "outputs": [],
   "source": [
    "from itertools import product\n",
    "world_names = [\n",
    "    \"factual\",\n",
    "    \"predators introduced dynamically\",\n",
    "    \"prey introduced statically\",\n",
    "    \"both introduced\"\n",
    "]\n",
    "for (i, j), world_name in zip(product(range(2), range(2)), world_names):\n",
    "    plt.figure()\n",
    "    for k in diffeqpy_multiworld_traj.keys():\n",
    "        plt.plot(logging_times, diffeqpy_multiworld_traj[k][i, j].squeeze(), label=f\"{k} ({i} {j})\")\n",
    "    plt.xlabel(\"Time\")\n",
    "    plt.ylabel(\"Population (Thousands)\")\n",
    "    plt.title(world_name)\n",
    "    plt.legend()"
   ]
  }
 ],
 "metadata": {
  "kernelspec": {
   "display_name": "sbml_numpyro_env",
   "language": "python",
   "name": "python3"
  },
  "language_info": {
   "codemirror_mode": {
    "name": "ipython",
    "version": 3
   },
   "file_extension": ".py",
   "mimetype": "text/x-python",
   "name": "python",
   "nbconvert_exporter": "python",
   "pygments_lexer": "ipython3",
   "version": "3.11.12"
  }
 },
 "nbformat": 4,
 "nbformat_minor": 5
}
