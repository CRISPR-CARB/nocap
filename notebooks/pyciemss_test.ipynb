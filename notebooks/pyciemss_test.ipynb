{
 "cells": [
  {
   "cell_type": "code",
   "execution_count": 1,
   "metadata": {},
   "outputs": [],
   "source": [
    "import nocap.utility as utility\n",
    "import mira\n",
    "import pyciemss\n",
    "import networkx as nx\n",
    "import matplotlib.pyplot as plt\n",
    "import tellurium as te\n",
    "from mira.sources.sbml import template_model_from_sbml_file\n",
    "import pyciemss.visuals.plots as plots\n",
    "from mira.modeling.ode import OdeModel\n",
    "from mira.modeling.viz import GraphicalModel\n",
    "from mira.modeling import Model\n"
   ]
  },
  {
   "cell_type": "markdown",
   "metadata": {},
   "source": [
    "## Toy ABC GRN: \n",
    "\n",
    "A --> B (activation)\n",
    "\n",
    "A --> C (repression)"
   ]
  },
  {
   "cell_type": "code",
   "execution_count": 2,
   "metadata": {},
   "outputs": [
    {
     "data": {
      "image/png": "[encoded data removed]",
      "text/plain": [
       "<Figure size 640x480 with 1 Axes>"
      ]
     },
     "metadata": {},
     "output_type": "display_data"
    }
   ],
   "source": [
    "# create graph in networkx\n",
    "dagA_to_B_A_to_C = nx.DiGraph()\n",
    "dagA_to_B_A_to_C.add_node('GeneA', value=1.0)\n",
    "dagA_to_B_A_to_C.add_node('GeneB', value=0.0)\n",
    "dagA_to_B_A_to_C.add_node('GeneC', value=0.0)\n",
    "dagA_to_B_A_to_C.add_edge('GeneA', 'GeneB', interaction_type='activation')\n",
    "dagA_to_B_A_to_C.add_edge('GeneA', 'GeneC', interaction_type='repression')\n",
    "G = dagA_to_B_A_to_C\n",
    "\n",
    "# plot the network\n",
    "pos = nx.spring_layout(G)  # positions for all nodes\n",
    "nx.draw_networkx_nodes(G, pos, node_size=10)\n",
    "activation_edges = [(u, v) for u, v, d in G.edges(data=True) if d['interaction_type'] == 'activation']\n",
    "repression_edges = [(u, v) for u, v, d in G.edges(data=True) if d['interaction_type'] == 'repression']\n",
    "nx.draw_networkx_edges(G, pos, edgelist=activation_edges, edge_color='blue', arrows=True)\n",
    "nx.draw_networkx_edges(G, pos, edgelist=repression_edges, edge_color='red', arrows=True, style='dashed')\n",
    "nx.draw_networkx_labels(G, pos, font_size=10, font_family='sans-serif')\n",
    "plt.axis('off')\n",
    "plt.show()"
   ]
  },
  {
   "cell_type": "code",
   "execution_count": 3,
   "metadata": {},
   "outputs": [
    {
     "name": "stdout",
     "output_type": "stream",
     "text": [
      "Generated Antimony Model:\n",
      "model grn_model()\n",
      "  compartment default_compartment = 1;\n",
      "  species GeneA in default_compartment;\n",
      "  GeneA = 1.0;\n",
      "  const GeneA;\n",
      "  species GeneB in default_compartment;\n",
      "  GeneB = 0.0;\n",
      "  const GeneA;\n",
      "  species GeneC in default_compartment;\n",
      "  GeneC = 0.0;\n",
      "  const GeneA;\n",
      "  J_GeneA_to_GeneB: GeneA => GeneB; beta_GeneA_to_GeneB * GeneA^n_GeneA_to_GeneB / (K_GeneA_to_GeneB^n_GeneA_to_GeneB + GeneA^n_GeneA_to_GeneB);\n",
      "  beta_GeneA_to_GeneB = 1.0; // units: mole_per_second\n",
      "  K_GeneA_to_GeneB = 1.0; // units: mole\n",
      "  n_GeneA_to_GeneB = 1.0; // units: dimensionless\n",
      "  J_GeneA_to_GeneC: GeneA => GeneC; beta_GeneA_to_GeneC / (1 + (GeneA^n_GeneA_to_GeneC / K_GeneA_to_GeneC^n_GeneA_to_GeneC));\n",
      "  beta_GeneA_to_GeneC = 1.0; // units: mole_per_second\n",
      "  K_GeneA_to_GeneC = 1.0; // units: mole\n",
      "  n_GeneA_to_GeneC = 1.0; // units: dimensionless\n",
      "end\n",
      "SBML model written to test_dag.xml\n"
     ]
    }
   ],
   "source": [
    "filename = \"test_dag.xml\"\n",
    "utility.create_sbml_model_from_nx(G,filename)"
   ]
  },
  {
   "cell_type": "code",
   "execution_count": 4,
   "metadata": {},
   "outputs": [
    {
     "name": "stdout",
     "output_type": "stream",
     "text": [
      "\n",
      "vJ_GeneA_to_GeneB = beta_GeneA_to_GeneB*pow(GeneA,n_GeneA_to_GeneB)/(pow(K_GeneA_to_GeneB,n_GeneA_to_GeneB)+pow(GeneA,n_GeneA_to_GeneB))\n",
      "vJ_GeneA_to_GeneC = beta_GeneA_to_GeneC/(1+pow(GeneA,n_GeneA_to_GeneC)/pow(K_GeneA_to_GeneC,n_GeneA_to_GeneC))\n",
      "\n",
      "dGeneB/dt = vJ_GeneA_to_GeneB\n",
      "dGeneC/dt = vJ_GeneA_to_GeneC\n",
      "\n"
     ]
    }
   ],
   "source": [
    "rr_model = te.loadSBMLModel(filename)\n",
    "odes = te.getODEsFromModel(rr_model)\n",
    "print(odes)"
   ]
  },
  {
   "cell_type": "code",
   "execution_count": 5,
   "metadata": {},
   "outputs": [
    {
     "data": {
      "text/plain": [
       "{'beta_GeneA_to_GeneB': Parameter(name='beta_GeneA_to_GeneB', display_name=None, description='', identifiers={}, context={}, units=None, value=1.0, distribution=None),\n",
       " 'n_GeneA_to_GeneB': Parameter(name='n_GeneA_to_GeneB', display_name=None, description='', identifiers={}, context={}, units=None, value=1.0, distribution=None),\n",
       " 'K_GeneA_to_GeneB': Parameter(name='K_GeneA_to_GeneB', display_name=None, description='', identifiers={}, context={}, units=None, value=1.0, distribution=None),\n",
       " 'beta_GeneA_to_GeneC': Parameter(name='beta_GeneA_to_GeneC', display_name=None, description='', identifiers={}, context={}, units=None, value=1.0, distribution=None),\n",
       " 'n_GeneA_to_GeneC': Parameter(name='n_GeneA_to_GeneC', display_name=None, description='', identifiers={}, context={}, units=None, value=1.0, distribution=None),\n",
       " 'K_GeneA_to_GeneC': Parameter(name='K_GeneA_to_GeneC', display_name=None, description='', identifiers={}, context={}, units=None, value=1.0, distribution=None),\n",
       " 'default_compartment': Parameter(name='default_compartment', display_name=None, description='', identifiers={}, context={}, units=None, value=1.0, distribution=None),\n",
       " 'GeneA': Parameter(name='GeneA', display_name=None, description=None, identifiers={}, context={}, units=None, value=1.0, distribution=None)}"
      ]
     },
     "metadata": {},
     "output_type": "display_data"
    },
    {
     "data": {
      "text/plain": [
       "{'GeneA': Initial(concept=Concept(name='GeneA', display_name='GeneA', description=None, identifiers={}, context={}, units=None), expression=1.0),\n",
       " 'GeneB': Initial(concept=Concept(name='GeneB', display_name='GeneB', description=None, identifiers={}, context={}, units=None), expression=0.0),\n",
       " 'GeneC': Initial(concept=Concept(name='GeneC', display_name='GeneC', description=None, identifiers={}, context={}, units=None), expression=0.0)}"
      ]
     },
     "metadata": {},
     "output_type": "display_data"
    }
   ],
   "source": [
    "updated_filename = \"test_dag_updated.xml\"\n",
    "filename = updated_filename\n",
    "\n",
    "mira_model = template_model_from_sbml_file(filename)\n",
    "display(mira_model.parameters)\n",
    "display(mira_model.initials)\n"
   ]
  },
  {
   "cell_type": "code",
   "execution_count": 6,
   "metadata": {},
   "outputs": [
    {
     "data": {
      "image/png": "[encoded data removed]",
      "text/plain": [
       "<IPython.core.display.Image object>"
      ]
     },
     "execution_count": 6,
     "metadata": {},
     "output_type": "execute_result"
    }
   ],
   "source": [
    "GraphicalModel.for_jupyter(mira_model)"
   ]
  },
  {
   "cell_type": "code",
   "execution_count": 7,
   "metadata": {},
   "outputs": [
    {
     "data": {
      "text/latex": [
       "$\\displaystyle \\left[\\begin{matrix}0\\\\\\frac{GeneA^{n_{GeneA to GeneB}} \\beta_{GeneA to GeneB}}{GeneA^{n_{GeneA to GeneB}} + K_{GeneA to GeneB}^{n_{GeneA to GeneB}}}\\\\\\frac{\\beta_{GeneA to GeneC}}{GeneA^{n_{GeneA to GeneC}} K_{GeneA to GeneC}^{- n_{GeneA to GeneC}} + 1}\\end{matrix}\\right]$"
      ],
      "text/plain": [
       "Matrix([\n",
       "[                                                                                                         0],\n",
       "[GeneA**n_GeneA_to_GeneB*beta_GeneA_to_GeneB/(GeneA**n_GeneA_to_GeneB + K_GeneA_to_GeneB**n_GeneA_to_GeneB)],\n",
       "[                      beta_GeneA_to_GeneC/(GeneA**n_GeneA_to_GeneC/K_GeneA_to_GeneC**n_GeneA_to_GeneC + 1)]])"
      ]
     },
     "execution_count": 7,
     "metadata": {},
     "output_type": "execute_result"
    }
   ],
   "source": [
    "om = OdeModel(Model(mira_model), initialized=True)\n",
    "om.get_interpretable_kinetics()"
   ]
  },
  {
   "cell_type": "code",
   "execution_count": 8,
   "metadata": {},
   "outputs": [],
   "source": [
    "from mira.modeling.amr.petrinet import AMRPetriNetModel\n",
    "from mira.modeling import Model\n",
    "from pathlib import Path\n",
    "\n",
    "petrinet_model_filename = 'test_petrinet.json'\n",
    "file_root = Path(petrinet_model_filename).stem\n",
    "petrinet_model = AMRPetriNetModel(Model(mira_model))\n",
    "petrinet_model.to_json_file(\n",
    "                petrinet_model_filename,\n",
    "                name=file_root,\n",
    "                description=file_root,\n",
    "                indent=2,\n",
    "            )"
   ]
  },
  {
   "cell_type": "code",
   "execution_count": 10,
   "metadata": {},
   "outputs": [
    {
     "data": {
      "text/html": [
       "<div>\n",
       "<style scoped>\n",
       "    .dataframe tbody tr th:only-of-type {\n",
       "        vertical-align: middle;\n",
       "    }\n",
       "\n",
       "    .dataframe tbody tr th {\n",
       "        vertical-align: top;\n",
       "    }\n",
       "\n",
       "    .dataframe thead th {\n",
       "        text-align: right;\n",
       "    }\n",
       "</style>\n",
       "<table border=\"1\" class=\"dataframe\">\n",
       "  <thead>\n",
       "    <tr style=\"text-align: right;\">\n",
       "      <th></th>\n",
       "      <th>timepoint_id</th>\n",
       "      <th>sample_id</th>\n",
       "      <th>timepoint_unknown</th>\n",
       "      <th>GeneA_state</th>\n",
       "      <th>GeneB_state</th>\n",
       "      <th>GeneC_state</th>\n",
       "    </tr>\n",
       "  </thead>\n",
       "  <tbody>\n",
       "    <tr>\n",
       "      <th>0</th>\n",
       "      <td>0</td>\n",
       "      <td>0</td>\n",
       "      <td>0.0</td>\n",
       "      <td>1.0</td>\n",
       "      <td>0.00</td>\n",
       "      <td>0.00</td>\n",
       "    </tr>\n",
       "    <tr>\n",
       "      <th>1</th>\n",
       "      <td>1</td>\n",
       "      <td>0</td>\n",
       "      <td>0.1</td>\n",
       "      <td>1.0</td>\n",
       "      <td>0.05</td>\n",
       "      <td>0.05</td>\n",
       "    </tr>\n",
       "    <tr>\n",
       "      <th>2</th>\n",
       "      <td>2</td>\n",
       "      <td>0</td>\n",
       "      <td>0.2</td>\n",
       "      <td>1.0</td>\n",
       "      <td>0.10</td>\n",
       "      <td>0.10</td>\n",
       "    </tr>\n",
       "    <tr>\n",
       "      <th>3</th>\n",
       "      <td>3</td>\n",
       "      <td>0</td>\n",
       "      <td>0.3</td>\n",
       "      <td>1.0</td>\n",
       "      <td>0.15</td>\n",
       "      <td>0.15</td>\n",
       "    </tr>\n",
       "    <tr>\n",
       "      <th>4</th>\n",
       "      <td>4</td>\n",
       "      <td>0</td>\n",
       "      <td>0.4</td>\n",
       "      <td>1.0</td>\n",
       "      <td>0.20</td>\n",
       "      <td>0.20</td>\n",
       "    </tr>\n",
       "  </tbody>\n",
       "</table>\n",
       "</div>"
      ],
      "text/plain": [
       "   timepoint_id  sample_id timepoint_unknown  GeneA_state  GeneB_state  \\\n",
       "0             0          0               0.0          1.0         0.00   \n",
       "1             1          0               0.1          1.0         0.05   \n",
       "2             2          0               0.2          1.0         0.10   \n",
       "3             3          0               0.3          1.0         0.15   \n",
       "4             4          0               0.4          1.0         0.20   \n",
       "\n",
       "   GeneC_state  \n",
       "0         0.00  \n",
       "1         0.05  \n",
       "2         0.10  \n",
       "3         0.15  \n",
       "4         0.20  "
      ]
     },
     "metadata": {},
     "output_type": "display_data"
    }
   ],
   "source": [
    "start_time = 0.0\n",
    "end_time = 2\n",
    "logging_step_size = 0.1\n",
    "num_samples = 3\n",
    "\n",
    "petrinet_model_filename = \"test_petrinet_updated.json\"\n",
    "\n",
    "petrinet_results = pyciemss.sample(petrinet_model_filename, end_time, logging_step_size, num_samples, start_time=start_time)\n",
    "display(petrinet_results['data'].head())"
   ]
  },
  {
   "cell_type": "code",
   "execution_count": 13,
   "metadata": {},
   "outputs": [
    {
     "data": {
      "text/html": [
       "<div>\n",
       "<style scoped>\n",
       "    .dataframe tbody tr th:only-of-type {\n",
       "        vertical-align: middle;\n",
       "    }\n",
       "\n",
       "    .dataframe tbody tr th {\n",
       "        vertical-align: top;\n",
       "    }\n",
       "\n",
       "    .dataframe thead th {\n",
       "        text-align: right;\n",
       "    }\n",
       "</style>\n",
       "<table border=\"1\" class=\"dataframe\">\n",
       "  <thead>\n",
       "    <tr style=\"text-align: right;\">\n",
       "      <th></th>\n",
       "      <th>timepoint_id</th>\n",
       "      <th>sample_id</th>\n",
       "      <th>timepoint_unknown</th>\n",
       "      <th>GeneA_state</th>\n",
       "      <th>GeneB_state</th>\n",
       "      <th>GeneC_state</th>\n",
       "    </tr>\n",
       "  </thead>\n",
       "  <tbody>\n",
       "    <tr>\n",
       "      <th>0</th>\n",
       "      <td>0</td>\n",
       "      <td>0</td>\n",
       "      <td>0.0</td>\n",
       "      <td>1.0</td>\n",
       "      <td>0.00</td>\n",
       "      <td>0.00</td>\n",
       "    </tr>\n",
       "    <tr>\n",
       "      <th>1</th>\n",
       "      <td>1</td>\n",
       "      <td>0</td>\n",
       "      <td>0.1</td>\n",
       "      <td>1.0</td>\n",
       "      <td>0.05</td>\n",
       "      <td>0.05</td>\n",
       "    </tr>\n",
       "    <tr>\n",
       "      <th>2</th>\n",
       "      <td>2</td>\n",
       "      <td>0</td>\n",
       "      <td>0.2</td>\n",
       "      <td>1.0</td>\n",
       "      <td>0.10</td>\n",
       "      <td>0.10</td>\n",
       "    </tr>\n",
       "    <tr>\n",
       "      <th>3</th>\n",
       "      <td>3</td>\n",
       "      <td>0</td>\n",
       "      <td>0.3</td>\n",
       "      <td>1.0</td>\n",
       "      <td>0.15</td>\n",
       "      <td>0.15</td>\n",
       "    </tr>\n",
       "    <tr>\n",
       "      <th>4</th>\n",
       "      <td>4</td>\n",
       "      <td>0</td>\n",
       "      <td>0.4</td>\n",
       "      <td>1.0</td>\n",
       "      <td>0.20</td>\n",
       "      <td>0.20</td>\n",
       "    </tr>\n",
       "    <tr>\n",
       "      <th>...</th>\n",
       "      <td>...</td>\n",
       "      <td>...</td>\n",
       "      <td>...</td>\n",
       "      <td>...</td>\n",
       "      <td>...</td>\n",
       "      <td>...</td>\n",
       "    </tr>\n",
       "    <tr>\n",
       "      <th>58</th>\n",
       "      <td>16</td>\n",
       "      <td>2</td>\n",
       "      <td>1.6</td>\n",
       "      <td>1.0</td>\n",
       "      <td>0.80</td>\n",
       "      <td>0.80</td>\n",
       "    </tr>\n",
       "    <tr>\n",
       "      <th>59</th>\n",
       "      <td>17</td>\n",
       "      <td>2</td>\n",
       "      <td>1.7</td>\n",
       "      <td>1.0</td>\n",
       "      <td>0.85</td>\n",
       "      <td>0.85</td>\n",
       "    </tr>\n",
       "    <tr>\n",
       "      <th>60</th>\n",
       "      <td>18</td>\n",
       "      <td>2</td>\n",
       "      <td>1.8</td>\n",
       "      <td>1.0</td>\n",
       "      <td>0.90</td>\n",
       "      <td>0.90</td>\n",
       "    </tr>\n",
       "    <tr>\n",
       "      <th>61</th>\n",
       "      <td>19</td>\n",
       "      <td>2</td>\n",
       "      <td>1.9</td>\n",
       "      <td>1.0</td>\n",
       "      <td>0.95</td>\n",
       "      <td>0.95</td>\n",
       "    </tr>\n",
       "    <tr>\n",
       "      <th>62</th>\n",
       "      <td>20</td>\n",
       "      <td>2</td>\n",
       "      <td>2.0</td>\n",
       "      <td>1.0</td>\n",
       "      <td>1.00</td>\n",
       "      <td>1.00</td>\n",
       "    </tr>\n",
       "  </tbody>\n",
       "</table>\n",
       "<p>63 rows × 6 columns</p>\n",
       "</div>"
      ],
      "text/plain": [
       "    timepoint_id  sample_id timepoint_unknown  GeneA_state  GeneB_state  \\\n",
       "0              0          0               0.0          1.0         0.00   \n",
       "1              1          0               0.1          1.0         0.05   \n",
       "2              2          0               0.2          1.0         0.10   \n",
       "3              3          0               0.3          1.0         0.15   \n",
       "4              4          0               0.4          1.0         0.20   \n",
       "..           ...        ...               ...          ...          ...   \n",
       "58            16          2               1.6          1.0         0.80   \n",
       "59            17          2               1.7          1.0         0.85   \n",
       "60            18          2               1.8          1.0         0.90   \n",
       "61            19          2               1.9          1.0         0.95   \n",
       "62            20          2               2.0          1.0         1.00   \n",
       "\n",
       "    GeneC_state  \n",
       "0          0.00  \n",
       "1          0.05  \n",
       "2          0.10  \n",
       "3          0.15  \n",
       "4          0.20  \n",
       "..          ...  \n",
       "58         0.80  \n",
       "59         0.85  \n",
       "60         0.90  \n",
       "61         0.95  \n",
       "62         1.00  \n",
       "\n",
       "[63 rows x 6 columns]"
      ]
     },
     "execution_count": 13,
     "metadata": {},
     "output_type": "execute_result"
    }
   ],
   "source": [
    "petrinet_results['data']"
   ]
  },
  {
   "cell_type": "code",
   "execution_count": 11,
   "metadata": {},
   "outputs": [
    {
     "data": {
      "text/plain": [
       "{'data':     timepoint_id  sample_id timepoint_unknown  GeneA_state  GeneB_state  \\\n",
       " 0              0          0               0.0          1.0         0.00   \n",
       " 1              1          0               0.1          1.0         0.05   \n",
       " 2              2          0               0.2          1.0         0.10   \n",
       " 3              3          0               0.3          1.0         0.15   \n",
       " 4              4          0               0.4          1.0         0.20   \n",
       " ..           ...        ...               ...          ...          ...   \n",
       " 58            16          2               1.6          1.0         0.80   \n",
       " 59            17          2               1.7          1.0         0.85   \n",
       " 60            18          2               1.8          1.0         0.90   \n",
       " 61            19          2               1.9          1.0         0.95   \n",
       " 62            20          2               2.0          1.0         1.00   \n",
       " \n",
       "     GeneC_state  \n",
       " 0          0.00  \n",
       " 1          0.05  \n",
       " 2          0.10  \n",
       " 3          0.15  \n",
       " 4          0.20  \n",
       " ..          ...  \n",
       " 58         0.80  \n",
       " 59         0.85  \n",
       " 60         0.90  \n",
       " 61         0.95  \n",
       " 62         1.00  \n",
       " \n",
       " [63 rows x 6 columns],\n",
       " 'unprocessed_result': {'GeneA_state': tensor([[1., 1., 1., 1., 1., 1., 1., 1., 1., 1., 1., 1., 1., 1., 1., 1., 1., 1.,\n",
       "           1., 1., 1.],\n",
       "          [1., 1., 1., 1., 1., 1., 1., 1., 1., 1., 1., 1., 1., 1., 1., 1., 1., 1.,\n",
       "           1., 1., 1.],\n",
       "          [1., 1., 1., 1., 1., 1., 1., 1., 1., 1., 1., 1., 1., 1., 1., 1., 1., 1.,\n",
       "           1., 1., 1.]]),\n",
       "  'GeneB_state': tensor([[0.0000, 0.0500, 0.1000, 0.1500, 0.2000, 0.2500, 0.3000, 0.3500, 0.4000,\n",
       "           0.4500, 0.5000, 0.5500, 0.6000, 0.6500, 0.7000, 0.7500, 0.8000, 0.8500,\n",
       "           0.9000, 0.9500, 1.0000],\n",
       "          [0.0000, 0.0500, 0.1000, 0.1500, 0.2000, 0.2500, 0.3000, 0.3500, 0.4000,\n",
       "           0.4500, 0.5000, 0.5500, 0.6000, 0.6500, 0.7000, 0.7500, 0.8000, 0.8500,\n",
       "           0.9000, 0.9500, 1.0000],\n",
       "          [0.0000, 0.0500, 0.1000, 0.1500, 0.2000, 0.2500, 0.3000, 0.3500, 0.4000,\n",
       "           0.4500, 0.5000, 0.5500, 0.6000, 0.6500, 0.7000, 0.7500, 0.8000, 0.8500,\n",
       "           0.9000, 0.9500, 1.0000]]),\n",
       "  'GeneC_state': tensor([[0.0000, 0.0500, 0.1000, 0.1500, 0.2000, 0.2500, 0.3000, 0.3500, 0.4000,\n",
       "           0.4500, 0.5000, 0.5500, 0.6000, 0.6500, 0.7000, 0.7500, 0.8000, 0.8500,\n",
       "           0.9000, 0.9500, 1.0000],\n",
       "          [0.0000, 0.0500, 0.1000, 0.1500, 0.2000, 0.2500, 0.3000, 0.3500, 0.4000,\n",
       "           0.4500, 0.5000, 0.5500, 0.6000, 0.6500, 0.7000, 0.7500, 0.8000, 0.8500,\n",
       "           0.9000, 0.9500, 1.0000],\n",
       "          [0.0000, 0.0500, 0.1000, 0.1500, 0.2000, 0.2500, 0.3000, 0.3500, 0.4000,\n",
       "           0.4500, 0.5000, 0.5500, 0.6000, 0.6500, 0.7000, 0.7500, 0.8000, 0.8500,\n",
       "           0.9000, 0.9500, 1.0000]])},\n",
       " 'risk': {'GeneA_state': {'risk': [1.0],\n",
       "   'qoi': array([1., 1., 1.], dtype=float32)},\n",
       "  'GeneB_state': {'risk': [1.0], 'qoi': array([1., 1., 1.], dtype=float32)},\n",
       "  'GeneC_state': {'risk': [1.0], 'qoi': array([1., 1., 1.], dtype=float32)}}}"
      ]
     },
     "execution_count": 11,
     "metadata": {},
     "output_type": "execute_result"
    }
   ],
   "source": [
    "petrinet_results"
   ]
  },
  {
   "cell_type": "code",
   "execution_count": 12,
   "metadata": {},
   "outputs": [
    {
     "data": {
      "image/png": "[encoded data removed]",
      "text/plain": [
       "<IPython.core.display.Image object>"
      ]
     },
     "execution_count": 12,
     "metadata": {},
     "output_type": "execute_result"
    }
   ],
   "source": [
    "# Plot results for all states\n",
    "schema = plots.trajectories(petrinet_results[\"data\"], keep=\".*_state\")\n",
    "plots.save_schema(schema, \"_schema.json\")\n",
    "plots.ipy_display(schema, dpi=150)"
   ]
  },
  {
   "cell_type": "code",
   "execution_count": null,
   "metadata": {},
   "outputs": [],
   "source": [
    "## for priors use uniform(0,1)\n",
    "\n",
    "from mira.metamodel import Distribution\n",
    "\n",
    "\n",
    "dist = Distribution(\n",
    "                    type= \"Uniform1\",\n",
    "                    parameters= {\"minimum\": 0.5,\"maximum\": 1.5 }     \n",
    "                     )\n",
    "\n",
    "for name,parameter in mira_model.parameters.items():\n",
    "    if name != \"default_compartment\":\n",
    "        parameter.distribution = dist\n",
    "\n",
    "petrinet_model_filename = 'test_petrinet_w_priors.json'\n",
    "file_root = Path(petrinet_model_filename).stem\n",
    "petrinet_model = AMRPetriNetModel(Model(mira_model))\n",
    "petrinet_model.to_json_file(\n",
    "                petrinet_model_filename,\n",
    "                name=file_root,\n",
    "                description=file_root,\n",
    "                indent=2,\n",
    "            )"
   ]
  },
  {
   "cell_type": "code",
   "execution_count": null,
   "metadata": {},
   "outputs": [],
   "source": [
    "rr_model = te.loadSBMLModel(filename)\n",
    "rr_results = rr_model.simulate(0,1)"
   ]
  },
  {
   "cell_type": "code",
   "execution_count": null,
   "metadata": {},
   "outputs": [],
   "source": [
    "import pandas as pd    \n",
    "\n",
    "data_filepath = \"test_data.csv\"\n",
    "formatted_df = pd.DataFrame(rr_results, columns=rr_results.colnames)\n",
    "formatted_df = formatted_df.set_index('time')\n",
    "formatted_df.index.names = ['Timestamp']  # must be 'Timestamp' for pyciemss\n",
    "\n",
    "formatted_df.columns = formatted_df.columns.str.replace('[', '', regex=False).str.replace(']', '', regex=False)\n",
    "formatted_df.to_csv(data_filepath)\n",
    "\n",
    "formatted_df.head()\n"
   ]
  },
  {
   "cell_type": "code",
   "execution_count": null,
   "metadata": {},
   "outputs": [],
   "source": [
    "num_iterations = 100\n",
    "data_to_use = formatted_df\n",
    "data_path = data_filepath\n",
    "model_path_or_json = petrinet_model_filename\n",
    "\n",
    "data_mapping = {k:k for k in data_to_use.columns}  # remove '[]' for concentration added by Tellurium\n",
    "print(data_mapping)\n",
    "calibration_results = pyciemss.calibrate(model_path_or_json, data_path, data_mapping=data_mapping, num_iterations=num_iterations, verbose=True)"
   ]
  },
  {
   "cell_type": "code",
   "execution_count": null,
   "metadata": {},
   "outputs": [],
   "source": [
    "parameter_estimates = calibration_results[\"inferred_parameters\"]\n",
    "parameter_estimates()"
   ]
  },
  {
   "cell_type": "code",
   "execution_count": null,
   "metadata": {},
   "outputs": [],
   "source": [
    "# set simulation and sampling parameters\n",
    "start_time = 0.0\n",
    "end_time = 1\n",
    "logging_step_size = 0.1\t#1.0\n",
    "num_samples = 10\n",
    "\n",
    "calibrated_sample_results = pyciemss.sample(petrinet_model_filename, end_time, logging_step_size, num_samples, \n",
    "                start_time=start_time, inferred_parameters=parameter_estimates)\n",
    "display(calibrated_sample_results[\"data\"].head())"
   ]
  },
  {
   "cell_type": "code",
   "execution_count": null,
   "metadata": {},
   "outputs": [],
   "source": [
    "# Plot results for all states\n",
    "schema = plots.trajectories(calibrated_sample_results[\"data\"], keep=\".*_state\")\n",
    "plots.save_schema(schema, \"_schema.json\")\n",
    "plots.ipy_display(schema, dpi=150)"
   ]
  },
  {
   "cell_type": "code",
   "execution_count": null,
   "metadata": {},
   "outputs": [],
   "source": [
    "# parameter intervention - before calibration"
   ]
  },
  {
   "cell_type": "code",
   "execution_count": null,
   "metadata": {},
   "outputs": [],
   "source": [
    "# parameter intervention - after calibration (counterfactual)"
   ]
  },
  {
   "cell_type": "code",
   "execution_count": null,
   "metadata": {},
   "outputs": [],
   "source": [
    "# compare intevened vs unintervened "
   ]
  }
 ],
 "metadata": {
  "kernelspec": {
   "display_name": "NOCAP_env",
   "language": "python",
   "name": "python3"
  },
  "language_info": {
   "codemirror_mode": {
    "name": "ipython",
    "version": 3
   },
   "file_extension": ".py",
   "mimetype": "text/x-python",
   "name": "python",
   "nbconvert_exporter": "python",
   "pygments_lexer": "ipython3",
   "version": "3.11.8"
  }
 },
 "nbformat": 4,
 "nbformat_minor": 2
}
