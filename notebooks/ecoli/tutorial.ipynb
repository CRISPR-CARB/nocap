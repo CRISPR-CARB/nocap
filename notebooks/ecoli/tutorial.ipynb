{
 "cells": [
  {
   "cell_type": "markdown",
   "metadata": {},
   "source": [
    "# Network Optimization and Causal Analysis for Perturb-seq (NOCAP)\n",
    "\n"
   ]
  },
  {
   "cell_type": "markdown",
   "metadata": {},
   "source": [
    "## Outline:\n",
    "1. Network creation\n",
    "2. Linear model analysis\n",
    "3. Non-Linear (Hill) model analysis (in progress)\n",
    "4. Future directions"
   ]
  },
  {
   "cell_type": "markdown",
   "metadata": {},
   "source": [
    "# Introduction\n",
    "\n",
    "Our aim is to build a robust tool for modeling, analysis, and casual inference of pertub-seq data for biosystems design applications. "
   ]
  },
  {
   "cell_type": "markdown",
   "metadata": {},
   "source": [
    "## 1. Network creation"
   ]
  },
  {
   "cell_type": "markdown",
   "metadata": {},
   "source": [
    "### Generate a network from the biocyc database\n",
    "\n",
    "E coli regulatory database --> output file --> directed graph with polarity for activation/inihibition type"
   ]
  },
  {
   "cell_type": "code",
   "execution_count": 1,
   "metadata": {},
   "outputs": [
    {
     "name": "stdout",
     "output_type": "stream",
     "text": [
      "E. coli regulatory network: 3042 nodes and 9678 edges.\n"
     ]
    },
    {
     "name": "stderr",
     "output_type": "stream",
     "text": [
      "/Users/geor228/Github/nocap/notebooks/ecoli/utility.py:54: UserWarning: regulatee: patA has no polarity\n",
      "  warnings.warn(f\"regulatee: {regulatee} has no polarity\")\n",
      "/Users/geor228/Github/nocap/notebooks/ecoli/utility.py:54: UserWarning: regulatee: eutD has no polarity\n",
      "  warnings.warn(f\"regulatee: {regulatee} has no polarity\")\n",
      "/Users/geor228/Github/nocap/notebooks/ecoli/utility.py:54: UserWarning: regulatee: eutM has no polarity\n",
      "  warnings.warn(f\"regulatee: {regulatee} has no polarity\")\n",
      "/Users/geor228/Github/nocap/notebooks/ecoli/utility.py:54: UserWarning: regulatee: eutP has no polarity\n",
      "  warnings.warn(f\"regulatee: {regulatee} has no polarity\")\n",
      "/Users/geor228/Github/nocap/notebooks/ecoli/utility.py:54: UserWarning: regulatee: eutQ has no polarity\n",
      "  warnings.warn(f\"regulatee: {regulatee} has no polarity\")\n",
      "/Users/geor228/Github/nocap/notebooks/ecoli/utility.py:54: UserWarning: regulatee: eutS has no polarity\n",
      "  warnings.warn(f\"regulatee: {regulatee} has no polarity\")\n",
      "/Users/geor228/Github/nocap/notebooks/ecoli/utility.py:54: UserWarning: regulatee: eutT has no polarity\n",
      "  warnings.warn(f\"regulatee: {regulatee} has no polarity\")\n",
      "/Users/geor228/Github/nocap/notebooks/ecoli/utility.py:54: UserWarning: regulatee: feoA has no polarity\n",
      "  warnings.warn(f\"regulatee: {regulatee} has no polarity\")\n",
      "/Users/geor228/Github/nocap/notebooks/ecoli/utility.py:54: UserWarning: regulatee: feoB has no polarity\n",
      "  warnings.warn(f\"regulatee: {regulatee} has no polarity\")\n",
      "/Users/geor228/Github/nocap/notebooks/ecoli/utility.py:54: UserWarning: regulatee: feoC has no polarity\n",
      "  warnings.warn(f\"regulatee: {regulatee} has no polarity\")\n"
     ]
    }
   ],
   "source": [
    "import utility \n",
    "\n",
    "fname = \"ECOLI-regulatory-network.txt\"\n",
    "# code to generate full e coli network\n",
    "ecoli_network = utility.parse_regulation_file(fname) \n",
    "# simple analysis / visualization of the graph\n",
    "print(f\"E. coli regulatory network: {len(ecoli_network.nodes)} nodes and {len(ecoli_network.edges)} edges.\")\n",
    "\n",
    "network = utility.parse_regulation_file(fname)"
   ]
  },
  {
   "cell_type": "markdown",
   "metadata": {},
   "source": [
    "View of the entire network (from ecocyc):\n",
    "\n",
    "<img src=\"ecoli_viz.png\" alt=\"Ecoli GRN\" width=\"800\"/>"
   ]
  },
  {
   "cell_type": "markdown",
   "metadata": {},
   "source": [
    "### Generate a subnetwork from desired target gene\n",
    "\n",
    "Include the target gene, descendents and their ancestors (confounders)"
   ]
  },
  {
   "cell_type": "code",
   "execution_count": 3,
   "metadata": {},
   "outputs": [
    {
     "name": "stdout",
     "output_type": "stream",
     "text": [
      "108\n",
      "536\n"
     ]
    }
   ],
   "source": [
    "# code to generate sub network\n",
    "\n",
    "subnetwork = utility.get_subgraph_from_nodes(network,['lacI'])\n",
    "\n",
    "print(len(subnetwork.nodes))\n",
    "print(len(subnetwork.edges))\n",
    "# simple analysis / visualization of the graph"
   ]
  },
  {
   "cell_type": "markdown",
   "metadata": {},
   "source": [
    "### Adjust subnetwork for analysis*\n",
    "\n",
    "Current causal inference algorithms require a directed *acyclic* graph (DAG)\n",
    "\n",
    "*Ongoing work for algorithms on cyclic graphs "
   ]
  },
  {
   "cell_type": "markdown",
   "metadata": {},
   "source": [
    "## 2. Linear models"
   ]
  },
  {
   "cell_type": "markdown",
   "metadata": {},
   "source": [
    "### Linear structural causal models\n",
    "\n",
    "each node $i$ has an associated bias term $\\epsilon_i$.\n",
    "\n",
    "each edge from node $i\\rightarrow j$ has an associated weight $\\beta_{ij}$, which is >0 for activation and <0 for inhibition.\n",
    "\n",
    "this gives a linear form of the node (gene $x_i$) values: $x_i = \\sum_{j \\\\  \\textrm{neighbors}}{\\beta_{ij}x_j} + \\epsilon_i$\n",
    "\n",
    "these equations can be constructed automatically from a DAG"
   ]
  },
  {
   "cell_type": "code",
   "execution_count": 4,
   "metadata": {},
   "outputs": [],
   "source": [
    "# create set of linear equations from a DAG"
   ]
  },
  {
   "cell_type": "markdown",
   "metadata": {},
   "source": [
    "### Simulating data from a model\n",
    "\n",
    "Once we have a model and a set of parameters ($\\beta$ and $\\epsilon$), we can simulate data."
   ]
  },
  {
   "cell_type": "code",
   "execution_count": 6,
   "metadata": {},
   "outputs": [],
   "source": [
    "# simulate data and show example"
   ]
  },
  {
   "cell_type": "markdown",
   "metadata": {},
   "source": [
    "### Fitting a model to data\n",
    "\n",
    "Suppose we have a dataset and a model, and we want to fit the parameters ($\\beta$ and $\\epsilon$). \n",
    "\n",
    "We can also examine the quality of the fit."
   ]
  },
  {
   "cell_type": "code",
   "execution_count": 2,
   "metadata": {},
   "outputs": [],
   "source": [
    "# fit model (frequentist regression)\n",
    "# show results / evaluation"
   ]
  },
  {
   "cell_type": "markdown",
   "metadata": {},
   "source": [
    "### Computing average treatment effect (ATE)\n",
    "\n",
    "Suppose we want to predict how intervening of X (geneA) effects Y (geneB).\n",
    "\n",
    "This is given by the average treatment effect: E[Y | do(x)] - E[Y]"
   ]
  },
  {
   "cell_type": "code",
   "execution_count": 3,
   "metadata": {},
   "outputs": [],
   "source": [
    "# compute ATE"
   ]
  },
  {
   "cell_type": "markdown",
   "metadata": {},
   "source": [
    "How well does our estimate do?"
   ]
  },
  {
   "cell_type": "code",
   "execution_count": 4,
   "metadata": {},
   "outputs": [],
   "source": [
    "# predicted vs actual ATE"
   ]
  },
  {
   "cell_type": "markdown",
   "metadata": {},
   "source": [
    "### Counterfactual reasoning\n",
    "\n",
    "Suppose we have observed data, we want to fit the data. \n",
    "\n",
    "\"soft intervention\" = rewiring the network\n"
   ]
  },
  {
   "cell_type": "code",
   "execution_count": null,
   "metadata": {},
   "outputs": [],
   "source": []
  },
  {
   "cell_type": "markdown",
   "metadata": {},
   "source": [
    "### Examples for FadR, TyrR, LacI"
   ]
  },
  {
   "cell_type": "markdown",
   "metadata": {},
   "source": [
    "## 3. Non-linear models (Hill equations)"
   ]
  },
  {
   "cell_type": "markdown",
   "metadata": {},
   "source": [
    "technical noise with SERGIO\n",
    "missing batch effects (chirho)\n",
    "microsplit - can it measure small RNA? \n",
    "rate equation for small RNA? 1st order?\n",
    "falsififaction: can we test if conditional independencies in the data matches the conditional independencies in the model\n",
    "- model repair: can we \"fix\" a misspecified model when we the falsify the model (eliator)\n"
   ]
  },
  {
   "cell_type": "markdown",
   "metadata": {},
   "source": [
    "## Discussion"
   ]
  },
  {
   "cell_type": "markdown",
   "metadata": {},
   "source": []
  }
 ],
 "metadata": {
  "kernelspec": {
   "display_name": "NOCAP_env",
   "language": "python",
   "name": "python3"
  },
  "language_info": {
   "codemirror_mode": {
    "name": "ipython",
    "version": 3
   },
   "file_extension": ".py",
   "mimetype": "text/x-python",
   "name": "python",
   "nbconvert_exporter": "python",
   "pygments_lexer": "ipython3",
   "version": "3.11.7"
  }
 },
 "nbformat": 4,
 "nbformat_minor": 2
}
