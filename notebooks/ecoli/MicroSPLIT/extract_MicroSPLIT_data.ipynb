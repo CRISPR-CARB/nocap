{
 "cells": [
  {
   "cell_type": "code",
   "execution_count": 1,
   "metadata": {},
   "outputs": [],
   "source": [
    "import pandas as pd\n",
    "import scanpy as sc"
   ]
  },
  {
   "cell_type": "code",
   "execution_count": 2,
   "metadata": {},
   "outputs": [],
   "source": [
    "# read MicroSPLIT dataset\n",
    "microsplit_data_path = 'C2_non_log_transformed.h5ad'\n",
    "adata = sc.read_h5ad(microsplit_data_path)\n",
    "microsplit_df = adata.to_df() # cell-by-gene matrix"
   ]
  },
  {
   "cell_type": "code",
   "execution_count": 3,
   "metadata": {},
   "outputs": [],
   "source": [
    "name_converter = {\n",
    "    'ecpR': 'matA',\n",
    "    'csiR': 'glaR',\n",
    "    'yneJ': 'ptrR'\n",
    "}\n",
    "microsplit_df = microsplit_df.rename(columns=name_converter)\n",
    "microsplit_df.index = microsplit_df.index.map(adata.obs['CRISPR_perturbation'].to_dict())\n",
    "microsplit_df = microsplit_df.sort_index()"
   ]
  },
  {
   "cell_type": "code",
   "execution_count": 4,
   "metadata": {},
   "outputs": [
    {
     "name": "stdout",
     "output_type": "stream",
     "text": [
      "genes not in MicroSPLIT dataset:\n",
      "['c0293', 'ydeO']\n"
     ]
    }
   ],
   "source": [
    "genes_not_in_microsplit = []\n",
    "for tf_name in ['fadR', 'lacI', 'tyrR']:\n",
    "    # read SERGIO dataset\n",
    "    sergio_data_path = f'../{tf_name}_all_ancestors_eqns_and_params_3_bins_sergio_data_noise.csv'\n",
    "    sim_data = pd.read_csv(sergio_data_path, index_col=1, ).drop(columns=['Unnamed: 0']).T\n",
    "    # if a gene is in simulated data but not in MicroSPLIT data, set its value as 0 in MicroSPLIT data\n",
    "    for gene_name in sim_data.columns:\n",
    "        if gene_name not in(microsplit_df.columns):\n",
    "            genes_not_in_microsplit.append(gene_name)\n",
    "            microsplit_df[gene_name] = 0\n",
    "    # extract Microsplit data that match the SERGIO output format\n",
    "    output_df = microsplit_df.loc[[tf_name, 'MG1655'], sim_data.columns].T.reset_index()\n",
    "    output_df.to_csv(f'{tf_name}_MicroSPLIT_all_ancestors_data.csv')\n",
    "print('genes not in MicroSPLIT dataset:')\n",
    "print(genes_not_in_microsplit)"
   ]
  }
 ],
 "metadata": {
  "kernelspec": {
   "display_name": "base",
   "language": "python",
   "name": "python3"
  },
  "language_info": {
   "codemirror_mode": {
    "name": "ipython",
    "version": 3
   },
   "file_extension": ".py",
   "mimetype": "text/x-python",
   "name": "python",
   "nbconvert_exporter": "python",
   "pygments_lexer": "ipython3",
   "version": "3.10.13"
  }
 },
 "nbformat": 4,
 "nbformat_minor": 2
}
